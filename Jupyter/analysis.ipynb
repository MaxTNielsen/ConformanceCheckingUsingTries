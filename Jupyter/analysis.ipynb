{
 "cells": [
  {
   "cell_type": "code",
   "execution_count": 1,
   "id": "cd4fa797",
   "metadata": {},
   "outputs": [],
   "source": [
    "import pandas as pd\n",
    "\n",
    "import numpy as np\n",
    "from numpy.polynomial import Polynomial\n",
    "from numpy.polynomial.polynomial import polyval\n",
    "\n",
    "import stats\n",
    "\n",
    "from scipy import stats\n",
    "\n",
    "import matplotlib.pyplot as plt\n",
    "\n",
    "import seaborn as sns\n",
    "\n",
    "import os\n",
    "\n",
    "from IPython.utils import io\n",
    "\n",
    "from utils import get_occ_dfs, get_hmmconf_df, get_bp_df\n",
    "import validation\n",
    "from validation import get_dataset_metrics, extract_filename, plot_bar_chart_comparison_, get_statistics, print_stat, print_procentual"
   ]
  },
  {
   "cell_type": "code",
   "execution_count": 2,
   "id": "688836e8",
   "metadata": {},
   "outputs": [],
   "source": [
    "INPUT_DIR = os.path.join('..','output')\n",
    "PREFIX_ALIGN_DIR = os.path.join(INPUT_DIR, 'prefix-alignment')\n",
    "PREFIX_W_1_DIR = os.path.join(PREFIX_ALIGN_DIR, 'window-size-1')\n",
    "PREFIX_W_INF_DIR = os.path.join(PREFIX_ALIGN_DIR, 'window-size-maximum')\n",
    "HMMCONF_DIR = os.path.join(INPUT_DIR,'hmmconf')\n",
    "C_3PA_DIR = os.path.join(INPUT_DIR,'C-3PO','test_avg_trace_length')\n",
    "OLD_OCC_DIR = os.path.join(INPUT_DIR,'C-3PO','old_occ')\n",
    "BP_DIR = os.path.join(INPUT_DIR,'bp')\n",
    "\n",
    "LOGS = [\"BPI_2017\",\"BPI_2012\",\"M1\",\"M2\",\"M3\",\"M4\",\"M5\",\"M6\",\"M7\",\"M8\",\"M9\",\"M10\"]\n",
    "LOG_TYPES = ['completeness20', 'completeness50', 'sim']\n",
    "COMPLETENESS_LOGS = ['completeness20','completeness50']"
   ]
  },
  {
   "cell_type": "code",
   "execution_count": 3,
   "id": "89b2c5de",
   "metadata": {},
   "outputs": [],
   "source": [
    "#!jt -t grade3\n",
    "#!jt -t chesterish\n",
    "#jupyter nbconvert --to webpdf --no-input .\\analysis.ipynb"
   ]
  },
  {
   "cell_type": "markdown",
   "id": "8055b51a",
   "metadata": {},
   "source": [
    "## Datasets\n",
    "note: Kristo can share his insights\n",
    "- completeness logs\n",
    "- regular logs\n",
    "- model types\n",
    "\n",
    "#### Logs overview\n",
    "##### BPI proxy logs:\n",
    "\n",
    "These proxy logs are used in the validation of completeness:\n",
    "- BPI_2012_frequencyLog.xml\n",
    "- BPI_2017_frequencyLog.xml\n",
    "\n",
    "Thse proxy logs are used in the comparison evaluation:\n",
    "- BPI_2017_Sim_2k_random_0.95.xes\n",
    "- BPI_2012_Sim_2k_random_0.95.xes\n",
    "\n",
    "There is no difference in alignment cost between the configurations (IWS, ws root state, and ws all states) when I use the BPI_XXXX_Sim_2k_random_0.95.xes proxy logs.\n",
    "\n",
    "When I use the frequencyLog as proxy log for the comparison between state of the art OCC algorithms - the conformance cost of the BPI_XXXX logs is incompatible with the algorithms to a degree where the i.e correlation with the algorithms changes drastically and the p value deems some correlations statistically insignificant. Thus I used the Sim_2k_random as proxy logs for the comparison experiments."
   ]
  },
  {
   "cell_type": "markdown",
   "id": "50e81651",
   "metadata": {},
   "source": [
    "## Preprocessing"
   ]
  },
  {
   "cell_type": "code",
   "execution_count": 4,
   "id": "36a22318",
   "metadata": {},
   "outputs": [],
   "source": [
    "from IPython.utils import io\n",
    "\n",
    "occ_output_dirs = [C_3PA_DIR, PREFIX_W_1_DIR, PREFIX_W_INF_DIR, HMMCONF_DIR, BP_DIR]\n",
    "with io.capture_output() as captured:\n",
    "    C_3PA_LOGS = [\"BPI_2017\",\"BPI_2012\",\"M1\",\"M2\",\"M3\",\"M4\",\"M5\",\"M6\",\"M7\",\"M8\",\"M9\",\"M10\"]\n",
    "    C_3PA_df = get_occ_dfs(occ_output_dirs[0], C_3PA_LOGS, True)\n",
    "\n",
    "    PREF_W_1_LOGS = [\"BPI_2017\",\"BPI_2012\",\"M1\",\"M2\",\"M4\",\"M8\",\"M9\"]\n",
    "    pref_w_1_df = get_occ_dfs(occ_output_dirs[1], PREF_W_1_LOGS)\n",
    "\n",
    "    PREF_W_INF_LOGS = [\"BPI_2017\",\"BPI_2012\",\"M1\",\"M2\",\"M4\",\"M8\",\"M9\"]\n",
    "    pref_w_inf_df = get_occ_dfs(occ_output_dirs[2], PREF_W_INF_LOGS)\n",
    "\n",
    "    HMMCONF_LOGS = [\"BPI_2017\",\"BPI_2012\",\"M1\",\"M2\",\"M4\",\"M8\",\"M9\"]\n",
    "    hmmconf_df = get_hmmconf_df(occ_output_dirs[3], HMMCONF_LOGS)\n",
    "\n",
    "    BP_LOGS = [\"BPI_2017\",\"BPI_2012\",\"M1\",\"M2\",\"M8\"]\n",
    "    BP_df = get_bp_df(occ_output_dirs[4], BP_LOGS)"
   ]
  },
  {
   "cell_type": "code",
   "execution_count": 5,
   "id": "0d6f2b4a",
   "metadata": {},
   "outputs": [
    {
     "name": "stdout",
     "output_type": "stream",
     "text": [
      "3PO\n",
      "<class 'pandas.core.frame.DataFrame'>\n",
      "RangeIndex: 21000 entries, 0 to 20999\n",
      "Data columns (total 8 columns):\n",
      " #   Column             Non-Null Count  Dtype  \n",
      "---  ------             --------------  -----  \n",
      " 0   TraceId            21000 non-null  int64  \n",
      " 1   TraceLength        21000 non-null  int64  \n",
      " 2   Conformance cost   21000 non-null  float64\n",
      " 3   Completeness cost  21000 non-null  float64\n",
      " 4   Confidence cost    21000 non-null  float64\n",
      " 5   ExecutionTime      21000 non-null  float64\n",
      " 6   model              21000 non-null  object \n",
      " 7   log_type           21000 non-null  object \n",
      "dtypes: float64(4), int64(2), object(2)\n",
      "memory usage: 1.3+ MB\n",
      "None\n",
      "________________________________________________________________________________\n"
     ]
    }
   ],
   "source": [
    "print(\"3PO\")\n",
    "print(C_3PA_df.info())\n",
    "print(80*\"_\")"
   ]
  },
  {
   "cell_type": "code",
   "execution_count": 6,
   "id": "d08eb54a",
   "metadata": {},
   "outputs": [
    {
     "name": "stdout",
     "output_type": "stream",
     "text": [
      "W-1\n",
      "<class 'pandas.core.frame.DataFrame'>\n",
      "RangeIndex: 13500 entries, 0 to 13499\n",
      "Data columns (total 5 columns):\n",
      " #   Column            Non-Null Count  Dtype  \n",
      "---  ------            --------------  -----  \n",
      " 0   TraceId           13500 non-null  int64  \n",
      " 1   Conformance cost  13500 non-null  float64\n",
      " 2   ExecutionTime     13500 non-null  float64\n",
      " 3   model             13500 non-null  object \n",
      " 4   log_type          13500 non-null  object \n",
      "dtypes: float64(2), int64(1), object(2)\n",
      "memory usage: 527.5+ KB\n",
      "None\n",
      "________________________________________________________________________________\n"
     ]
    }
   ],
   "source": [
    "print(\"W-1\")\n",
    "print(pref_w_1_df.info())\n",
    "print(80*\"_\")"
   ]
  },
  {
   "cell_type": "code",
   "execution_count": 7,
   "id": "703034e8",
   "metadata": {},
   "outputs": [
    {
     "name": "stdout",
     "output_type": "stream",
     "text": [
      "W-inf\n",
      "<class 'pandas.core.frame.DataFrame'>\n",
      "RangeIndex: 13500 entries, 0 to 13499\n",
      "Data columns (total 5 columns):\n",
      " #   Column            Non-Null Count  Dtype  \n",
      "---  ------            --------------  -----  \n",
      " 0   TraceId           13500 non-null  int64  \n",
      " 1   Conformance cost  13500 non-null  float64\n",
      " 2   ExecutionTime     13500 non-null  float64\n",
      " 3   model             13500 non-null  object \n",
      " 4   log_type          13500 non-null  object \n",
      "dtypes: float64(2), int64(1), object(2)\n",
      "memory usage: 527.5+ KB\n",
      "None\n",
      "________________________________________________________________________________\n"
     ]
    }
   ],
   "source": [
    "print(\"W-inf\")\n",
    "print(pref_w_inf_df.info())\n",
    "print(80*\"_\")"
   ]
  },
  {
   "cell_type": "code",
   "execution_count": 8,
   "id": "b4bc5719",
   "metadata": {},
   "outputs": [
    {
     "name": "stdout",
     "output_type": "stream",
     "text": [
      "hmmconf\n",
      "<class 'pandas.core.frame.DataFrame'>\n",
      "RangeIndex: 57887 entries, 0 to 57886\n",
      "Data columns (total 9 columns):\n",
      " #   Column             Non-Null Count  Dtype  \n",
      "---  ------             --------------  -----  \n",
      " 0   TraceId            57887 non-null  float64\n",
      " 1   ExecutionTime      57887 non-null  float64\n",
      " 2   emitconf           57887 non-null  float64\n",
      " 3   stateconf          57887 non-null  float64\n",
      " 4   finalconf          57887 non-null  float64\n",
      " 5   injected_distance  57887 non-null  float64\n",
      " 6   completeness       57887 non-null  float64\n",
      " 7   model              57887 non-null  object \n",
      " 8   log_type           57887 non-null  object \n",
      "dtypes: float64(7), object(2)\n",
      "memory usage: 4.0+ MB\n",
      "None\n",
      "Traces total: 2610\n",
      "________________________________________________________________________________\n"
     ]
    }
   ],
   "source": [
    "print(\"hmmconf\")\n",
    "print(hmmconf_df.info())\n",
    "print(\"Traces total: {}\".format(hmmconf_df.groupby(['model','log_type','TraceId']).agg({'ExecutionTime': np.sum}).shape[0]))\n",
    "print(80*\"_\")"
   ]
  },
  {
   "cell_type": "code",
   "execution_count": 9,
   "id": "fc8c38e6",
   "metadata": {},
   "outputs": [
    {
     "name": "stdout",
     "output_type": "stream",
     "text": [
      "BP\n",
      "<class 'pandas.core.frame.DataFrame'>\n",
      "RangeIndex: 206418 entries, 0 to 206417\n",
      "Data columns (total 8 columns):\n",
      " #   Column         Non-Null Count   Dtype  \n",
      "---  ------         --------------   -----  \n",
      " 0   TraceId        206418 non-null  int32  \n",
      " 1   activityId     206418 non-null  object \n",
      " 2   conformance    206418 non-null  float64\n",
      " 3   completeness   206418 non-null  float64\n",
      " 4   confidence     206418 non-null  float64\n",
      " 5   ExecutionTime  206418 non-null  float64\n",
      " 6   model          206418 non-null  object \n",
      " 7   log_type       206418 non-null  object \n",
      "dtypes: float64(4), int32(1), object(3)\n",
      "memory usage: 11.8+ MB\n",
      "None\n",
      "Traces total: 10500\n",
      "________________________________________________________________________________\n"
     ]
    }
   ],
   "source": [
    "print(\"BP\")\n",
    "print(BP_df.info())\n",
    "print(\"Traces total: {}\".format(BP_df.groupby(['model','log_type','TraceId']).agg({'ExecutionTime': np.sum}).shape[0]))\n",
    "print(80*\"_\")"
   ]
  },
  {
   "cell_type": "code",
   "execution_count": 10,
   "id": "e9b71fdf",
   "metadata": {},
   "outputs": [
    {
     "name": "stdout",
     "output_type": "stream",
     "text": [
      "C_3PA_df\n",
      "       Completeness cost  Conformance cost  Confidence cost  ExecutionTime\n",
      "count       21000.000000      21000.000000      21000.00000   21000.000000\n",
      "mean            3.667286         20.462476         12.60300     164.961171\n",
      "std             6.057687         17.256273         15.57984     463.397686\n",
      "min             0.000000          0.000000          0.00000       0.000000\n",
      "25%             0.000000          8.000000          0.00000       0.000000\n",
      "50%             1.000000         17.000000          7.00000       0.400000\n",
      "75%             5.000000         28.000000         21.00000      19.600000\n",
      "max            52.000000        229.000000        114.00000    7140.000000\n",
      "________________________________________________________________________________\n"
     ]
    }
   ],
   "source": [
    "print(\"C_3PA_df\")\n",
    "print(C_3PA_df[['Completeness cost', 'Conformance cost', 'Confidence cost', 'ExecutionTime']].describe())\n",
    "print(80*\"_\")"
   ]
  },
  {
   "cell_type": "code",
   "execution_count": 11,
   "id": "852f0fd7",
   "metadata": {},
   "outputs": [
    {
     "name": "stdout",
     "output_type": "stream",
     "text": [
      "pref_w_1_df\n",
      "       Conformance cost  ExecutionTime\n",
      "count      13500.000000    13500.00000\n",
      "mean          18.308296       52.99117\n",
      "std           13.809845      328.98143\n",
      "min            0.000000        0.00000\n",
      "25%            8.000000        1.00000\n",
      "50%           15.000000        9.00000\n",
      "75%           25.000000       27.05000\n",
      "max          167.000000    18745.80000\n",
      "________________________________________________________________________________\n"
     ]
    }
   ],
   "source": [
    "print(\"pref_w_1_df\")\n",
    "print(pref_w_1_df[['Conformance cost', 'ExecutionTime']].describe())\n",
    "print(80*\"_\")"
   ]
  },
  {
   "cell_type": "code",
   "execution_count": 12,
   "id": "08c579d5",
   "metadata": {},
   "outputs": [
    {
     "name": "stdout",
     "output_type": "stream",
     "text": [
      "pref_w_inf_df\n",
      "       Conformance cost  ExecutionTime\n",
      "count      13500.000000   13500.000000\n",
      "mean          15.679481      93.575822\n",
      "std           12.273799     564.314328\n",
      "min            0.000000       0.000000\n",
      "25%            7.000000       3.400000\n",
      "50%           12.000000      14.600000\n",
      "75%           21.000000      48.600000\n",
      "max          162.000000   31814.800000\n",
      "________________________________________________________________________________\n"
     ]
    }
   ],
   "source": [
    "print(\"pref_w_inf_df\")\n",
    "print(pref_w_inf_df[['Conformance cost', 'ExecutionTime']].describe())\n",
    "print(80*\"_\")"
   ]
  },
  {
   "cell_type": "code",
   "execution_count": 13,
   "id": "71df334c",
   "metadata": {},
   "outputs": [
    {
     "name": "stdout",
     "output_type": "stream",
     "text": [
      "hmmconf\n",
      "       ExecutionTime     finalconf  injected_distance  completeness\n",
      "count   57887.000000  57887.000000       57887.000000  57887.000000\n",
      "mean        0.170401      0.471245          16.133329      0.633755\n",
      "std         0.719483      0.406406          28.334374      0.251678\n",
      "min         0.000000      0.000000           0.000000      0.111111\n",
      "25%         0.000000      0.090550           2.000000      0.400000\n",
      "50%         0.000000      0.373504           7.000000      0.666667\n",
      "75%         0.000000      0.980377          16.000000      0.846154\n",
      "max        42.486520      1.000000         419.000000      1.000000\n",
      "________________________________________________________________________________\n"
     ]
    }
   ],
   "source": [
    "print(\"hmmconf\")\n",
    "print(hmmconf_df[['ExecutionTime', 'finalconf', 'injected_distance', 'completeness']].describe())\n",
    "print(80*\"_\")"
   ]
  },
  {
   "cell_type": "code",
   "execution_count": 14,
   "id": "65370cc9",
   "metadata": {},
   "outputs": [
    {
     "name": "stdout",
     "output_type": "stream",
     "text": [
      "BP_df\n",
      "       ExecutionTime    conformance   completeness     confidence\n",
      "count  206418.000000  206418.000000  206418.000000  206418.000000\n",
      "mean        0.001917       0.374243       0.693455       0.657628\n",
      "std         0.034577       0.178135       0.287139       0.235074\n",
      "min         0.000220       0.000000       0.000000       0.000000\n",
      "25%         0.000900       0.250000       0.476190       0.520000\n",
      "50%         0.001140       0.361667       0.771429       0.680000\n",
      "75%         0.001480       0.487968       1.000000       0.840000\n",
      "max         6.432220       1.000000       1.000000       1.000000\n",
      "________________________________________________________________________________\n"
     ]
    }
   ],
   "source": [
    "print(\"BP_df\")\n",
    "print(BP_df[['ExecutionTime', 'conformance', 'completeness', 'confidence']].describe())\n",
    "print(80*\"_\")"
   ]
  },
  {
   "cell_type": "markdown",
   "id": "4374d757",
   "metadata": {},
   "source": [
    "## Validation"
   ]
  },
  {
   "cell_type": "code",
   "execution_count": 15,
   "id": "17006cee",
   "metadata": {},
   "outputs": [],
   "source": [
    "dims_14 = {'conf': 1, 'trace_length': 2, 'time': 3}\n",
    "avg_costs_14 = {'conf': [], 'trace_length': [], 'time': []}\n",
    "\n",
    "dims_25 = {'conf': 1, 'compl': 2, 'confi': 3, 'total': 4, 'trace_length': 5, 'time': 6}\n",
    "avg_costs_25 = {'conf': [], 'compl': [], 'confi': [], 'total': [], 'trace_length': [], 'time': []}\n",
    "\n",
    "no_compl_no_conf_dict, dict_keys = get_dataset_metrics(\n",
    "   INPUT_DIR+\"/tripleocc_runs/no_compl_no_conf\", dims=dims_14, avg_costs=avg_costs_14, regex_f=extract_filename)\n",
    "# no_compl_avg_dict, _ = get_dataset_metrics(\n",
    "#     INPUT_DIR+\"/tripleocc_runs/no_compl_avg\", dims=dims_25, avg_costs=avg_costs_25, regex_f=extract_filename)\n",
    "# no_compl_min_dict, _ = get_dataset_metrics(\n",
    "#     INPUT_DIR+\"/tripleocc_runs/no_compl_min\", dims=dims_25, avg_costs=avg_costs_25, regex_f=extract_filename)\n",
    "no_conf_ws_root_dict, dict_keys_ = get_dataset_metrics(\n",
    "    INPUT_DIR+\"/tripleocc_runs/no_conf_ws_root\", dims=dims_25, avg_costs=avg_costs_25, regex_f=extract_filename)\n",
    "no_conf_ws_all_states_dict, _  = get_dataset_metrics(\n",
    "    INPUT_DIR+\"/tripleocc_runs/no_conf_ws_all_compressed\", dims=dims_25, avg_costs=avg_costs_25, regex_f=extract_filename)"
   ]
  },
  {
   "cell_type": "markdown",
   "id": "810dc603",
   "metadata": {},
   "source": [
    "### Completeness"
   ]
  },
  {
   "cell_type": "code",
   "execution_count": 16,
   "id": "52ad710b",
   "metadata": {},
   "outputs": [],
   "source": [
    "no_compl_no_conf_compl_stats=get_statistics(no_compl_no_conf_dict, validation.completeness_output)\n",
    "no_conf_ws_all_stats=get_statistics(no_conf_ws_all_states_dict, validation.completeness_output)\n",
    "no_conf_ws_root_stats=get_statistics(no_conf_ws_root_dict, validation.completeness_output)"
   ]
  },
  {
   "cell_type": "code",
   "execution_count": 17,
   "id": "511eadf3",
   "metadata": {},
   "outputs": [
    {
     "data": {
      "image/png": "[encoded data removed]",
      "text/plain": [
       "<Figure size 1152x648 with 1 Axes>"
      ]
     },
     "metadata": {
      "needs_background": "light"
     },
     "output_type": "display_data"
    },
    {
     "name": "stdout",
     "output_type": "stream",
     "text": [
      "ws root stats:\n",
      "ws root: mean mean all logs 16.641 - IWS: mean mean all logs 17.961\n",
      "ws root: mean std all logs 9.803 - IWS: mean std all logs 9.461\n",
      "Decrease % in conformance: -7.349\n",
      "--------------------------------------------------------------------------------\n",
      "ws all stats:\n",
      "ws all: mean mean all logs 14.886 - IWS: mean mean all logs 17.961\n",
      "ws all: mean std all logs 9.114 - IWS: mean std all logs 9.461\n",
      "Decrease % in conformance: -17.12\n"
     ]
    },
    {
     "data": {
      "text/plain": [
       "<Figure size 432x288 with 0 Axes>"
      ]
     },
     "metadata": {},
     "output_type": "display_data"
    }
   ],
   "source": [
    "\"\"\"Grouped bar chart - ws root\"\"\"\n",
    "plt.rcParams.update({'font.size': 22})\n",
    "plot_bar_chart_comparison_(validation.completeness_labels, no_compl_no_conf_compl_stats,\n",
    "                            no_conf_ws_root_stats, no_conf_ws_all_stats,'mean', ['ws_none', 'ws_root', 'ws_all'], \"alignment cost\", \"avg alignment cost pr log\")\n",
    "\n",
    "print(\"ws root stats:\")\n",
    "print_stat('mean', no_conf_ws_root_stats, no_compl_no_conf_compl_stats, \"ws root\", \"IWS\")\n",
    "print_stat('std', no_conf_ws_root_stats, no_compl_no_conf_compl_stats,  \"ws root\", \"IWS\")\n",
    "print(print_procentual('mean','conformance',no_conf_ws_root_stats, no_compl_no_conf_compl_stats))\n",
    "print(40*\"--\")\n",
    "print(\"ws all stats:\")\n",
    "print_stat('mean', no_conf_ws_all_stats, no_compl_no_conf_compl_stats, \"ws all\", \"IWS\")\n",
    "print_stat('std', no_conf_ws_all_stats, no_compl_no_conf_compl_stats,  \"ws all\", \"IWS\")\n",
    "print(print_procentual('mean','conformance',no_conf_ws_all_stats, no_compl_no_conf_compl_stats))\n",
    "plt.savefig(\"images/avg alingment cost pr log - completeness.pdf\")\n",
    "#plt.show()\n",
    "#plt.close()"
   ]
  },
  {
   "cell_type": "markdown",
   "id": "f5fd1bae",
   "metadata": {},
   "source": [
    "##### Mean execution time comparison"
   ]
  },
  {
   "cell_type": "code",
   "execution_count": 18,
   "id": "8656965a",
   "metadata": {},
   "outputs": [],
   "source": [
    "# from sklearn.preprocessing import MinMaxScaler\n",
    "\n",
    "# data_dicts = [no_compl_no_conf_dict, no_conf_ws_all_states_dict, no_conf_ws_root_dict]\n",
    "# for log in validation.completeness_output:\n",
    "#     scaler = MinMaxScaler()\n",
    "#     scaler.fit(np.asarray(no_compl_no_conf_dict[log]['time'] + no_conf_ws_all_states_dict[log]['time'] + no_conf_ws_root_dict[log]['time']).reshape(-1,1))\n",
    "#     for dict_ in data_dicts:\n",
    "#         dict_[log]['time'] = scaler.transform(np.asarray(dict_[log]['time']).reshape(-1,1)).flatten()"
   ]
  },
  {
   "cell_type": "code",
   "execution_count": 19,
   "id": "b6f9f9f6",
   "metadata": {},
   "outputs": [
    {
     "data": {
      "image/png": "[encoded data removed]",
      "text/plain": [
       "<Figure size 1152x648 with 1 Axes>"
      ]
     },
     "metadata": {
      "needs_background": "light"
     },
     "output_type": "display_data"
    },
    {
     "name": "stdout",
     "output_type": "stream",
     "text": [
      "ws root stats:\n",
      "ws root: mean time all logs 2.307 - IWS: mean time all logs 2.048\n",
      "ws root: mean time_std all logs 0.753 - IWS: mean time_std all logs 0.557\n",
      "--------------------------------------------------------------------------------\n",
      "ws all stats:\n",
      "ws all: mean time all logs 5.523 - IWS: mean time all logs 2.048\n",
      "ws all: mean time_std all logs 2.531 - IWS: mean time_std all logs 0.557\n",
      "--------------------------------------------------------------------------------\n",
      "ws_root time comparison with standard - Increase % in time: 12.646\n",
      "ws_all time comparison with standard - Increase % in time: 169.678\n",
      "ws_all time comparison with ws_root - Increase % in time: 139.402\n"
     ]
    },
    {
     "data": {
      "text/plain": [
       "<Figure size 432x288 with 0 Axes>"
      ]
     },
     "metadata": {},
     "output_type": "display_data"
    }
   ],
   "source": [
    "plt.rcParams.update({'font.size': 22})\n",
    "plot_bar_chart_comparison_(validation.completeness_labels, no_compl_no_conf_compl_stats,\n",
    "                          no_conf_ws_root_stats, no_conf_ws_all_stats,'time', ['ws_none', 'ws_root', 'ws_all'], \"time (m/s)\", \"avg miliseconds pr event in log\", True)\n",
    "print(\"ws root stats:\")\n",
    "print_stat('time', no_conf_ws_root_stats, no_compl_no_conf_compl_stats, \"ws root\", \"IWS\")\n",
    "print_stat('time_std', no_conf_ws_root_stats, no_compl_no_conf_compl_stats,  \"ws root\", \"IWS\")\n",
    "print(40*\"--\")\n",
    "print(\"ws all stats:\")\n",
    "print_stat('time', no_conf_ws_all_stats, no_compl_no_conf_compl_stats, \"ws all\", \"IWS\")\n",
    "print_stat('time_std', no_conf_ws_all_stats, no_compl_no_conf_compl_stats,  \"ws all\", \"IWS\")\n",
    "print(40*\"--\")\n",
    "print(\"ws_root time comparison with standard - \"+print_procentual('time','time',no_conf_ws_root_stats, no_compl_no_conf_compl_stats))\n",
    "print(\"ws_all time comparison with standard - \"+print_procentual('time','time',no_conf_ws_all_stats, no_compl_no_conf_compl_stats))\n",
    "print(\"ws_all time comparison with ws_root - \"+print_procentual('time','time',no_conf_ws_all_stats, no_conf_ws_root_stats))\n",
    "\n",
    "plt.savefig(\"images/avg miliseconds pr event in log - completeness.pdf\")\n",
    "#plt.show()\n",
    "#plt.close()"
   ]
  },
  {
   "cell_type": "markdown",
   "id": "8607acd7",
   "metadata": {},
   "source": [
    "#### Completeness all logs"
   ]
  },
  {
   "cell_type": "code",
   "execution_count": 20,
   "id": "332971c0",
   "metadata": {},
   "outputs": [],
   "source": [
    "no_compl_no_conf_compl_stats = get_statistics(no_compl_no_conf_dict, validation.normal_output)\n",
    "no_conf_ws_root_stats = get_statistics(no_conf_ws_root_dict, validation.normal_output)\n",
    "no_conf_ws_all_stats = get_statistics(no_conf_ws_all_states_dict, validation.normal_output)"
   ]
  },
  {
   "cell_type": "code",
   "execution_count": 21,
   "id": "cfbf9c1b",
   "metadata": {},
   "outputs": [
    {
     "data": {
      "image/png": "[encoded data removed]",
      "text/plain": [
       "<Figure size 1152x648 with 1 Axes>"
      ]
     },
     "metadata": {
      "needs_background": "light"
     },
     "output_type": "display_data"
    },
    {
     "name": "stdout",
     "output_type": "stream",
     "text": [
      "ws root stats:\n",
      "ws root: mean mean all logs 21.626 - IWS: mean mean all logs 21.658\n",
      "ws root: mean std all logs 14.62 - IWS: mean std all logs 14.62\n",
      "Decrease % in conformance: -0.148\n",
      "--------------------------------------------------------------------------------\n",
      "ws all stats:\n",
      "ws all: mean mean all logs 21.386 - IWS: mean mean all logs 21.658\n",
      "ws all: mean std all logs 14.571 - IWS: mean std all logs 14.62\n",
      "Decrease % in conformance: -1.256\n"
     ]
    },
    {
     "data": {
      "text/plain": [
       "<Figure size 432x288 with 0 Axes>"
      ]
     },
     "metadata": {},
     "output_type": "display_data"
    }
   ],
   "source": [
    "\"\"\" grouped bar chart ws root \"\"\"\n",
    "plt.rcParams.update({'font.size': 22})\n",
    "plot_bar_chart_comparison_(validation.normal_labels, no_compl_no_conf_compl_stats,\n",
    "                          no_conf_ws_root_stats, no_conf_ws_all_stats, 'mean', ['ws_none', 'ws_root', 'ws_all'], \"alignment cost\", \"avg alignment cost pr log\")\n",
    "\n",
    "print(\"ws root stats:\")\n",
    "print_stat('mean', no_conf_ws_root_stats, no_compl_no_conf_compl_stats, \"ws root\", \"IWS\")\n",
    "print_stat('std', no_conf_ws_root_stats, no_compl_no_conf_compl_stats,  \"ws root\", \"IWS\")\n",
    "print(print_procentual('mean','conformance',no_conf_ws_root_stats, no_compl_no_conf_compl_stats))\n",
    "print(40*\"--\")\n",
    "print(\"ws all stats:\")\n",
    "print_stat('mean', no_conf_ws_all_stats, no_compl_no_conf_compl_stats, \"ws all\", \"IWS\")\n",
    "print_stat('std', no_conf_ws_all_stats, no_compl_no_conf_compl_stats,  \"ws all\", \"IWS\")\n",
    "print(print_procentual('mean','conformance',no_conf_ws_all_stats, no_compl_no_conf_compl_stats))\n",
    "\n",
    "plt.savefig(\"images/avg alignment cost pr log - all logs.pdf\")\n",
    "#plt.show()\n",
    "#plt.close()"
   ]
  },
  {
   "cell_type": "markdown",
   "id": "ca4cacf8",
   "metadata": {},
   "source": [
    "##### Mean execution time comparison"
   ]
  },
  {
   "cell_type": "code",
   "execution_count": 22,
   "id": "4168ac49",
   "metadata": {},
   "outputs": [
    {
     "data": {
      "image/png": "[encoded data removed]",
      "text/plain": [
       "<Figure size 1152x648 with 1 Axes>"
      ]
     },
     "metadata": {
      "needs_background": "light"
     },
     "output_type": "display_data"
    },
    {
     "name": "stdout",
     "output_type": "stream",
     "text": [
      "ws root stats:\n",
      "ws root: mean time all logs 1.141 - IWS: mean time all logs 0.936\n",
      "ws root: mean time_std all logs 0.398 - IWS: mean time_std all logs 0.328\n",
      "--------------------------------------------------------------------------------\n",
      "ws all stats:\n",
      "ws all: mean time all logs 3.848 - IWS: mean time all logs 0.936\n",
      "ws all: mean time_std all logs 1.941 - IWS: mean time_std all logs 0.328\n",
      "--------------------------------------------------------------------------------\n",
      "ws_root time comparison with standard - Increase % in time: 21.902\n",
      "--------------------------------------------------------------------------------\n",
      "ws_all time comparison with standard - Increase % in time: 311.111\n",
      "--------------------------------------------------------------------------------\n",
      "ws_all time comparison with ws_root - Increase % in time: 237.248\n"
     ]
    },
    {
     "data": {
      "text/plain": [
       "<Figure size 432x288 with 0 Axes>"
      ]
     },
     "metadata": {},
     "output_type": "display_data"
    }
   ],
   "source": [
    "plt.rcParams.update({'font.size': 22})\n",
    "plot_bar_chart_comparison_(validation.normal_labels, no_compl_no_conf_compl_stats,\n",
    "                          no_conf_ws_root_stats, no_conf_ws_all_stats,'time', ['ws_none', 'ws_root', 'ws_all'], \"time (m/s)\", \"avg miliseconds pr event in log\", True)\n",
    "\n",
    "print(\"ws root stats:\")\n",
    "print_stat('time', no_conf_ws_root_stats, no_compl_no_conf_compl_stats, \"ws root\", \"IWS\")\n",
    "print_stat('time_std', no_conf_ws_root_stats, no_compl_no_conf_compl_stats,  \"ws root\", \"IWS\")\n",
    "print(40*\"--\")\n",
    "print(\"ws all stats:\")\n",
    "print_stat('time', no_conf_ws_all_stats, no_compl_no_conf_compl_stats, \"ws all\", \"IWS\")\n",
    "print_stat('time_std', no_conf_ws_all_stats, no_compl_no_conf_compl_stats,  \"ws all\", \"IWS\")\n",
    "print(40*\"--\")\n",
    "print(\"ws_root time comparison with standard - \"+print_procentual('time','time',no_conf_ws_root_stats, no_compl_no_conf_compl_stats))\n",
    "print(40*\"--\")\n",
    "print(\"ws_all time comparison with standard - \"+print_procentual('time','time',no_conf_ws_all_stats, no_compl_no_conf_compl_stats))\n",
    "print(40*\"--\")\n",
    "print(\"ws_all time comparison with ws_root - \"+print_procentual('time','time',no_conf_ws_all_stats, no_conf_ws_root_stats))\n",
    "\n",
    "plt.savefig(\"images/avg miliseconds pr event in log - all logs.pdf\")\n",
    "#plt.show()\n",
    "#plt.close()"
   ]
  },
  {
   "cell_type": "markdown",
   "id": "7f05d441",
   "metadata": {},
   "source": [
    "#### Kristo\n",
    "\n",
    "Further down in the time and memory evaluation - it is shown how correlated alignment length and execution time is. Both M6 and M10 contains alignments in the hundreds."
   ]
  },
  {
   "cell_type": "markdown",
   "id": "49a8177c",
   "metadata": {},
   "source": [
    "### Confidence"
   ]
  },
  {
   "cell_type": "code",
   "execution_count": null,
   "id": "000da098",
   "metadata": {},
   "outputs": [],
   "source": [
    "dims_14 = {'conf': 1, 'trace_length': 2, 'time': 3}\n",
    "avg_costs_14 = {'conf': [], 'trace_length': [], 'time': []}\n",
    "\n",
    "dims_25 = {'conf': 1, 'compl': 2, 'confi': 3, 'total': 4, 'trace_length': 5, 'time': 6}\n",
    "avg_costs_25 = {'conf': [], 'compl': [], 'confi': [], 'total': [], 'trace_length': [], 'time': []}\n",
    "\n",
    "no_compl_no_conf_dict, dict_keys = get_dataset_metrics(\n",
    "   INPUT_DIR+\"/tripleocc_runs/no_compl_no_conf\", dims=dims_14, avg_costs=avg_costs_14, regex_f=extract_filename)\n",
    "# no_compl_avg_dict, _ = get_dataset_metrics(\n",
    "#     INPUT_DIR+\"/tripleocc_runs/no_compl_avg\", dims=dims_25, avg_costs=avg_costs_25, regex_f=extract_filename)\n",
    "# no_compl_min_dict, _ = get_dataset_metrics(\n",
    "#     INPUT_DIR+\"/tripleocc_runs/no_compl_min\", dims=dims_25, avg_costs=avg_costs_25, regex_f=extract_filename)\n",
    "no_conf_ws_root_dict, dict_keys_ = get_dataset_metrics(\n",
    "    INPUT_DIR+\"/tripleocc_runs/no_conf_ws_root\", dims=dims_25, avg_costs=avg_costs_25, regex_f=extract_filename)\n",
    "no_conf_ws_all_states_dict, _  = get_dataset_metrics(\n",
    "    INPUT_DIR+\"/tripleocc_runs/no_conf_ws_all_compressed\", dims=dims_25, avg_costs=avg_costs_25, regex_f=extract_filename)"
   ]
  },
  {
   "cell_type": "code",
   "execution_count": null,
   "id": "62022679",
   "metadata": {},
   "outputs": [],
   "source": [
    "# no_compl_no_conf_conf_stats = get_statistics(no_compl_no_conf_dict, validation.confidence_output)\n",
    "# no_compl_avg_conf_stats = get_statistics(no_compl_avg_dict, validation.confidence_output)\n",
    "# no_compl_min_conf_stats = get_statistics(no_compl_min_dict, validation.confidence_output)"
   ]
  },
  {
   "cell_type": "code",
   "execution_count": null,
   "id": "f8b5a938",
   "metadata": {},
   "outputs": [],
   "source": [
    "# \"\"\"Grouped bar chart - confidence average\"\"\"\n",
    "\n",
    "# plot_bar_chart_comparison(validation.confidence_output, no_compl_no_conf_conf_stats,\n",
    "#                           no_compl_avg_conf_stats, 'mean', ['standard', 'avg'], \"alignment cost\", \"avg alignment cost pr log\")\n",
    "\n",
    "# print(\"no completeness avg conf stats:\")\n",
    "# print_stat('mean', no_compl_avg_conf_stats, no_compl_no_conf_conf_stats, \"avg conf\", \"IWS\")\n",
    "# print_stat('std', no_compl_avg_conf_stats, no_compl_no_conf_conf_stats,  \"avg conf\", \"IWS\")\n",
    "# print_procentual('mean','conformance',no_compl_avg_conf_stats, no_compl_no_conf_conf_stats)\n"
   ]
  },
  {
   "cell_type": "code",
   "execution_count": null,
   "id": "0dba1e6b",
   "metadata": {},
   "outputs": [],
   "source": [
    "# plot_bar_chart_comparison(validation.confidence_output, no_compl_no_conf_conf_stats,\n",
    "#                           no_compl_min_conf_stats, 'mean', ['standard', 'min'], \"alignment cost\", \"avg alignment cost pr log\")\n",
    "\n",
    "# print(\"no completeness min conf stats:\")\n",
    "# print_stat('mean', no_compl_min_conf_stats, no_compl_no_conf_conf_stats, \"min conf\", \"IWS\")\n",
    "# print_stat('std', no_compl_min_conf_stats, no_compl_no_conf_conf_stats,  \"min conf\", \"IWS\")\n",
    "# print_procentual('mean','conformance',no_compl_min_conf_stats, no_compl_no_conf_conf_stats)"
   ]
  },
  {
   "cell_type": "markdown",
   "id": "2080547e",
   "metadata": {},
   "source": [
    "## Stress test\n",
    "\n",
    "- Operating system: Windows 11 Home 64-bit\n",
    "- Processor: AMD Ryzen 7 5800 8-Core Processor (16 CPUs) ~3.4 GHz\n",
    "- Memory: 16384MB RAM\n",
    "\n",
    "Stress test was carried out by running each algorithm on the datasets 5 times and averaging the execution times to level out system resource interference while running the experiments.\n"
   ]
  },
  {
   "cell_type": "markdown",
   "id": "e10d0660",
   "metadata": {},
   "source": [
    "### Average computation time per trace"
   ]
  },
  {
   "cell_type": "code",
   "execution_count": null,
   "id": "12637ccb",
   "metadata": {},
   "outputs": [],
   "source": [
    "C_3PA_test = C_3PA_df.copy()[~C_3PA_df.log_type.isin(COMPLETENESS_LOGS)]\n",
    "pref_w_1_test = pref_w_1_df.copy()[~pref_w_1_df.log_type.isin(COMPLETENESS_LOGS)]\n",
    "pref_w_inf_test = pref_w_inf_df.copy()[~pref_w_inf_df.log_type.isin(COMPLETENESS_LOGS)]\n",
    "BP_test = BP_df.copy()[~BP_df.log_type.isin(COMPLETENESS_LOGS)]\n",
    "hmmconf_test = hmmconf_df.copy()[~hmmconf_df.log_type.isin(COMPLETENESS_LOGS)]"
   ]
  },
  {
   "cell_type": "code",
   "execution_count": null,
   "id": "6aabf5d7",
   "metadata": {},
   "outputs": [],
   "source": [
    "print(\"Validating preprocessing after filtering out log types:\")\n",
    "print(\"hmmconf: {}\".format(hmmconf_test.log_type.unique()))\n",
    "print(\"BP_test: {}\".format(BP_test.log_type.unique()))\n",
    "print(\"C-3PO_test: {}\".format(C_3PA_test.log_type.unique()))\n",
    "print(\"W-1: {}\".format(pref_w_1_test.log_type.unique()))\n",
    "print(\"W-inf: {}\".format(pref_w_inf_test.log_type.unique()))"
   ]
  },
  {
   "cell_type": "code",
   "execution_count": null,
   "id": "cb37d56b",
   "metadata": {},
   "outputs": [],
   "source": [
    "to_use = [C_3PA_test, pref_w_1_test, pref_w_inf_test, BP_test]\n",
    "names_ = ['C_3PA_test', 'pref_w_1_test', 'pref_w_inf_test', 'BP_test']\n",
    "\n",
    "t_ = dict()\n",
    "for n_, df_ in list(zip(names_, to_use)):\n",
    "    t_[n_] = list()\n",
    "    for log_n in HMMCONF_LOGS:\n",
    "        to_keep = hmmconf_test[hmmconf_test.model == log_n].TraceId.unique()\n",
    "        df__ = df_[df_.model == log_n]\n",
    "        df__ = df__[df__.TraceId.isin(to_keep)]\n",
    "        df_ = df_[df_.model != log_n]\n",
    "        t_[n_].append(df__)\n",
    "    df_ = pd.concat(t_[n_] + [df_], ignore_index=True)"
   ]
  },
  {
   "cell_type": "code",
   "execution_count": null,
   "id": "5f89de08",
   "metadata": {},
   "outputs": [],
   "source": [
    "print(\"Validating preprocessing after filtering out traces not in hmmconf\")\n",
    "print(\"hmmconf: {}\".format(hmmconf_df.model.unique()))\n",
    "print(\"BP_test: {}\".format(BP_test.model.unique()))\n",
    "print(\"C-3PO_test: {}\".format(C_3PA_test.model.unique()))\n",
    "print(\"W-1: {}\".format(pref_w_1_test.model.unique()))\n",
    "print(\"W-inf: {}\".format(pref_w_inf_test.model.unique()))"
   ]
  },
  {
   "cell_type": "code",
   "execution_count": null,
   "id": "1d354a45",
   "metadata": {},
   "outputs": [],
   "source": [
    "from functools import reduce\n",
    "\n",
    "hmmconf_mean_exe = hmmconf_test.groupby(['model','TraceId']).agg({'ExecutionTime': np.sum}).groupby(['model']).agg({'ExecutionTime': np.mean}).reset_index()\n",
    "BP_mean_exe = BP_test.groupby(['model','TraceId']).agg({'ExecutionTime': np.sum}).groupby(['model']).agg({'ExecutionTime': np.mean}).reset_index()\n",
    "C_3PA_mean_exe = C_3PA_test.groupby(['model']).agg({'ExecutionTime': np.mean}).reset_index()\n",
    "pref_w_inf_mean_exe = pref_w_inf_test.groupby(['model']).agg({'ExecutionTime': np.mean}).reset_index()\n",
    "pref_w_1_mean_exe = pref_w_1_test.groupby(['model']).agg({'ExecutionTime': np.mean}).reset_index()\n",
    "\n",
    "dfs = [hmmconf_mean_exe, BP_mean_exe, C_3PA_mean_exe, pref_w_inf_mean_exe, pref_w_1_mean_exe]\n",
    "\n",
    "with io.capture_output() as captured:\n",
    "    final_df = reduce(lambda  left,right: pd.merge(left,right,on=['model'],\n",
    "                                            how='outer'), dfs);\n",
    "\n",
    "indexes = final_df.model.values\n",
    "columns = ['HMMCONF','BP','C-3PA','W-inf','W-1']"
   ]
  },
  {
   "cell_type": "code",
   "execution_count": null,
   "id": "e5d12acb",
   "metadata": {},
   "outputs": [],
   "source": [
    "def highlight_min(s):\n",
    "    is_max = s == s.min()\n",
    "    return ['color: green' if cell else '' for cell in is_max]\n",
    "\n",
    "def highlight_2ndmin(s):\n",
    "    is_max = s == s.nsmallest(2).iloc[-1]\n",
    "    return ['color: yellow' if cell else '' for cell in is_max]\n",
    "\n",
    "def highlight_3rdmin(s):\n",
    "    is_max = s == s.nsmallest(3).iloc[-1]\n",
    "    return ['color: red' if cell else '' for cell in is_max]\n",
    "\n",
    "\n",
    "msg = \"green = minimum trace execution time in row \\n\\\n",
    "yellow = 2nd smallest execution time in row \\n\\\n",
    "red = 3rd smallest execution time in row\"\n",
    "\n",
    "results = pd.DataFrame(index=indexes, data=final_df.iloc[:, 1:final_df.shape[1]].values, columns=columns).sort_index()\n",
    "temp = results.loc['M10']\n",
    "results = results.drop(index='M10')\n",
    "\n",
    "with io.capture_output() as captured:\n",
    "    results = results.append(temp)\n",
    "    \n",
    "print(msg)\n",
    "\n",
    "results.style.apply(highlight_min, axis=1).apply(highlight_2ndmin, axis=1).apply(highlight_3rdmin, axis=1)"
   ]
  },
  {
   "cell_type": "markdown",
   "id": "195b53a4",
   "metadata": {},
   "source": [
    "### Time and Memory"
   ]
  },
  {
   "cell_type": "markdown",
   "id": "33e32a78",
   "metadata": {},
   "source": [
    "#### Cases buffer limit 10000\n",
    "\n",
    "There are total 9778 cases in the log. Thus all cases are tracked during the whole execution in the buffer."
   ]
  },
  {
   "cell_type": "code",
   "execution_count": null,
   "id": "75601e3d",
   "metadata": {},
   "outputs": [],
   "source": [
    "stress_test_time = pd.read_csv(os.path.join('..', 'stress-test-data','results_cases_10000.csv'))\n",
    "stress_test_time = stress_test_time.rename(columns={'MemorySizeTraces':'TotalUsedMem', 'MemorySizeCases':'MemUsedPerEvent'})\n",
    "stress_test_time.ExecutionTime = stress_test_time.ExecutionTime / 1000000\n",
    "stress_test_time.TotalUsedMem = stress_test_time.TotalUsedMem / 1000000\n",
    "stress_test_time.MemUsedPerEvent = stress_test_time.MemUsedPerEvent / 1000000\n",
    "stress_test_time.drop(0);"
   ]
  },
  {
   "cell_type": "code",
   "execution_count": null,
   "id": "2673b5a2",
   "metadata": {},
   "outputs": [],
   "source": [
    "(pd.to_datetime(stress_test_time.Time.iloc[-1]) - pd.to_datetime(stress_test_time.Time.iloc[0])).seconds"
   ]
  },
  {
   "cell_type": "code",
   "execution_count": null,
   "id": "758a1d0c",
   "metadata": {},
   "outputs": [],
   "source": [
    "(pd.to_datetime(stress_test_time.Time.iloc[-1]) - pd.to_datetime(stress_test_time.Time.iloc[0])).seconds * 1000 / stress_test_time.shape[0]"
   ]
  },
  {
   "cell_type": "code",
   "execution_count": null,
   "id": "ca43a233",
   "metadata": {},
   "outputs": [],
   "source": [
    "stress_test_time.corr(method='spearman')"
   ]
  },
  {
   "cell_type": "code",
   "execution_count": null,
   "id": "891db8e4",
   "metadata": {},
   "outputs": [],
   "source": [
    "stress_test_time.describe()"
   ]
  },
  {
   "cell_type": "code",
   "execution_count": null,
   "id": "973230a5",
   "metadata": {},
   "outputs": [],
   "source": [
    "np.argmax(stress_test_time.ExecutionTime.values);"
   ]
  },
  {
   "cell_type": "code",
   "execution_count": null,
   "id": "14b232e1",
   "metadata": {},
   "outputs": [],
   "source": [
    "np.argmax(stress_test_time['Total states'].values);"
   ]
  },
  {
   "cell_type": "code",
   "execution_count": null,
   "id": "cb8c4f55",
   "metadata": {},
   "outputs": [],
   "source": [
    "np.argmax(stress_test_time['Alignment length'].values);"
   ]
  },
  {
   "cell_type": "code",
   "execution_count": null,
   "id": "33b8d803",
   "metadata": {},
   "outputs": [],
   "source": [
    "stress_test_time.iloc[1897815:,];"
   ]
  },
  {
   "cell_type": "code",
   "execution_count": null,
   "id": "b2a8b01a",
   "metadata": {},
   "outputs": [],
   "source": [
    "stress_test_time.iloc[2002996:,];"
   ]
  },
  {
   "cell_type": "markdown",
   "id": "c9212cb9",
   "metadata": {},
   "source": [
    "##### Execution time"
   ]
  },
  {
   "cell_type": "code",
   "execution_count": null,
   "id": "27a8091e",
   "metadata": {},
   "outputs": [],
   "source": [
    "plt.rcParams.update({'font.size': 20})\n",
    "\n",
    "x = np.arange(stress_test_time.shape[0])\n",
    "\n",
    "fig, ax = plt.subplots(figsize=(14,8))\n",
    "\n",
    "ax1 = ax.twinx()\n",
    "ax2 = ax.twinx()\n",
    "\n",
    "p1, = ax.plot(stress_test_time.ExecutionTime.rolling(10000).mean(), 'b-', label=\"Execution time per event - SMA (10)\")\n",
    "p2, = ax1.plot(stress_test_time['Total cases'], 'r--', label=\"Tracked cases\")\n",
    "p3, = ax2.plot(stress_test_time['Alignment length'].rolling(10000).mean(), 'g-', label=\"Alignment length - SMA (10000)\")\n",
    "\n",
    "ax.set_xlabel('Events')\n",
    "ax.set_ylabel('Time (m/s)')\n",
    "\n",
    "ax1.set_ylabel('No of tracked cases in buffer')\n",
    "ax2.set_ylabel(\"Alignment length\")\n",
    "\n",
    "ax.yaxis.label.set_color(p1.get_color())\n",
    "ax1.yaxis.label.set_color(p2.get_color())\n",
    "ax2.yaxis.label.set_color(p3.get_color())\n",
    "\n",
    "tkw = dict(size=4, width=1.5)\n",
    "\n",
    "ax.tick_params(axis='y', colors=p1.get_color(), **tkw)\n",
    "ax1.tick_params(axis='y', colors=p2.get_color(), **tkw)\n",
    "ax2.tick_params(axis='y', colors=p3.get_color(), **tkw)\n",
    "ax.tick_params(axis='x', **tkw)\n",
    "\n",
    "ax.legend(handles=[p1, p2, p3], bbox_to_anchor=(0, 1.35, 1, 0), loc=2)\n",
    "ax2.spines.right.set_position((\"axes\", 1.2))\n",
    "\n",
    "fig.tight_layout()\n",
    "#plt.title(\"Stress test\")\n",
    "plt.savefig(\"images/cases 10000 - execution time, tracked cases, alignment length.pdf\")\n",
    "plt.show()\n"
   ]
  },
  {
   "cell_type": "code",
   "execution_count": null,
   "id": "150b70b1",
   "metadata": {},
   "outputs": [],
   "source": [
    "# align_ = stress_test_time[['Total states','ExecutionTime','Alignment length']]\n",
    "\n",
    "# sns.kdeplot(data=align_[['Alignment length']], x='Alignment length', common_norm=False);\n",
    "# plt.ylabel(\"Execution time density\")\n",
    "# plt.xlabel(\"Alignment Length\")\n",
    "# #plt.title(\"Conformance cost distribution on cases\");\n",
    "\n",
    "# plt.savefig(\"images/real life data set - conformance cost dist.pdf\")\n",
    "# plt.show()"
   ]
  },
  {
   "cell_type": "code",
   "execution_count": null,
   "id": "d86cb556",
   "metadata": {},
   "outputs": [],
   "source": [
    "avg_quesize = stress_test_time.groupby('Alignment length').agg({'Total states':np.mean, 'ExecutionTime':np.mean})\n",
    "x = np.arange(avg_quesize.shape[0])\n",
    "\n",
    "fig, ax1 = plt.subplots(figsize=(10,5))\n",
    "\n",
    "poly_fn = Polynomial.fit(x, avg_quesize['Total states'].values, 5)\n",
    "y = poly_fn(x)\n",
    "\n",
    "ax1.set_xlabel('Alignment length')\n",
    "ax1.set_ylabel('Avg. states in case buffer')\n",
    "#p1, = ax1.plot(y, 'b-', label=\"Avg. states in case buffer - polynominal fit (deg=5)\")\n",
    "p1, = ax1.plot(avg_quesize.index, avg_quesize['Total states'].rolling(10).mean(), label='Avg. states in case buffer - SMA(10)');\n",
    "\n",
    "poly_fn = Polynomial.fit(x, avg_quesize['ExecutionTime'].values, 5)\n",
    "y = poly_fn(x)\n",
    "\n",
    "ax2 = ax1.twinx()\n",
    "#p2, = ax2.plot(y, color='red', label='Avg. execution time - polynominal fit (deg=5)');\n",
    "p2, = ax2.plot(avg_quesize.index, avg_quesize['ExecutionTime'].rolling(10).mean(), color='red', label='Avg. execution time - SMA(10)');\n",
    "ax2.set_ylabel('Time (m/s)')\n",
    "\n",
    "ax1.yaxis.label.set_color(p1.get_color())\n",
    "ax2.yaxis.label.set_color(p2.get_color())\n",
    "\n",
    "tkw = dict(size=4, width=1.5)\n",
    "\n",
    "ax1.tick_params(axis='y', colors=p1.get_color(), **tkw)\n",
    "ax2.tick_params(axis='y', colors=p2.get_color(), **tkw)\n",
    "ax1.tick_params(axis='x', **tkw)\n",
    "\n",
    "ax1.legend(handles=[p1, p2], bbox_to_anchor=(0, 1.25, 1, 0), loc=2)\n",
    "ax2.spines.right.set_position((\"axes\", 1.))\n",
    "\n",
    "fig.tight_layout()\n",
    "#plt.title('Alignment length vs avg. states in case buffer and avg. execution time')\n",
    "plt.xlabel('Alignment Length')\n",
    "plt.savefig(\"images/cases 10000 - alignment length vs states in case buffer and avg execution time.pdf\")\n",
    "plt.show()\n"
   ]
  },
  {
   "cell_type": "code",
   "execution_count": null,
   "id": "fc4c7c08",
   "metadata": {},
   "outputs": [],
   "source": [
    "# avg_quesize = stress_test_time_old.groupby('Alignment length').agg({'Total states':np.mean, 'ExecutionTime':np.mean})\n",
    "# x = np.arange(avg_quesize.shape[0])\n",
    "\n",
    "# fig, ax1 = plt.subplots(figsize=(10,5))\n",
    "\n",
    "# poly_fn = Polynomial.fit(x, avg_quesize['Total states'].values, 5)\n",
    "# y = poly_fn(x)\n",
    "\n",
    "# ax1.set_xlabel('Alignment length')\n",
    "# ax1.set_ylabel('Avg. states in case buffer')\n",
    "# #p1, = ax1.plot(y, 'b-', label=\"Avg. states in case buffer - polynominal fit (deg=5)\")\n",
    "# p1, = ax1.plot(avg_quesize.index, avg_quesize['Total states'].rolling(10).mean(), label='Avg. states in case buffer - SMA(10)');\n",
    "\n",
    "# poly_fn = Polynomial.fit(x, avg_quesize['ExecutionTime'].values, 5)\n",
    "# y = poly_fn(x)\n",
    "\n",
    "# ax2 = ax1.twinx()\n",
    "# #p2, = ax2.plot(y, color='red', label='Avg. execution time - polynominal fit (deg=5)');\n",
    "# p2, = ax2.plot(avg_quesize.index, avg_quesize['ExecutionTime'].rolling(10).mean(), color='red', label='Avg. execution time - SMA(10)');\n",
    "# ax2.set_ylabel('Time (m/s)')\n",
    "\n",
    "# ax1.yaxis.label.set_color(p1.get_color())\n",
    "# ax2.yaxis.label.set_color(p2.get_color())\n",
    "\n",
    "# tkw = dict(size=4, width=1.5)\n",
    "\n",
    "# ax1.tick_params(axis='y', colors=p1.get_color(), **tkw)\n",
    "# ax2.tick_params(axis='y', colors=p2.get_color(), **tkw)\n",
    "# ax1.tick_params(axis='x', **tkw)\n",
    "\n",
    "# ax1.legend(handles=[p1, p2], bbox_to_anchor=(0, 1.2, 1, 0), loc=2)\n",
    "# ax2.spines.right.set_position((\"axes\", 1.))\n",
    "\n",
    "# fig.tight_layout()\n",
    "# #plt.title('Alignment length vs avg. states in case buffer and avg. execution time')\n",
    "# plt.xlabel('Alignment Length')\n",
    "# plt.savefig(\"images/cases 10000 - alignment length vs states in case buffer and avg execution time.pdf\")\n",
    "# plt.show()\n"
   ]
  },
  {
   "cell_type": "code",
   "execution_count": null,
   "id": "8687d32a",
   "metadata": {},
   "outputs": [],
   "source": [
    "rho_time_alg = stats.spearmanr(stress_test_time['ExecutionTime'], stress_test_time['Alignment length'])\n",
    "rho_time_cases = stats.spearmanr(stress_test_time['Total cases'], stress_test_time['ExecutionTime'])\n",
    "rho_time_states = stats.spearmanr(stress_test_time['ExecutionTime'], stress_test_time['Total states'])\n",
    "\n",
    "print(\n",
    "    'Correlation between the measured quantities:',\n",
    "    '\\nExecution time - alignment length: spearman rho: {:.3f}, p-value: {:.10f}'.format(rho_time_alg[0], rho_time_alg[1]),\n",
    "    '\\nExecution time - cases size: spearman rho: {:.3f}, p-value: {:.10f}'.format(rho_time_cases[0], rho_time_cases[1]),\n",
    "    '\\nExecution time - states size: spearman rho: {:.3f}, p-value: {:.10f}'.format(rho_time_states[0], rho_time_states[1])\n",
    ")"
   ]
  },
  {
   "cell_type": "markdown",
   "id": "b41696d7",
   "metadata": {},
   "source": [
    "Intrepretation:\n",
    "\n",
    "- As expected the execution time is correlated correlated with the states in the states buffer, which can also be discerned from the plot \"Alignment length vs avg. states in case buffer and avg. execution time\". The dips in 'Avg. states in case buffer' can be intrepreted as it drops due to decay time (0.3).\n",
    "\n",
    "- Execution time and alignment length display a positive trend - as the correllation metric shows they are highly correlated.\n",
    "\n",
    "- Cases in states buffer is also showing a positive correlation with execution time (\"Stress test figure\"), but it is not as evident from the first plot as the execution time lags behind the increase in buffered cases for some time."
   ]
  },
  {
   "cell_type": "markdown",
   "id": "f3f1f8ff",
   "metadata": {},
   "source": [
    "##### Memory usage"
   ]
  },
  {
   "cell_type": "code",
   "execution_count": null,
   "id": "c24da13b",
   "metadata": {},
   "outputs": [],
   "source": [
    "plt.rcParams.update({'font.size': 20})\n",
    "\n",
    "x = np.arange(stress_test_time.shape[0])\n",
    "\n",
    "fig, ax = plt.subplots(figsize=(14,9))\n",
    "ax2 = ax.twinx()\n",
    "\n",
    "n = 10000\n",
    "p1, = ax.plot([x + n - 1 for x in range(0, stress_test_time.shape[0], n)], stress_test_time.TotalUsedMem.iloc[0:-1:n], 'b-', label=\"Memory usage - SMA (10000)\")\n",
    "\n",
    "# poly_fn = Polynomial.fit(x, stress_test_time.TotalUsedMem.values, 1)\n",
    "# y = poly_fn(x)\n",
    "# p1, = ax.plot(y, 'b-', label=\"Memory usage - polynominal fit (deg=1)\")\n",
    "\n",
    "poly_fn = Polynomial.fit(x, stress_test_time.MemUsedPerEvent.values, 1)\n",
    "\n",
    "y = poly_fn(x)\n",
    "\n",
    "p3, = ax2.plot(y, 'r-', label=\"Memory usage per event - polynominal fit (deg=1)\")\n",
    "\n",
    "n = 5000\n",
    "p2, = ax2.plot([x + n - 1 for x in range(0, stress_test_time.shape[0], n)], stress_test_time.MemUsedPerEvent.rolling(10000).mean().iloc[0:-1:n], 'g+', label=\"Memory usage per event - SMA (10000)\")\n",
    "\n",
    "ax.set_xlabel('Events')\n",
    "ax.set_ylabel('Space (MB)')\n",
    "ax2.set_ylabel('Space (MB)')\n",
    "\n",
    "ax.yaxis.label.set_color(p1.get_color())\n",
    "ax2.yaxis.label.set_color(p3.get_color())\n",
    "\n",
    "tkw = dict(size=4, width=1.5)\n",
    "\n",
    "ax.tick_params(axis='y', colors=p1.get_color(), **tkw)\n",
    "ax2.tick_params(axis='y', colors=p3.get_color(), **tkw)\n",
    "ax.tick_params(axis='x', **tkw)\n",
    "\n",
    "ax.legend(handles=[p1, p2, p3], bbox_to_anchor=(0, 1.28, 1, 0), loc=2)\n",
    "ax2.spines.right.set_position((\"axes\", 1.))\n",
    "\n",
    "fig.tight_layout()\n",
    "#plt.title(\"Stress test - memory usage\")\n",
    "plt.savefig(\"images/cases 10000 - memory usage, memory usage per event.pdf\")\n",
    "plt.show()\n"
   ]
  },
  {
   "cell_type": "code",
   "execution_count": null,
   "id": "75898f33",
   "metadata": {},
   "outputs": [],
   "source": [
    "rho_time_alg = stats.spearmanr(stress_test_time.TotalUsedMem, stress_test_time['Alignment length'])\n",
    "rho_time_cases = stats.spearmanr(stress_test_time.TotalUsedMem, stress_test_time['Total cases'])\n",
    "rho_time_states = stats.spearmanr(stress_test_time.TotalUsedMem, stress_test_time['Total states'])\n",
    "\n",
    "print(\n",
    "    'Correlation between the measured quantities:',\n",
    "    '\\nMemory in use at runtime - alignment length: spearman rho: {:.3f}, p-value: {:.10f}'.format(rho_time_alg[0], rho_time_alg[1]),\n",
    "    '\\nMemory in use at runtime - cases size: spearman rho: {:.3f}, p-value: {:.10f}'.format(rho_time_cases[0], rho_time_cases[1]),\n",
    "    '\\nMemory in use at runtime - states size: spearman rho: {:.3f}, p-value: {:.10f}'.format(rho_time_states[0], rho_time_states[1])\n",
    ")"
   ]
  },
  {
   "attachments": {},
   "cell_type": "markdown",
   "id": "6c174d12",
   "metadata": {},
   "source": [
    "Intrepretation:\n",
    "\n",
    "- From the plot above - \"Stress test - memory usage\", we see a clear trend between the total space usage and the increase in alignment lengths, stored in the state buffers. It is shown also by the correlation coeffcient which determines a strong positive correlation between the two quantities.\n",
    "\n",
    "- The negative correlation to stored states, indicates the decay time, which can be seen from \"Alignment length vs avg. states in case buffer and avg. execution time\" is reducing the stored states wereas memory usage is increasing due to the alignments.\n"
   ]
  },
  {
   "cell_type": "code",
   "execution_count": null,
   "id": "dd195ecb",
   "metadata": {},
   "outputs": [],
   "source": [
    "rho_time_alg = stats.spearmanr(stress_test_time.MemUsedPerEvent, stress_test_time['Alignment length'])\n",
    "rho_time_cases = stats.spearmanr(stress_test_time.MemUsedPerEvent, stress_test_time['Total cases'])\n",
    "rho_time_states = stats.spearmanr(stress_test_time.MemUsedPerEvent, stress_test_time['Total states'])\n",
    "\n",
    "print(\n",
    "    'Correlation between the measured quantities:',\n",
    "    '\\nMemory used per event - alignment length: spearman rho: {:.3f}, p-value: {:.10f}'.format(rho_time_alg[0], rho_time_alg[1]),\n",
    "    '\\nMemory used per event - cases size: spearman rho: {:.3f}, p-value: {:.10f}'.format(rho_time_cases[0], rho_time_cases[1]),\n",
    "    '\\nMemory used per event - states size: spearman rho: {:.3f}, p-value: {:.10f}'.format(rho_time_states[0], rho_time_states[1])\n",
    ")"
   ]
  },
  {
   "cell_type": "markdown",
   "id": "bc37cd4e",
   "metadata": {},
   "source": [
    "Intrepretation:\n",
    "\n",
    "- We see now that the memory per event usage is positively correlated with number of states in the states buffer, which is to be expected as the algorithm visits more states to compute new alignments from.\n",
    "\n",
    "#### Kristo\n",
    "\n",
    "Just want to share that this was the correlation before the introduced criteria to limiting warm-start nodes:\n",
    "- Memory used per event - states size: spearman rho: 0.725\n"
   ]
  },
  {
   "cell_type": "markdown",
   "id": "cdff0e70",
   "metadata": {},
   "source": [
    "#### Cases buffer limit 5000\n",
    "\n",
    "A key thing to note is that, and correct me if I'm wrong, but there is 1000 cases in the BPI_logs and 500 in each of the Mx_logs. Here we will see the effect of reducing the number of cases on memory and time which will reduce the cases as there is 9778 cases in the stream file."
   ]
  },
  {
   "cell_type": "code",
   "execution_count": null,
   "id": "6ccbf92b",
   "metadata": {},
   "outputs": [],
   "source": [
    "# stress_test_time.Time = stress_test_time.Time.apply(lambda x: pd.Timestamp(x).second);"
   ]
  },
  {
   "cell_type": "code",
   "execution_count": null,
   "id": "ac94157b",
   "metadata": {},
   "outputs": [],
   "source": [
    "# test = stress_test_time.groupby('Time')[['Total states','Total cases','Alignment length','ExecutionTime','MemUsedPerEvent','TotalUsedMem']].agg({np.mean})"
   ]
  },
  {
   "cell_type": "code",
   "execution_count": null,
   "id": "4fa938f5",
   "metadata": {},
   "outputs": [],
   "source": [
    "stress_test_time = pd.read_csv(os.path.join('..', 'stress-test-data','results_cases_5000.csv'))\n",
    "stress_test_time = stress_test_time.rename(columns={'MemorySizeTraces':'TotalUsedMem', 'MemorySizeCases':'MemUsedPerEvent'})\n",
    "stress_test_time.ExecutionTime = stress_test_time.ExecutionTime / 1000000\n",
    "stress_test_time.TotalUsedMem = stress_test_time.TotalUsedMem / 1000000\n",
    "stress_test_time.MemUsedPerEvent = stress_test_time.MemUsedPerEvent / 1000000\n",
    "stress_test_time.drop(0);"
   ]
  },
  {
   "cell_type": "code",
   "execution_count": null,
   "id": "2155adf2",
   "metadata": {},
   "outputs": [],
   "source": [
    "stress_test_time.describe()"
   ]
  },
  {
   "cell_type": "markdown",
   "id": "3f9b56a8",
   "metadata": {},
   "source": [
    "##### Execution time"
   ]
  },
  {
   "cell_type": "code",
   "execution_count": null,
   "id": "29b29057",
   "metadata": {},
   "outputs": [],
   "source": [
    "plt.rcParams.update({'font.size': 20})\n",
    "\n",
    "fig, ax = plt.subplots(figsize=(14,8))\n",
    "\n",
    "ax1 = ax.twinx()\n",
    "ax2 = ax.twinx()\n",
    "\n",
    "n = 10000\n",
    "p1, = ax.plot([x + n - 1 for x in range(0, stress_test_time.shape[0], n)], stress_test_time.ExecutionTime.rolling(10).mean().iloc[0:-1:n], 'b-', label=\"Execution time per event - SMA (10)\")\n",
    "\n",
    "p2, = ax1.plot(stress_test_time['Total cases'], 'r--', label=\"Tracked cases\")\n",
    "\n",
    "n = 10000\n",
    "p3, = ax2.plot([x + n - 1 for x in range(0, stress_test_time.shape[0], n)], stress_test_time['Alignment length'].rolling(1).mean().iloc[0:-1:n], 'g', label=\"Alignment length - SMA (10000)\")\n",
    "\n",
    "ax.set_xlabel('Events')\n",
    "ax.set_ylabel('Time (m/s)')\n",
    "\n",
    "ax1.set_ylabel('No of tracked cases in buffer')\n",
    "ax2.set_ylabel(\"Alignment length\")\n",
    "\n",
    "ax.yaxis.label.set_color(p1.get_color())\n",
    "ax1.yaxis.label.set_color(p2.get_color())\n",
    "ax2.yaxis.label.set_color(p3.get_color())\n",
    "\n",
    "tkw = dict(size=4, width=1.5)\n",
    "\n",
    "ax.tick_params(axis='y', colors=p1.get_color(), **tkw)\n",
    "ax1.tick_params(axis='y', colors=p2.get_color(), **tkw)\n",
    "ax2.tick_params(axis='y', colors=p3.get_color(), **tkw)\n",
    "ax.tick_params(axis='x', **tkw)\n",
    "\n",
    "ax.legend(handles=[p1, p2, p3], bbox_to_anchor=(0, 1.35, 1, 0), loc=2)\n",
    "ax2.spines.right.set_position((\"axes\", 1.2))\n",
    "\n",
    "fig.tight_layout()\n",
    "plt.savefig(\"images/cases 5000 - execution time, tracked cases, alignment length.pdf\")\n",
    "plt.show()\n"
   ]
  },
  {
   "cell_type": "code",
   "execution_count": null,
   "id": "13c23a9a",
   "metadata": {},
   "outputs": [],
   "source": [
    "avg_quesize = stress_test_time.groupby('Alignment length').agg({'Total states':np.mean, 'ExecutionTime':np.mean})\n",
    "x = np.arange(avg_quesize.shape[0])\n",
    "\n",
    "fig, ax1 = plt.subplots(figsize=(10,5))\n",
    "\n",
    "ax1.set_xlabel('Alignment length')\n",
    "ax1.set_ylabel('Avg. states in case buffer')\n",
    "# poly_fn = Polynomial.fit(x, avg_quesize['Total states'].values, 5)\n",
    "# y = poly_fn(x)\n",
    "# p1, = ax1.plot(y, 'b-', label=\"Avg. states in case buffer - polynominal fit (deg=5)\")\n",
    "p1, = ax1.plot(avg_quesize.index, avg_quesize['Total states'].rolling(10).mean(), label='Avg. states in case buffer - SMA(10)');\n",
    "\n",
    "ax2 = ax1.twinx()\n",
    "# poly_fn = Polynomial.fit(x, avg_quesize['ExecutionTime'].values, 5)\n",
    "# y = poly_fn(x)\n",
    "# p2, = ax2.plot(y, color='red', label='Avg. execution time - polynominal fit (deg=5)');\n",
    "p2, = ax2.plot(avg_quesize.index, avg_quesize['ExecutionTime'].rolling(10).mean(), color='red', label='Avg. execution time - SMA(10)');\n",
    "ax2.set_ylabel('Time (m/s)')\n",
    "\n",
    "ax1.yaxis.label.set_color(p1.get_color())\n",
    "ax2.yaxis.label.set_color(p2.get_color())\n",
    "\n",
    "tkw = dict(size=4, width=1.5)\n",
    "\n",
    "ax1.tick_params(axis='y', colors=p1.get_color(), **tkw)\n",
    "ax2.tick_params(axis='y', colors=p2.get_color(), **tkw)\n",
    "ax1.tick_params(axis='x', **tkw)\n",
    "\n",
    "ax1.legend(handles=[p1, p2], bbox_to_anchor=(0, 1.2, 1, 0), loc=2)\n",
    "ax2.spines.right.set_position((\"axes\", 1.))\n",
    "\n",
    "fig.tight_layout()\n",
    "#plt.title('Alignment length vs avg. states in case buffer and avg. execution time')\n",
    "plt.xlabel('Alignment Length')\n",
    "plt.savefig(\"images/cases 5000 - alignment length vs states in case buffer and avg execution time.pdf\")\n",
    "plt.show()\n"
   ]
  },
  {
   "cell_type": "code",
   "execution_count": null,
   "id": "b43c0b7f",
   "metadata": {},
   "outputs": [],
   "source": [
    "rho_time_alg = stats.spearmanr(stress_test_time['ExecutionTime'], stress_test_time['Alignment length'])\n",
    "rho_time_cases = stats.spearmanr(stress_test_time['ExecutionTime'], stress_test_time['Total cases'])\n",
    "rho_time_states = stats.spearmanr(stress_test_time['ExecutionTime'], stress_test_time['Total states'])\n",
    "\n",
    "print(\n",
    "    'Correlation between the measured quantities:',\n",
    "    '\\nExecution time - alignment length: spearman rho: {:.3f}, p-value: {:.10f}'.format(rho_time_alg[0], rho_time_alg[1]),\n",
    "    '\\nExecution time - cases size: spearman rho: {:.3f}, p-value: {:.10f}'.format(rho_time_cases[0], rho_time_cases[1]),\n",
    "    '\\nExecution time - states size: spearman rho: {:.3f}, p-value: {:.10f}'.format(rho_time_states[0], rho_time_states[1])\n",
    ")"
   ]
  },
  {
   "cell_type": "markdown",
   "id": "94c1ddf3",
   "metadata": {},
   "source": [
    "##### Memory usage"
   ]
  },
  {
   "cell_type": "code",
   "execution_count": null,
   "id": "40e2491b",
   "metadata": {},
   "outputs": [],
   "source": [
    "x = np.arange(stress_test_time.shape[0])\n",
    "\n",
    "fig, ax = plt.subplots(figsize=(10,5))\n",
    "\n",
    "# poly_fn = Polynomial.fit(x, stress_test_time.TotalUsedMem.values, 5)\n",
    "# y = poly_fn(x)\n",
    "# p1, = ax.plot(y, 'b-', label=\"Memory usage - polynominal fit - degree 5\")\n",
    "n = 10000\n",
    "p1, = ax.plot([x + n - 1 for x in range(0, stress_test_time.shape[0], n)], stress_test_time.TotalUsedMem.iloc[0:-1:n], 'b-', label=\"Memory usage - SMA (10000)\")\n",
    "\n",
    "ax2 = ax.twinx()\n",
    "n = 10000\n",
    "p2, = ax2.plot([x + n - 1 for x in range(0, stress_test_time.shape[0], n)], stress_test_time.MemUsedPerEvent.rolling(10000).mean().iloc[0:-1:n], 'g+', label=\"Memory usage per event - SMA (10000)\")\n",
    "\n",
    "poly_fn = Polynomial.fit(x, stress_test_time.MemUsedPerEvent.values, 1)\n",
    "y = poly_fn(x)\n",
    "p3, = ax2.plot(y, 'r-', label=\"Memory usage per event - polynominal fit - degree 1\")\n",
    "# n = 15000\n",
    "# p3, = ax2.plot([x + n - 1 for x in range(0, x.shape[0], n)], y[0:-1:n], 'r-', label=\"Memory usage per event - polynominal fit - degree 1\")\n",
    "\n",
    "ax.set_xlabel('Events')\n",
    "ax.set_ylabel('Space (MB)')\n",
    "ax2.set_ylabel('Space (MB)')\n",
    "\n",
    "ax.yaxis.label.set_color(p1.get_color())\n",
    "ax2.yaxis.label.set_color(p3.get_color())\n",
    "\n",
    "tkw = dict(size=4, width=1.5)\n",
    "\n",
    "ax.tick_params(axis='y', colors=p1.get_color(), **tkw)\n",
    "ax2.tick_params(axis='y', colors=p3.get_color(), **tkw)\n",
    "ax.tick_params(axis='x', **tkw)\n",
    "\n",
    "ax.legend(handles=[p1, p2, p3], bbox_to_anchor=(0, 1.3, 1, 0), loc=2)\n",
    "ax2.spines.right.set_position((\"axes\", 1.))\n",
    "\n",
    "fig.tight_layout()\n",
    "#plt.title(\"Stress test - memory usage\")\n",
    "plt.savefig(\"images/cases 5000 - memory usage, memory usage per event.pdf\")\n",
    "plt.show()\n"
   ]
  },
  {
   "cell_type": "code",
   "execution_count": null,
   "id": "5f084fd7",
   "metadata": {},
   "outputs": [],
   "source": [
    "rho_time_alg = stats.spearmanr(stress_test_time.TotalUsedMem, stress_test_time['Alignment length'])\n",
    "rho_time_cases = stats.spearmanr(stress_test_time.TotalUsedMem, stress_test_time['Total cases'])\n",
    "rho_time_states = stats.spearmanr(stress_test_time.TotalUsedMem, stress_test_time['Total states'])\n",
    "\n",
    "print(\n",
    "    'Correlation between the measured quantities:',\n",
    "    '\\nMemory in use at runtime - alignment length: spearman rho: {:.3f}, p-value: {:.10f}'.format(rho_time_alg[0], rho_time_alg[1]),\n",
    "    '\\nMemory in use at runtime - cases size: spearman rho: {:.3f}, p-value: {:.10f}'.format(rho_time_cases[0], rho_time_cases[1]),\n",
    "    '\\nMemory in use at runtime - states size: spearman rho: {:.3f}, p-value: {:.10f}'.format(rho_time_states[0], rho_time_states[1])\n",
    ")"
   ]
  },
  {
   "cell_type": "code",
   "execution_count": null,
   "id": "280b2e55",
   "metadata": {},
   "outputs": [],
   "source": [
    "rho_time_alg = stats.spearmanr(stress_test_time.MemUsedPerEvent, stress_test_time['Alignment length'])\n",
    "rho_time_cases = stats.spearmanr(stress_test_time.MemUsedPerEvent, stress_test_time['Total cases'])\n",
    "rho_time_states = stats.spearmanr(stress_test_time.MemUsedPerEvent, stress_test_time['Total states'])\n",
    "\n",
    "print(\n",
    "    'Correlation between the measured quantities:',\n",
    "    '\\nMemory used per event - alignment length: spearman rho: {:.3f}, p-value: {:.10f}'.format(rho_time_alg[0], rho_time_alg[1]),\n",
    "    '\\nMemory used per event - cases size: spearman rho: {:.3f}, p-value: {:.10f}'.format(rho_time_cases[0], rho_time_cases[1]),\n",
    "    '\\nMemory used per event - states size: spearman rho: {:.3f}, p-value: {:.10f}'.format(rho_time_states[0], rho_time_states[1])\n",
    ")"
   ]
  },
  {
   "cell_type": "markdown",
   "id": "7517f0bb",
   "metadata": {},
   "source": [
    "Intrepretation:\n",
    "\n",
    "- No strong correlation between memory in use and alignment length. In general the correlation coefficient between the measured quantities show no monotonic relationship. It can be infered that as long as the size of the case buffer is kept within a capacity the influence of the factors that grows memory are negligble."
   ]
  },
  {
   "cell_type": "markdown",
   "id": "484373d1",
   "metadata": {},
   "source": [
    "## Confusion Matrix"
   ]
  },
  {
   "cell_type": "code",
   "execution_count": null,
   "id": "0eb0f2cd",
   "metadata": {},
   "outputs": [],
   "source": [
    "from sklearn import metrics\n",
    "plt.rcParams.update({'font.size': 17})\n",
    "C_3PA_ = C_3PA_df.copy()[['Conformance cost']][C_3PA_df.model.isin(PREF_W_INF_LOGS)]\n",
    "pref_w_inf_ = pref_w_inf_df.copy()[['Conformance cost']]\n",
    "pref_w_1_ = pref_w_1_df.copy()[['Conformance cost']]"
   ]
  },
  {
   "cell_type": "code",
   "execution_count": null,
   "id": "eddcf7c9",
   "metadata": {},
   "outputs": [],
   "source": [
    "print(\"C-3PA and W-inf\")\n",
    "\n",
    "C_3PA_['Conformance cost'] = C_3PA_['Conformance cost'].apply(lambda x : True if x > 0 else False)\n",
    "pref_w_inf_['Conformance cost'] = pref_w_inf_['Conformance cost'].apply(lambda x : True if x > 0 else False)\n",
    "\n",
    "confusion_matrix = metrics.confusion_matrix(pref_w_inf_.values, C_3PA_.values)\n",
    "cm_display = metrics.ConfusionMatrixDisplay(confusion_matrix = confusion_matrix, display_labels = [False, True])\n",
    "cm_display.plot()\n",
    "plt.yticks([0,1],rotation=90)\n",
    "plt.xlabel('Not conforming for C-3PA')\n",
    "plt.ylabel('Not conforming for W-inf')\n",
    "plt.tight_layout()\n",
    "plt.savefig(\"images/confusion matrix - win-inf.png\")\n",
    "plt.show()"
   ]
  },
  {
   "cell_type": "code",
   "execution_count": null,
   "id": "e4cd3259",
   "metadata": {},
   "outputs": [],
   "source": [
    "print(\"Balanced accuracy score: https://en.wikipedia.org/wiki/Precision_and_recall\")\n",
    "print(metrics.balanced_accuracy_score(pref_w_inf_.values, C_3PA_.values))"
   ]
  },
  {
   "cell_type": "code",
   "execution_count": null,
   "id": "20e5a9b4",
   "metadata": {},
   "outputs": [],
   "source": [
    "print(\"C-3PA and W-1\")\n",
    "\n",
    "pref_w_1_['Conformance cost'] = pref_w_1_['Conformance cost'].apply(lambda x : True if x > 0 else False)\n",
    "\n",
    "cm_display = metrics.ConfusionMatrixDisplay(confusion_matrix = confusion_matrix, display_labels = [False, True])\n",
    "cm_display.plot()\n",
    "plt.yticks([0,1],rotation=90)\n",
    "plt.xlabel('Not conforming for C-3PA')\n",
    "plt.ylabel('Not conforming for W-1')\n",
    "plt.tight_layout()\n",
    "plt.savefig(\"images/confusion matrix - w-1.png\")\n",
    "plt.show()\n"
   ]
  },
  {
   "cell_type": "code",
   "execution_count": null,
   "id": "df934e69",
   "metadata": {},
   "outputs": [],
   "source": [
    "print(\"Balanced accuracy score:\")\n",
    "metrics.balanced_accuracy_score(pref_w_1_.values, C_3PA_.values)"
   ]
  },
  {
   "cell_type": "markdown",
   "id": "166037bc",
   "metadata": {},
   "source": [
    "## Correlation test"
   ]
  },
  {
   "cell_type": "markdown",
   "id": "b59a0ef5",
   "metadata": {},
   "source": [
    "### Spearman correlation with non-conforming results\n",
    "\n"
   ]
  },
  {
   "cell_type": "markdown",
   "id": "b29b6d85",
   "metadata": {},
   "source": [
    "#### HMMCONF"
   ]
  },
  {
   "cell_type": "code",
   "execution_count": null,
   "id": "c02266b1",
   "metadata": {},
   "outputs": [],
   "source": [
    "C_3PA_test = C_3PA_df.copy()[C_3PA_df.model.isin(HMMCONF_LOGS)]\n",
    "#C_3PA_test = C_3PA_test[~C_3PA_test.log_type.isin(COMPLETENESS_LOGS)]\n",
    "#hmmconf_test = hmmconf_test[~hmmconf_test.log_type.isin(COMPLETENESS_LOGS)]\n",
    "\n",
    "dfs= list()\n",
    "for log_n in HMMCONF_LOGS:\n",
    "    to_keep = hmmconf_test[hmmconf_test.model == log_n].TraceId.unique()\n",
    "    df__ = C_3PA_test[C_3PA_test.model == log_n]\n",
    "    df__ = df__[df__.TraceId.isin(to_keep)]\n",
    "    dfs.append(df__)\n",
    "C_3PA_test = pd.concat(dfs, ignore_index=True)\n",
    "\n",
    "hmmconf_mean_conf_compl = hmmconf_df.groupby(['model','log_type','TraceId']).agg({'finalconf': np.mean, 'completeness': np.mean, 'injected_distance': np.mean}).reset_index()\n",
    "\n",
    "merged_df = pd.merge(hmmconf_mean_conf_compl, C_3PA_test, on=['model','log_type','TraceId'])\n",
    "\n",
    "pred1 = merged_df['Conformance cost'] > 0\n",
    "pred2 = merged_df['finalconf'] > 0\n",
    "\n",
    "filtered_df = merged_df.loc[pred1 & pred2, :]\n",
    "\n",
    "rho_conf_mean_finalconf = stats.spearmanr(filtered_df['Conformance cost'], filtered_df['finalconf'])\n",
    "rho_conf_compl = stats.spearmanr(filtered_df['Conformance cost'], filtered_df['injected_distance'])\n",
    "rho_compl_injected_distance = stats.spearmanr(filtered_df['Completeness cost'], filtered_df['injected_distance'])\n",
    "rho_completeness = stats.spearmanr(filtered_df['Completeness cost'], filtered_df['completeness'])\n",
    "\n",
    "print(\n",
    "    'Conformance cost - mean final conformance: spearman rho: {:.3f}, p-value: {:.10f}'.format(rho_conf_mean_finalconf[0], rho_conf_mean_finalconf[1]),\n",
    "    '\\nConformance cost - injected distance: spearman rho: {:.3f}, p-value: {:.10f}'.format(rho_conf_compl[0], rho_conf_compl[1]), \n",
    "    '\\nCompleteness cost - injected distance: spearman rho: {:.3f}, p-value: {:.10f}'.format(rho_compl_injected_distance[0], rho_compl_injected_distance[1]),\n",
    "    '\\nCompleteness cost: spearman rho: {:.3f}, p-value: {:.10f}'.format(rho_completeness[0], rho_completeness[1])\n",
    ")"
   ]
  },
  {
   "cell_type": "markdown",
   "id": "5d285ebe",
   "metadata": {},
   "source": [
    "##### Remarks\n",
    "\n",
    "Conformance cost - mean final conformance:\n",
    "- Conformance cost and mean conformance show an inversly proportional relationship which is expected as a conformance value closer to 1 signifies that the trace is conforming to the reference model\n",
    "\n",
    "Completeness cost - injected distance:\n",
    "- Slight positive correlation which is meaningful as completeness cost and injected distance can be induced from missing tail of trace\n",
    "\n",
    "Completeness cost:\n",
    "- Similar to conformance cost and mean conformance, completeness cost and completeness share an inversly proportional relationship - correlation greater than with injected distance\n",
    "\n"
   ]
  },
  {
   "cell_type": "markdown",
   "id": "ccc57248",
   "metadata": {},
   "source": [
    "#### W-1"
   ]
  },
  {
   "cell_type": "code",
   "execution_count": null,
   "id": "e3a5768a",
   "metadata": {},
   "outputs": [],
   "source": [
    "C_3PA_ = C_3PA_df.copy()[['TraceId', 'Completeness cost', 'Conformance cost', 'Confidence cost', 'model', 'log_type']][C_3PA_df.model.isin(PREF_W_1_LOGS)]\n",
    "#C_3PA_ = C_3PA_[~C_3PA_.log_type.isin(COMPLETENESS_LOGS)]\n",
    "C_3PA_ = C_3PA_.rename(columns={'Conformance cost':'C_3PA_conf'})\n",
    "\n",
    "pref_w_1_ = pref_w_1_df.copy()\n",
    "#pref_w_1_ = pref_w_1_[~pref_w_1_.log_type.isin(COMPLETENESS_LOGS)]\n",
    "pref_w_1_ = pref_w_1_.rename(columns={'Conformance cost':'pref_w_1_conf'})\n",
    "\n",
    "\n",
    "merged_df = pd.merge(C_3PA_, pref_w_1_, on=['model','log_type','TraceId'])\n",
    "\n",
    "pred1 = merged_df['C_3PA_conf'] > 0\n",
    "pred2 = merged_df['pref_w_1_conf'] > 0\n",
    "\n",
    "filtered_df = merged_df.loc[pred1 & pred2, :]\n",
    "\n",
    "rho_conf = stats.spearmanr(filtered_df['C_3PA_conf'], filtered_df['pref_w_1_conf'])\n",
    "rho_conf_compl = stats.spearmanr(filtered_df['Completeness cost'],filtered_df['pref_w_1_conf'])\n",
    "\n",
    "print(\n",
    "    'Conformance cost: spearman rho: {:.3f}, p-value: {:.10f}'.format(rho_conf[0], rho_conf[1]),\n",
    "    '\\nCompleteness cost - conformance cost: spearman rho: {:.3f}, p-value: {:.10f}'.format(rho_conf_compl[0], rho_conf_compl[1]), \n",
    ")"
   ]
  },
  {
   "cell_type": "markdown",
   "id": "e12faba8",
   "metadata": {},
   "source": [
    "##### Remarks\n",
    "\n",
    "Conformance cost:\n",
    "- Strong positive correlation between conformance cost in the two approaches over all traces in all logs.\n",
    "\n",
    "Completeness cost:\n",
    "- Expected positive correlation due to a higher completeness cost indicating that the trace was not observed from its begining. Thus should increase the alignment cost calculated with a conventional prefix-alignment algorithm, as it finds a path through the SPN from the starting marking. An explanation is that completeness indicates when the algorithm has to recalculated an suboptimal alignment by choosing another path in the trie. The resulting alignment costs less and taking into consideration with the strong correlation between the conformance cost of the two algorithms the corresponding alignment calculated by the SPN algorithm should be equally lower in cost."
   ]
  },
  {
   "cell_type": "markdown",
   "id": "6e7e8939",
   "metadata": {},
   "source": [
    "#### W-inf"
   ]
  },
  {
   "cell_type": "code",
   "execution_count": null,
   "id": "088a7595",
   "metadata": {},
   "outputs": [],
   "source": [
    "C_3PA_ = C_3PA_df.copy()[['TraceId', 'Completeness cost', 'Conformance cost', 'Confidence cost', 'model', 'log_type']][C_3PA_df.model.isin(PREF_W_INF_LOGS)]\n",
    "#C_3PA_ = C_3PA_[~C_3PA_.log_type.isin(COMPLETENESS_LOGS)]\n",
    "C_3PA_ = C_3PA_.rename(columns={'Conformance cost':'C_3PA_conf'})\n",
    "\n",
    "pref_w_inf_ = pref_w_inf_df.copy()\n",
    "#pref_w_inf_ = pref_w_inf_[~pref_w_inf_.log_type.isin(COMPLETENESS_LOGS)]\n",
    "pref_w_inf_ = pref_w_inf_.rename(columns={'Conformance cost':'pref_w_inf_conf'})\n",
    "\n",
    "merged_df = pd.merge(C_3PA_, pref_w_inf_, on=['model','log_type','TraceId'])\n",
    "\n",
    "pred1 = merged_df['C_3PA_conf'] > 0\n",
    "pred2 = merged_df['pref_w_inf_conf'] > 0\n",
    "\n",
    "filtered_df = merged_df.loc[pred1 & pred2, :]\n",
    "\n",
    "rho_conf = stats.spearmanr(filtered_df['C_3PA_conf'], filtered_df['pref_w_inf_conf'])\n",
    "rho_conf_compl = stats.spearmanr(filtered_df['Completeness cost'],filtered_df['pref_w_inf_conf'])\n",
    "\n",
    "print(\n",
    "    'Conformance cost: spearman rho: {:.3f}, p-value: {:.10f}'.format(rho_conf[0], rho_conf[1]),\n",
    "    '\\nCompleteness cost - conformance cost: spearman rho: {:.3f}, p-value: {:.10f}'.format(rho_conf_compl[0], rho_conf_compl[1]), \n",
    ")"
   ]
  },
  {
   "cell_type": "code",
   "execution_count": null,
   "id": "06f252cb",
   "metadata": {},
   "outputs": [],
   "source": [
    "# \"\"\" completeness only \"\"\"\n",
    "\n",
    "# print(\"Completeness logs only:\")\n",
    "\n",
    "# pred3 = filtered_df.log_type.isin(COMPLETENESS_LOGS)\n",
    "\n",
    "# filtered_df = filtered_df.loc[pred3, :]\n",
    "\n",
    "# rho_conf = stats.spearmanr(filtered_df['C_3PA_conf'], filtered_df['pref_w_inf_conf'])\n",
    "# rho_conf_compl = stats.spearmanr(filtered_df['Completeness cost'],filtered_df['pref_w_inf_conf'])\n",
    "\n",
    "# print(\n",
    "#     'Conformance cost: spearman rho: {:.3f}, p-value: {:.10f}'.format(rho_conf[0], rho_conf[1]),\n",
    "#     '\\nCompleteness cost - conformance cost: spearman rho: {:.3f}, p-value: {:.10f}'.format(rho_conf_compl[0], rho_conf_compl[1]), \n",
    "# )"
   ]
  },
  {
   "cell_type": "markdown",
   "id": "c21351cd",
   "metadata": {},
   "source": [
    "##### Remarks\n",
    "\n",
    "Conformance cost:\n",
    "- Stronger positive correlation between conformance cost than W-1.\n",
    "\n",
    "Completeness cost:\n",
    "- Slightly more correlation than with W-1. Can be intrepreted together with the also slightly higher correlation between conformance cost, that completeness represents a recovery from a bad prefix-alignment.\n"
   ]
  },
  {
   "cell_type": "markdown",
   "id": "a3acc9fe",
   "metadata": {},
   "source": [
    "#### BP"
   ]
  },
  {
   "cell_type": "code",
   "execution_count": null,
   "id": "8001e41e",
   "metadata": {},
   "outputs": [],
   "source": [
    "C_3PA_BP = C_3PA_df.copy()[['TraceId', 'Completeness cost', 'Conformance cost', 'Confidence cost', 'model', 'log_type','TraceLength']][C_3PA_df.model.isin(BP_LOGS)]\n",
    "#C_3PA_BP = C_3PA_BP[~C_3PA_BP.log_type.isin(COMPLETENESS_LOGS)]\n",
    "\n",
    "BP_mean = BP_df.groupby(['model','log_type','TraceId']).agg({'conformance': np.mean, 'completeness': np.mean, 'confidence': np.mean}).reset_index()\n",
    "#BP_mean = BP_mean[~BP_mean.log_type.isin(COMPLETENESS_LOGS)]\n",
    "merged_df = pd.merge(C_3PA_BP, BP_mean, on=['model','log_type','TraceId'])\n",
    "\n",
    "pred1 = merged_df['Conformance cost'] > 0\n",
    "pred2 = merged_df['conformance'] > 0\n",
    "\n",
    "filtered_df = merged_df.loc[pred1 & pred2, :]\n",
    "\n",
    "rho_conformance = stats.spearmanr(filtered_df['Conformance cost'], filtered_df['conformance'])\n",
    "rho_conformance_completeness = stats.spearmanr(filtered_df['Conformance cost'], filtered_df['completeness'])\n",
    "rho_confidence = stats.spearmanr(filtered_df['Confidence cost'], filtered_df['confidence'])\n",
    "rho_completeness = stats.spearmanr(filtered_df['Completeness cost'], filtered_df['completeness'])\n",
    "\n",
    "print(\n",
    "    'Conformance cost - mean conformance: spearman rho: {:.3f}, p-value: {:.10f}'.format(rho_conformance[0], rho_conformance[1]),\n",
    "    '\\nConformance cost - completeness: spearman rho: {:.3f}, p-value: {:.10f}'.format(rho_conformance_completeness[0], rho_conformance_completeness[1]), \n",
    "    '\\nConfidence: spearman rho: {:.3f}, p-value: {:.10f}'.format(rho_confidence[0], rho_confidence[1]),\n",
    "    '\\nCompleteness: spearman rho: {:.3f}, p-value: {:.10f}'.format(rho_completeness[0], rho_completeness[1])\n",
    ")"
   ]
  },
  {
   "attachments": {},
   "cell_type": "markdown",
   "id": "fc4748d7",
   "metadata": {},
   "source": [
    " #### Remarks\n",
    "\n",
    "Conformance cost - mean conformance:\n",
    "- Higher correlation between conformance cost and conformance than with hmmconf. Same inverse relationship between the two metrics.\n",
    "\n",
    "Conformance cost - completeness:\n",
    "- Meaningfull as complete traces are longer than incomplete an thus the conformance cost will be greater.\n",
    "\n",
    "Confidence:\n",
    "- Similar relationship as with conformance cost and mean conformance. Higher confidence signals the opposite of high confidence in BP.\n",
    "\n",
    "Completeness:\n",
    "- Lesser but still expected negative correlation between the two metrics for the same reasons as with the other."
   ]
  },
  {
   "cell_type": "markdown",
   "id": "b9e81981",
   "metadata": {},
   "source": [
    "### Spearman correlation with all results"
   ]
  },
  {
   "cell_type": "markdown",
   "id": "306999a6",
   "metadata": {},
   "source": [
    "#### HMMCONF"
   ]
  },
  {
   "cell_type": "code",
   "execution_count": null,
   "id": "d9b55460",
   "metadata": {},
   "outputs": [],
   "source": [
    "merged_df = pd.merge(hmmconf_mean_conf_compl, C_3PA_test, on=['model','log_type','TraceId'])\n",
    "\n",
    "rho_conf_mean_finalconf = stats.spearmanr(merged_df['Conformance cost'], merged_df['finalconf'])\n",
    "rho_conf_compl = stats.spearmanr(merged_df['Conformance cost'], merged_df['injected_distance'])\n",
    "rho_compl_injected_distance = stats.spearmanr(merged_df['Completeness cost'], merged_df['injected_distance'])\n",
    "rho_completeness = stats.spearmanr(merged_df['Completeness cost'], merged_df['completeness'])\n",
    "\n",
    "print(\n",
    "    'Conformance cost - mean final conformance: spearman rho: {:.3f}, p-value: {:.10f}'.format(rho_conf_mean_finalconf[0], rho_conf_mean_finalconf[1]),\n",
    "    '\\nConformance cost - injected distance: spearman rho: {:.3f}, p-value: {:.10f}'.format(rho_conf_compl[0], rho_conf_compl[1]), \n",
    "    '\\nCompleteness cost - injected distance: spearman rho: {:.3f}, p-value: {:.10f}'.format(rho_compl_injected_distance[0], rho_compl_injected_distance[1]),\n",
    "    '\\nCompleteness cost: spearman rho: {:.3f}, p-value: {:.10f}'.format(rho_completeness[0], rho_completeness[1])\n",
    ")"
   ]
  },
  {
   "cell_type": "markdown",
   "id": "6da42cdf",
   "metadata": {},
   "source": [
    "#### W-1"
   ]
  },
  {
   "cell_type": "code",
   "execution_count": null,
   "id": "29b5eb32",
   "metadata": {},
   "outputs": [],
   "source": [
    "merged_df = pd.merge(C_3PA_, pref_w_1_, on=['model','log_type','TraceId'])\n",
    "\n",
    "rho_conf = stats.spearmanr(merged_df['C_3PA_conf'], merged_df['pref_w_1_conf'])\n",
    "rho_conf_compl = stats.spearmanr(merged_df['Completeness cost'],merged_df['pref_w_1_conf'])\n",
    "\n",
    "print(\n",
    "    'Conformance cost: spearman rho: {:.3f}, p-value: {:.10f}'.format(rho_conf[0], rho_conf[1]),\n",
    "    '\\nCompleteness cost - conformance cost: spearman rho: {:.3f}, p-value: {:.10f}'.format(rho_conf_compl[0], rho_conf_compl[1]), \n",
    ")"
   ]
  },
  {
   "cell_type": "markdown",
   "id": "2f98339e",
   "metadata": {},
   "source": [
    "#### W-inf"
   ]
  },
  {
   "cell_type": "code",
   "execution_count": null,
   "id": "23c0244e",
   "metadata": {},
   "outputs": [],
   "source": [
    "merged_df = pd.merge(C_3PA_, pref_w_inf_, on=['model','log_type','TraceId'])\n",
    "\n",
    "rho_conf = stats.spearmanr(merged_df['C_3PA_conf'], merged_df['pref_w_inf_conf'])\n",
    "rho_conf_compl = stats.spearmanr(merged_df['Completeness cost'],merged_df['pref_w_inf_conf'])\n",
    "\n",
    "print(\n",
    "    'Conformance cost: spearman rho: {:.3f}, p-value: {:.10f}'.format(rho_conf[0], rho_conf[1]),\n",
    "    '\\nCompleteness cost - conformance cost: spearman rho: {:.3f}, p-value: {:.10f}'.format(rho_conf_compl[0], rho_conf_compl[1]), \n",
    ")"
   ]
  },
  {
   "cell_type": "markdown",
   "id": "63b9f8ba",
   "metadata": {},
   "source": [
    "#### BP"
   ]
  },
  {
   "cell_type": "code",
   "execution_count": null,
   "id": "5ad26ad8",
   "metadata": {},
   "outputs": [],
   "source": [
    "merged_df = pd.merge(C_3PA_BP, BP_mean, on=['model','log_type','TraceId'])\n",
    "\n",
    "rho_conformance = stats.spearmanr(merged_df['Conformance cost'], merged_df['conformance'])\n",
    "rho_conformance_completeness = stats.spearmanr(merged_df['Conformance cost'], merged_df['completeness'])\n",
    "rho_confidence = stats.spearmanr(merged_df['Confidence cost'], merged_df['confidence'])\n",
    "rho_completeness = stats.spearmanr(merged_df['Completeness cost'], merged_df['completeness'])\n",
    "\n",
    "print(\n",
    "    'Conformance cost - mean conformance: spearman rho: {:.3f}, p-value: {:.10f}'.format(rho_conformance[0], rho_conformance[1]),\n",
    "    '\\nConformance cost - completeness: spearman rho: {:.3f}, p-value: {:.10f}'.format(rho_conformance_completeness[0], rho_conformance_completeness[1]), \n",
    "    '\\nConfidence: spearman rho: {:.3f}, p-value: {:.10f}'.format(rho_confidence[0], rho_confidence[1]),\n",
    "    '\\nCompleteness: spearman rho: {:.3f}, p-value: {:.10f}'.format(rho_completeness[0], rho_completeness[1])\n",
    ")"
   ]
  },
  {
   "cell_type": "markdown",
   "id": "a1277b37",
   "metadata": {},
   "source": [
    "## Cumulitative plots"
   ]
  },
  {
   "cell_type": "markdown",
   "id": "8508d911",
   "metadata": {},
   "source": [
    "### W-1"
   ]
  },
  {
   "cell_type": "code",
   "execution_count": null,
   "id": "a119744c",
   "metadata": {},
   "outputs": [],
   "source": [
    "C_3PA_ = C_3PA_.rename(columns={'C_3PA_conf':'Conformance cost'})\n",
    "\n",
    "pref_w_1_df['occ'] = len(pref_w_1_df) * ['W-1']\n",
    "C_3PA_['occ'] = len(C_3PA_) * ['WS_all']\n",
    "\n",
    "cumu_df = pd.concat([pref_w_1_df, C_3PA_])\n",
    "\n",
    "sns.histplot(x='Conformance cost', data=cumu_df, hue='occ', bins=len(cumu_df), stat=\"density\",\n",
    "             element=\"step\", fill=False, cumulative=True, common_norm=False);\n",
    "#plt.title(\"Cumulative distribution function\");\n",
    "plt.tight_layout()\n",
    "plt.savefig(\"images/cumulative plot - w-1.png\")\n",
    "plt.show()"
   ]
  },
  {
   "cell_type": "markdown",
   "id": "125a4b22",
   "metadata": {},
   "source": [
    "#### Intrepretation\n",
    "\n",
    "- lines are not crossing at ~0.5 which means the median of the two distributions is not the same."
   ]
  },
  {
   "cell_type": "markdown",
   "id": "35344851",
   "metadata": {},
   "source": [
    "### W-inf"
   ]
  },
  {
   "cell_type": "code",
   "execution_count": null,
   "id": "3bc608a3",
   "metadata": {},
   "outputs": [],
   "source": [
    "pref_w_inf_df['occ'] = len(pref_w_inf_df) * ['W-inf']\n",
    "\n",
    "cumu_df = pd.concat([pref_w_inf_df, C_3PA_])\n",
    "\n",
    "sns.histplot(x='Conformance cost', data=cumu_df, hue='occ', bins=len(cumu_df), stat=\"density\",\n",
    "             element=\"step\", fill=False, cumulative=True, common_norm=False);\n",
    "#plt.title(\"Cumulative distribution function\");\n",
    "plt.tight_layout()\n",
    "plt.savefig(\"images/cumulative plot - w-inf.png\")\n",
    "plt.show()"
   ]
  },
  {
   "cell_type": "markdown",
   "id": "438b4698",
   "metadata": {},
   "source": [
    "#### Intrepretation\n",
    "\n",
    "- lines are crossing at ~0.5 which means the median of the two distributions is the same.\n",
    "- both plots exhibit an almost identical curve"
   ]
  },
  {
   "cell_type": "code",
   "execution_count": null,
   "id": "8d5dde65",
   "metadata": {},
   "outputs": [],
   "source": [
    "print(\"Cumulitative density plot on completeness logs\")\n",
    "cumu_df = cumu_df[cumu_df.log_type.isin(COMPLETENESS_LOGS)]\n",
    "\n",
    "sns.histplot(x='Conformance cost', data=cumu_df, hue='occ', bins=len(cumu_df), stat=\"density\",\n",
    "             element=\"step\", fill=False, cumulative=True, common_norm=False);\n",
    "#plt.title(\"Cumulative distribution function - completeness logs only\");\n",
    "plt.tight_layout()\n",
    "plt.savefig(\"images/cumulative plot - w-inf - completeness logs only.pdf\")\n",
    "plt.show()"
   ]
  },
  {
   "cell_type": "code",
   "execution_count": null,
   "id": "84db0035",
   "metadata": {},
   "outputs": [],
   "source": [
    "# Example:\n",
    "\n",
    "# < H > is missing as a model move in the OCC\n",
    "\n",
    "# size = 8 \\\n",
    "# Trace: {C,E,G,D,B,F,A,H}\n",
    "\n",
    "# (>>,A):1.0  \\\n",
    "# (C,C):0.0 \\\n",
    "# (E,E):0.0 \\\n",
    "# (G,G):0.0 \\\n",
    "# (>>,H):1.0                  <--- \\\n",
    "# (>>,F):1.0 \\\n",
    "# (D,D):0.0 \\\n",
    "# (B,B):0.0 \\\n",
    "# (F,>>):1.0 \\\n",
    "# (A,>>):1.0 \\\n",
    "# (H,>>):1.0\n",
    "\n",
    "# Total cost = 6\n",
    " \n",
    "# [logMove:>>, modelMove:A, cost:1] \\\n",
    "# [logMove:C, modelMove:C, cost:0] \\\n",
    "# [logMove:E, modelMove:E, cost:0] \\\n",
    "# [logMove:G, modelMove:G, cost:0] \\\n",
    "# [logMove:D, modelMove:>>, cost:1] \\\n",
    "# [logMove:B, modelMove:>>, cost:1] \\\n",
    "# [logMove:F, modelMove:>>, cost:1] \\\n",
    "# [logMove:A, modelMove:>>, cost:1] \\\n",
    "# [logMove:H, modelMove:H, cost:0]\n",
    "\n",
    "# Total cost:5"
   ]
  },
  {
   "cell_type": "markdown",
   "id": "3c0c1c41",
   "metadata": {},
   "source": [
    "## Real life data set evaluation"
   ]
  },
  {
   "cell_type": "code",
   "execution_count": null,
   "id": "401ede69",
   "metadata": {},
   "outputs": [],
   "source": [
    "import os\n",
    "import pm4py\n",
    "from pm4py.util import constants\n",
    "from pm4py.statistics.traces.generic.log import case_statistics\n",
    "from pm4py.visualization.graphs import visualizer as graphs_visualizer\n",
    "\n",
    "RL_DIR = os.path.join('..','real-life-dataset','Hospital Billing')\n",
    "\n",
    "log_path = os.path.join(RL_DIR,\"Hospital Billing - Event Log.xes\")\n",
    "log = pm4py.read_xes(log_path)"
   ]
  },
  {
   "cell_type": "code",
   "execution_count": null,
   "id": "87e16410",
   "metadata": {},
   "outputs": [],
   "source": [
    "\"\"\" case duration distribution \"\"\"\n",
    "x, y = case_statistics.get_kde_caseduration(log, parameters={constants.PARAMETER_CONSTANT_TIMESTAMP_KEY: \"time:timestamp\"})\n",
    "\n",
    "msg = \"P4PY inbuilt function to plot kernel density case duration\"\n",
    "print(msg)\n",
    "\n",
    "gviz = graphs_visualizer.apply_plot(x, y, variant=graphs_visualizer.Variants.CASES)\n",
    "graphs_visualizer.view(gviz)\n",
    "\n",
    "# gviz = graphs_visualizer.apply_semilogx(x, y, variant=graphs_visualizer.Variants.CASES)\n",
    "# graphs_visualizer.view(gviz)\n",
    "\n",
    "plt.savefig(\"images/real life data set - case duration.pdf\")\n",
    "plt.show()"
   ]
  },
  {
   "cell_type": "code",
   "execution_count": null,
   "id": "6343761c",
   "metadata": {},
   "outputs": [],
   "source": [
    "result_path = os.path.join(RL_DIR, 'result.csv')\n",
    "result_df = pd.read_csv(result_path)\n",
    "result_df = result_df.rename(columns={\n",
    "    ' Activity':'Activity',\n",
    "    ' Conformance cost':'Conformance cost',\n",
    "    ' Completeness cost':'Completeness cost',\n",
    "    ' Confidence cost':'Confidence cost',\n",
    "    ' total cost':'total cost',\n",
    "    ' ExecutionTime_TRIE_STREAMING_C_3PA': 'ExecutionTime'\n",
    "})"
   ]
  },
  {
   "cell_type": "code",
   "execution_count": null,
   "id": "f4e3ec55",
   "metadata": {},
   "outputs": [],
   "source": [
    "\"\"\" removing noise categorized by high number of consecutive repeating activities \"\"\"\n",
    "\n",
    "t_ = result_df.groupby('TraceId')['Activity'].value_counts().groupby(level=0).head(1)\n",
    "t_ = t_[t_ < 5]\n",
    "idxs = t_.index.to_flat_index()\n",
    "idxs = list(list(zip(*idxs))[0])\n",
    "result_df = result_df.loc[result_df.TraceId.isin(idxs)]\n",
    "\n",
    "\"\"\" removing short cases < 10 \"\"\"\n",
    "t_ = result_df.groupby('TraceId').agg(np.size)\n",
    "t_ = t_[t_ > 10].dropna()\n",
    "result_df = result_df.loc[result_df.TraceId.isin(t_.index.values)]"
   ]
  },
  {
   "cell_type": "code",
   "execution_count": null,
   "id": "1ff249c8",
   "metadata": {},
   "outputs": [],
   "source": [
    "msg = \"removed noise categorized by high number of consecutive repeating activities with threshold 5\\n\\\n",
    "removing short cases < 10\"\n",
    "\n",
    "print(msg)\n",
    "print(90*\"_\")\n",
    "result_df.info()"
   ]
  },
  {
   "cell_type": "code",
   "execution_count": null,
   "id": "c338cded",
   "metadata": {},
   "outputs": [],
   "source": [
    "\"\"\" non conforming cases \"\"\"\n",
    "\n",
    "result_ = result_df[result_df['Conformance cost'] > 0]\n",
    "\n",
    "plt.figure(figsize=(15,10))\n",
    "sns.boxplot(x='Activity', y='Conformance cost', data=result_.sort_values('Activity'));\n",
    "plt.xticks(rotation=90)\n",
    "#plt.title(\"Boxplot: activities alignment cost distribution on non conforming cases\");\n",
    "plt.savefig(\"images/real life data set - box plot.pdf\")\n",
    "plt.show()"
   ]
  },
  {
   "cell_type": "code",
   "execution_count": null,
   "id": "8d250275",
   "metadata": {},
   "outputs": [],
   "source": [
    "result__ = result_.groupby('TraceId')['Conformance cost'].agg({np.max})\n",
    "\n",
    "sns.kdeplot(x=[val for li in result__.values for val in li], data=result__.index, common_norm=False);\n",
    "plt.ylabel(\"Case density\")\n",
    "plt.xlabel(\"Conformance cost\")\n",
    "#plt.title(\"Conformance cost distribution on cases\");\n",
    "\n",
    "plt.savefig(\"images/real life data set - conformance cost dist.pdf\")\n",
    "plt.show()"
   ]
  }
 ],
 "metadata": {
  "kernelspec": {
   "display_name": "Python 3 (ipykernel)",
   "language": "python",
   "name": "python3"
  },
  "language_info": {
   "codemirror_mode": {
    "name": "ipython",
    "version": 3
   },
   "file_extension": ".py",
   "mimetype": "text/x-python",
   "name": "python",
   "nbconvert_exporter": "python",
   "pygments_lexer": "ipython3",
   "version": "3.10.6"
  },
  "vscode": {
   "interpreter": {
    "hash": "25d6012917853ab56ac3c0c43a572b9f081fd0d0a57566470a8dce2a44076518"
   }
  }
 },
 "nbformat": 4,
 "nbformat_minor": 5
}

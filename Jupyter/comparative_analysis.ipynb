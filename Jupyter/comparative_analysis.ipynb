{
 "cells": [
  {
   "cell_type": "code",
   "execution_count": 1,
   "id": "cd4fa797",
   "metadata": {},
   "outputs": [],
   "source": [
    "import pandas as pd\n",
    "import numpy as np\n",
    "import stats\n",
    "from scipy import stats\n",
    "import matplotlib.pyplot as plt\n",
    "import seaborn as sns\n",
    "import os\n",
    "from utils import get_occ_dfs, get_hmmconf_df, get_bp_df\n",
    "import validation\n",
    "from validation import get_dataset_metrics, extract_filename, plot_bar_chart_comparison, get_statistics, print_stat, print_procentual\n",
    "\n",
    "from IPython.utils import io"
   ]
  },
  {
   "cell_type": "code",
   "execution_count": 2,
   "id": "688836e8",
   "metadata": {},
   "outputs": [],
   "source": [
    "INPUT_DIR = os.path.join('..','output')\n",
    "PREFIX_ALIGN_DIR = os.path.join(INPUT_DIR, 'prefix-alignment')\n",
    "PREFIX_W_1_DIR = os.path.join(PREFIX_ALIGN_DIR, 'window-size-1')\n",
    "PREFIX_W_INF_DIR = os.path.join(PREFIX_ALIGN_DIR, 'window-size-maximum')\n",
    "HMMCONF_DIR = os.path.join(INPUT_DIR,'hmmconf')\n",
    "C_3PO_DIR = os.path.join(INPUT_DIR,'C-3PO')\n",
    "BP_DIR = os.path.join(INPUT_DIR,'bp')\n",
    "\n",
    "#LOGS = [\"BPI_2012\",\"BPI_2017\",\"M1\",\"M2\",\"M4\",\"M8\",\"M9\"]\n",
    "NOT_BP_LOGS = ['M4','M9']\n",
    "LOGS = [\"BPI_2017\",\"BPI_2012\",\"M1\",\"M2\",\"M8\"]\n",
    "LOG_TYPES = ['completenes20', 'completeness50', 'sim']\n",
    "COMPLETENESS_LOGS = [\"completenes20\",\"completeness50\"]"
   ]
  },
  {
   "cell_type": "code",
   "execution_count": 3,
   "id": "89b2c5de",
   "metadata": {},
   "outputs": [],
   "source": [
    "#!jt -t grade3\n",
    "#!jt -t chesterish\n",
    "#jupyter nbconvert --to webpdf --no-input .\\comparative_analysis.ipynb"
   ]
  },
  {
   "cell_type": "markdown",
   "id": "8055b51a",
   "metadata": {},
   "source": [
    "## Datasets\n",
    "note: Kristo can share his insights\n",
    "- completeness logs\n",
    "- regular logs\n",
    "- model types\n",
    "\n",
    "Additional:\n",
    "1. Summary statistics\n",
    "    - trace length distribution\n",
    "    - unique acitivities\n",
    "2. Behaviour (parallelism, XOR etc)"
   ]
  },
  {
   "cell_type": "markdown",
   "id": "a40c7dbb",
   "metadata": {},
   "source": [
    "### Log statistics"
   ]
  },
  {
   "cell_type": "markdown",
   "id": "50e81651",
   "metadata": {},
   "source": [
    "## Preprocessing"
   ]
  },
  {
   "cell_type": "code",
   "execution_count": 4,
   "id": "36a22318",
   "metadata": {},
   "outputs": [],
   "source": [
    "from IPython.utils import io\n",
    "\n",
    "occ_output_dirs = [C_3PO_DIR, PREFIX_W_1_DIR, PREFIX_W_INF_DIR, HMMCONF_DIR, BP_DIR]\n",
    "with io.capture_output() as captured:\n",
    "    C_3PO_df = get_occ_dfs(occ_output_dirs[0], True)\n",
    "\n",
    "    pref_w_1_df = get_occ_dfs(occ_output_dirs[1])\n",
    "\n",
    "    pref_w_inf_df = get_occ_dfs(occ_output_dirs[2])\n",
    "\n",
    "    hmmconf_df = get_hmmconf_df(occ_output_dirs[3])\n",
    "\n",
    "    BP_df = get_bp_df(occ_output_dirs[4])"
   ]
  },
  {
   "cell_type": "code",
   "execution_count": 5,
   "id": "0d6f2b4a",
   "metadata": {},
   "outputs": [
    {
     "name": "stdout",
     "output_type": "stream",
     "text": [
      "3PO\n",
      "<class 'pandas.core.frame.DataFrame'>\n",
      "RangeIndex: 10500 entries, 0 to 10499\n",
      "Data columns (total 7 columns):\n",
      " #   Column             Non-Null Count  Dtype  \n",
      "---  ------             --------------  -----  \n",
      " 0   TraceId            10500 non-null  int64  \n",
      " 1   Conformance cost   10500 non-null  float64\n",
      " 2   Completeness cost  10500 non-null  float64\n",
      " 3   Confidence cost    10500 non-null  float64\n",
      " 4   ExecutionTime      10500 non-null  float64\n",
      " 5   model              10500 non-null  object \n",
      " 6   log_type           10500 non-null  object \n",
      "dtypes: float64(4), int64(1), object(2)\n",
      "memory usage: 574.3+ KB\n",
      "None\n",
      "________________________________________________________________________________\n"
     ]
    }
   ],
   "source": [
    "print(\"3PO\")\n",
    "print(C_3PO_df.info())\n",
    "print(80*\"_\")"
   ]
  },
  {
   "cell_type": "code",
   "execution_count": 6,
   "id": "d08eb54a",
   "metadata": {},
   "outputs": [
    {
     "name": "stdout",
     "output_type": "stream",
     "text": [
      "W-1\n",
      "<class 'pandas.core.frame.DataFrame'>\n",
      "RangeIndex: 10500 entries, 0 to 10499\n",
      "Data columns (total 5 columns):\n",
      " #   Column            Non-Null Count  Dtype  \n",
      "---  ------            --------------  -----  \n",
      " 0   TraceId           10500 non-null  int64  \n",
      " 1   Conformance cost  10500 non-null  float64\n",
      " 2   ExecutionTime     10500 non-null  float64\n",
      " 3   model             10500 non-null  object \n",
      " 4   log_type          10500 non-null  object \n",
      "dtypes: float64(2), int64(1), object(2)\n",
      "memory usage: 410.3+ KB\n",
      "None\n",
      "________________________________________________________________________________\n"
     ]
    }
   ],
   "source": [
    "print(\"W-1\")\n",
    "print(pref_w_1_df.info())\n",
    "print(80*\"_\")"
   ]
  },
  {
   "cell_type": "code",
   "execution_count": 7,
   "id": "703034e8",
   "metadata": {},
   "outputs": [
    {
     "name": "stdout",
     "output_type": "stream",
     "text": [
      "W-inf\n",
      "<class 'pandas.core.frame.DataFrame'>\n",
      "RangeIndex: 10500 entries, 0 to 10499\n",
      "Data columns (total 5 columns):\n",
      " #   Column            Non-Null Count  Dtype  \n",
      "---  ------            --------------  -----  \n",
      " 0   TraceId           10500 non-null  int64  \n",
      " 1   Conformance cost  10500 non-null  float64\n",
      " 2   ExecutionTime     10500 non-null  float64\n",
      " 3   model             10500 non-null  object \n",
      " 4   log_type          10500 non-null  object \n",
      "dtypes: float64(2), int64(1), object(2)\n",
      "memory usage: 410.3+ KB\n",
      "None\n",
      "________________________________________________________________________________\n"
     ]
    }
   ],
   "source": [
    "print(\"W-inf\")\n",
    "print(pref_w_inf_df.info())\n",
    "print(80*\"_\")"
   ]
  },
  {
   "cell_type": "code",
   "execution_count": 8,
   "id": "b4bc5719",
   "metadata": {},
   "outputs": [
    {
     "name": "stdout",
     "output_type": "stream",
     "text": [
      "hmmconf\n",
      "<class 'pandas.core.frame.DataFrame'>\n",
      "RangeIndex: 41368 entries, 0 to 41367\n",
      "Data columns (total 9 columns):\n",
      " #   Column             Non-Null Count  Dtype  \n",
      "---  ------             --------------  -----  \n",
      " 0   TraceId            41368 non-null  float64\n",
      " 1   ExecutionTime      41368 non-null  float64\n",
      " 2   emitconf           41368 non-null  float64\n",
      " 3   stateconf          41368 non-null  float64\n",
      " 4   finalconf          41368 non-null  float64\n",
      " 5   injected_distance  41368 non-null  float64\n",
      " 6   completeness       41368 non-null  float64\n",
      " 7   model              41368 non-null  object \n",
      " 8   log_type           41368 non-null  object \n",
      "dtypes: float64(7), object(2)\n",
      "memory usage: 2.8+ MB\n",
      "None\n",
      "Traces total: 2010\n",
      "________________________________________________________________________________\n"
     ]
    }
   ],
   "source": [
    "print(\"hmmconf\")\n",
    "print(hmmconf_df.info())\n",
    "print(\"Traces total: {}\".format(hmmconf_df.groupby(['model','log_type','TraceId']).agg({'ExecutionTime': np.sum}).shape[0]))\n",
    "print(80*\"_\")"
   ]
  },
  {
   "cell_type": "code",
   "execution_count": 9,
   "id": "fc8c38e6",
   "metadata": {},
   "outputs": [
    {
     "name": "stdout",
     "output_type": "stream",
     "text": [
      "BP\n",
      "<class 'pandas.core.frame.DataFrame'>\n",
      "RangeIndex: 206418 entries, 0 to 206417\n",
      "Data columns (total 8 columns):\n",
      " #   Column         Non-Null Count   Dtype  \n",
      "---  ------         --------------   -----  \n",
      " 0   TraceId        206418 non-null  int32  \n",
      " 1   activityId     206418 non-null  object \n",
      " 2   conformance    206418 non-null  float64\n",
      " 3   completeness   206418 non-null  float64\n",
      " 4   confidence     206418 non-null  float64\n",
      " 5   ExecutionTime  206418 non-null  float64\n",
      " 6   model          206418 non-null  object \n",
      " 7   log_type       206418 non-null  object \n",
      "dtypes: float64(4), int32(1), object(3)\n",
      "memory usage: 11.8+ MB\n",
      "None\n",
      "Traces total: 10500\n",
      "________________________________________________________________________________\n"
     ]
    }
   ],
   "source": [
    "print(\"BP\")\n",
    "print(BP_df.info())\n",
    "print(\"Traces total: {}\".format(BP_df.groupby(['model','log_type','TraceId']).agg({'ExecutionTime': np.sum}).shape[0]))\n",
    "print(80*\"_\")"
   ]
  },
  {
   "cell_type": "code",
   "execution_count": 10,
   "id": "e9b71fdf",
   "metadata": {},
   "outputs": [
    {
     "name": "stdout",
     "output_type": "stream",
     "text": [
      "C_3PO_df\n",
      "       Completeness cost  Conformance cost  Confidence cost  ExecutionTime\n",
      "count       10500.000000      10500.000000     10500.000000   10500.000000\n",
      "mean            1.051524         17.267524         2.827524       2.025695\n",
      "std             1.830911         13.703859         5.206075       2.563113\n",
      "min             0.000000          0.000000         0.000000       0.000000\n",
      "25%             0.000000          6.000000         0.000000       0.400000\n",
      "50%             0.000000         15.000000         0.000000       1.400000\n",
      "75%             2.000000         25.000000         4.000000       2.800000\n",
      "max            19.000000        170.000000        22.000000      53.600000\n",
      "________________________________________________________________________________\n"
     ]
    }
   ],
   "source": [
    "print(\"C_3PO_df\")\n",
    "print(C_3PO_df[['Completeness cost', 'Conformance cost', 'Confidence cost', 'ExecutionTime']].describe())\n",
    "print(80*\"_\")"
   ]
  },
  {
   "cell_type": "code",
   "execution_count": 11,
   "id": "852f0fd7",
   "metadata": {},
   "outputs": [
    {
     "name": "stdout",
     "output_type": "stream",
     "text": [
      "pref_w_1_df\n",
      "       Conformance cost  ExecutionTime\n",
      "count      10500.000000   10500.000000\n",
      "mean          17.537048      20.518133\n",
      "std           12.339433      52.157159\n",
      "min            0.000000       0.000000\n",
      "25%            8.000000       1.000000\n",
      "50%           15.000000       8.200000\n",
      "75%           24.000000      21.850000\n",
      "max          167.000000    1833.200000\n",
      "________________________________________________________________________________\n"
     ]
    }
   ],
   "source": [
    "print(\"pref_w_1_df\")\n",
    "print(pref_w_1_df[['Conformance cost', 'ExecutionTime']].describe())\n",
    "print(80*\"_\")"
   ]
  },
  {
   "cell_type": "code",
   "execution_count": 12,
   "id": "08c579d5",
   "metadata": {},
   "outputs": [
    {
     "name": "stdout",
     "output_type": "stream",
     "text": [
      "pref_w_inf_df\n",
      "       Conformance cost  ExecutionTime\n",
      "count      10500.000000   10500.000000\n",
      "mean          15.201714      38.727562\n",
      "std           11.512152     104.886534\n",
      "min            0.000000       0.000000\n",
      "25%            7.000000       3.400000\n",
      "50%           12.000000      14.000000\n",
      "75%           21.000000      40.200000\n",
      "max          162.000000    4249.000000\n",
      "________________________________________________________________________________\n"
     ]
    }
   ],
   "source": [
    "print(\"pref_w_inf_df\")\n",
    "print(pref_w_inf_df[['Conformance cost', 'ExecutionTime']].describe())\n",
    "print(80*\"_\")"
   ]
  },
  {
   "cell_type": "code",
   "execution_count": 13,
   "id": "71df334c",
   "metadata": {},
   "outputs": [
    {
     "name": "stdout",
     "output_type": "stream",
     "text": [
      "hmmconf\n",
      "       ExecutionTime     finalconf  injected_distance  completeness\n",
      "count   41368.000000  41368.000000       41368.000000  41368.000000\n",
      "mean        0.198358      0.443630           7.141269      0.699586\n",
      "std         0.777391      0.417259           7.716626      0.227686\n",
      "min         0.000000      0.000000           0.000000      0.125000\n",
      "25%         0.000000      0.081997           2.000000      0.545455\n",
      "50%         0.000000      0.183405           5.000000      0.750000\n",
      "75%         0.000000      0.984876           9.600000      0.876774\n",
      "max        42.486520      1.000000          81.000000      1.000000\n",
      "________________________________________________________________________________\n"
     ]
    }
   ],
   "source": [
    "print(\"hmmconf\")\n",
    "print(hmmconf_df[['ExecutionTime', 'finalconf', 'injected_distance', 'completeness']].describe())\n",
    "print(80*\"_\")"
   ]
  },
  {
   "cell_type": "code",
   "execution_count": 14,
   "id": "65370cc9",
   "metadata": {},
   "outputs": [
    {
     "name": "stdout",
     "output_type": "stream",
     "text": [
      "BP_df\n",
      "       ExecutionTime    conformance   completeness     confidence\n",
      "count  206418.000000  206418.000000  206418.000000  206418.000000\n",
      "mean        0.001917       0.374243       0.693455       0.657628\n",
      "std         0.034577       0.178135       0.287139       0.235074\n",
      "min         0.000220       0.000000       0.000000       0.000000\n",
      "25%         0.000900       0.250000       0.476190       0.520000\n",
      "50%         0.001140       0.361667       0.771429       0.680000\n",
      "75%         0.001480       0.487968       1.000000       0.840000\n",
      "max         6.432220       1.000000       1.000000       1.000000\n",
      "________________________________________________________________________________\n"
     ]
    }
   ],
   "source": [
    "print(\"BP_df\")\n",
    "print(BP_df[['ExecutionTime', 'conformance', 'completeness', 'confidence']].describe())\n",
    "print(80*\"_\")"
   ]
  },
  {
   "cell_type": "markdown",
   "id": "4374d757",
   "metadata": {},
   "source": [
    "## Validation"
   ]
  },
  {
   "cell_type": "code",
   "execution_count": 15,
   "id": "17006cee",
   "metadata": {},
   "outputs": [],
   "source": [
    "dims_14 = {'conf': 1, 'time': 2}\n",
    "avg_costs_14 = {'conf': [], 'time': []}\n",
    "\n",
    "dims_25 = {'conf': 1, 'compl': 2, 'confi': 3, 'total': 4, 'time': 5}\n",
    "avg_costs_25 = {'conf': [], 'compl': [], 'confi': [], 'total': [], 'time': []}\n",
    "\n",
    "no_compl_no_conf_dict, _ = get_dataset_metrics(\n",
    "    INPUT_DIR+\"/tripleocc_runs/no_compl_no_conf\", dims=dims_25, avg_costs=avg_costs_25, regex_f=extract_filename)\n",
    "no_compl_avg_dict, _ = get_dataset_metrics(\n",
    "    INPUT_DIR+\"/tripleocc_runs/no_compl_avg\", dims=dims_25, avg_costs=avg_costs_25, regex_f=extract_filename)\n",
    "no_compl_min_dict, _ = get_dataset_metrics(\n",
    "    INPUT_DIR+\"/tripleocc_runs/no_compl_min\", dims=dims_25, avg_costs=avg_costs_25, regex_f=extract_filename)\n",
    "no_conf_ws_all_states_dict, _ = get_dataset_metrics(\n",
    "    INPUT_DIR+\"/tripleocc_runs/no_conf_ws_all_states\", dims=dims_25, avg_costs=avg_costs_25, regex_f=extract_filename)\n",
    "no_conf_ws_root_dict, dataset_keys = get_dataset_metrics(\n",
    "    INPUT_DIR+\"/tripleocc_runs/no_conf_ws_root\", dims=dims_25, avg_costs=avg_costs_25, regex_f=extract_filename)"
   ]
  },
  {
   "cell_type": "markdown",
   "id": "810dc603",
   "metadata": {},
   "source": [
    "### Completeness"
   ]
  },
  {
   "cell_type": "code",
   "execution_count": 16,
   "id": "52ad710b",
   "metadata": {},
   "outputs": [],
   "source": [
    "no_compl_no_conf_compl_stats=get_statistics(no_compl_no_conf_dict, validation.completeness_output)\n",
    "no_conf_ws_root_stats=get_statistics(no_conf_ws_root_dict, validation.completeness_output)\n",
    "no_conf_ws_all_stats=get_statistics(no_conf_ws_all_states_dict, validation.completeness_output)"
   ]
  },
  {
   "cell_type": "code",
   "execution_count": 17,
   "id": "511eadf3",
   "metadata": {},
   "outputs": [
    {
     "data": {
      "image/png": "[encoded data removed]",
      "text/plain": [
       "<Figure size 432x288 with 1 Axes>"
      ]
     },
     "metadata": {
      "needs_background": "light"
     },
     "output_type": "display_data"
    },
    {
     "name": "stdout",
     "output_type": "stream",
     "text": [
      "ws root stats:\n",
      "ws root: mean mean all logs 19.437 - IWS: mean mean all logs 19.96\n",
      "ws root: mean std all logs 9.896 - IWS: mean std all logs 9.679\n",
      "Decrease % in conformance: -2.62\n"
     ]
    }
   ],
   "source": [
    "\"\"\"Grouped bar chart - ws root\"\"\"\n",
    "\n",
    "plot_bar_chart_comparison(validation.completeness_output, no_compl_no_conf_compl_stats,\n",
    "                            no_conf_ws_root_stats, 'mean', ['standard', 'ws_root'], \"alignment cost\", \"avg alignment cost pr log\")\n",
    "\n",
    "print(\"ws root stats:\")\n",
    "print_stat('mean', no_conf_ws_root_stats, no_compl_no_conf_compl_stats, \"ws root\", \"IWS\")\n",
    "print_stat('std', no_conf_ws_root_stats, no_compl_no_conf_compl_stats,  \"ws root\", \"IWS\")\n",
    "print_procentual('mean','conformance',no_conf_ws_root_stats, no_compl_no_conf_compl_stats)"
   ]
  },
  {
   "cell_type": "code",
   "execution_count": 18,
   "id": "6caedff7",
   "metadata": {},
   "outputs": [
    {
     "data": {
      "image/png": "[encoded data removed]",
      "text/plain": [
       "<Figure size 432x288 with 1 Axes>"
      ]
     },
     "metadata": {
      "needs_background": "light"
     },
     "output_type": "display_data"
    },
    {
     "name": "stdout",
     "output_type": "stream",
     "text": [
      "ws all stats:\n",
      "ws all: mean mean all logs 17.804 - IWS: mean mean all logs 19.96\n",
      "ws all: mean std all logs 9.402 - IWS: mean std all logs 9.679\n",
      "Decrease % in conformance: -10.802\n"
     ]
    }
   ],
   "source": [
    "\"\"\"Grouped bar chart - ws all\"\"\"\n",
    "\n",
    "plot_bar_chart_comparison(validation.completeness_output, no_compl_no_conf_compl_stats,\n",
    "                            no_conf_ws_all_stats, 'mean', ['standard', 'ws_all'], \"alignment cost\", \"avg alignment cost pr log\")\n",
    "\n",
    "print(\"ws all stats:\")\n",
    "print_stat('mean', no_conf_ws_all_stats, no_compl_no_conf_compl_stats, \"ws all\", \"IWS\")\n",
    "print_stat('std', no_conf_ws_all_stats, no_compl_no_conf_compl_stats,  \"ws all\", \"IWS\")\n",
    "print_procentual('mean','conformance',no_conf_ws_all_stats, no_compl_no_conf_compl_stats)"
   ]
  },
  {
   "cell_type": "markdown",
   "id": "8607acd7",
   "metadata": {},
   "source": [
    "#### Completeness all logs"
   ]
  },
  {
   "cell_type": "code",
   "execution_count": 19,
   "id": "332971c0",
   "metadata": {},
   "outputs": [],
   "source": [
    "no_compl_no_conf_compl_stats = get_statistics(no_compl_no_conf_dict, validation.normal_output)\n",
    "no_conf_ws_root_stats = get_statistics(no_conf_ws_root_dict, validation.normal_output)\n",
    "no_conf_ws_all_stats = get_statistics(no_conf_ws_all_states_dict, validation.normal_output)"
   ]
  },
  {
   "cell_type": "code",
   "execution_count": 20,
   "id": "cfbf9c1b",
   "metadata": {},
   "outputs": [
    {
     "data": {
      "image/png": "[encoded data removed]",
      "text/plain": [
       "<Figure size 432x288 with 1 Axes>"
      ]
     },
     "metadata": {
      "needs_background": "light"
     },
     "output_type": "display_data"
    },
    {
     "name": "stdout",
     "output_type": "stream",
     "text": [
      "ws root stats:\n",
      "avg conf: mean mean all logs 26.347 - IWS: mean mean all logs 26.379\n",
      "avg conf: mean std all logs 15.344 - IWS: mean std all logs 15.344\n",
      "Decrease % in conformance: -0.121\n"
     ]
    }
   ],
   "source": [
    "\"\"\" grouped bar chart ws root \"\"\"\n",
    "\n",
    "plot_bar_chart_comparison(validation.normal_output, no_compl_no_conf_compl_stats,\n",
    "                          no_conf_ws_root_stats, 'mean', ['standard', 'ws_root'], \"alignment cost\", \"avg alignment cost pr log\")\n",
    "\n",
    "print(\"ws root stats:\")\n",
    "print_stat('mean', no_conf_ws_root_stats, no_compl_no_conf_compl_stats, \"avg conf\", \"IWS\")\n",
    "print_stat('std', no_conf_ws_root_stats, no_compl_no_conf_compl_stats,  \"avg conf\", \"IWS\")\n",
    "print_procentual('mean','conformance',no_conf_ws_root_stats, no_compl_no_conf_compl_stats)"
   ]
  },
  {
   "cell_type": "code",
   "execution_count": 21,
   "id": "1e9e190c",
   "metadata": {},
   "outputs": [
    {
     "data": {
      "image/png": "[encoded data removed]",
      "text/plain": [
       "<Figure size 432x288 with 1 Axes>"
      ]
     },
     "metadata": {
      "needs_background": "light"
     },
     "output_type": "display_data"
    },
    {
     "name": "stdout",
     "output_type": "stream",
     "text": [
      "ws all stats:\n",
      "avg conf: mean mean all logs 26.116 - IWS: mean mean all logs 26.379\n",
      "avg conf: mean std all logs 15.297 - IWS: mean std all logs 15.344\n",
      "Decrease % in conformance: -0.997\n"
     ]
    }
   ],
   "source": [
    "\"\"\" grouped bar chart ws all \"\"\"\n",
    "\n",
    "plot_bar_chart_comparison(validation.normal_output, no_compl_no_conf_compl_stats,\n",
    "                          no_conf_ws_all_stats, 'mean', ['standard', 'ws all stats'], \"alignment cost\", \"avg alignment cost pr log\")\n",
    "\n",
    "print(\"ws all stats:\")\n",
    "print_stat('mean', no_conf_ws_all_stats, no_compl_no_conf_compl_stats, \"avg conf\", \"IWS\")\n",
    "print_stat('std', no_conf_ws_all_stats, no_compl_no_conf_compl_stats,  \"avg conf\", \"IWS\")\n",
    "print_procentual('mean','conformance',no_conf_ws_all_stats, no_compl_no_conf_compl_stats)"
   ]
  },
  {
   "cell_type": "markdown",
   "id": "ca4cacf8",
   "metadata": {},
   "source": [
    "##### Mean execution time comparison"
   ]
  },
  {
   "cell_type": "code",
   "execution_count": 22,
   "id": "4168ac49",
   "metadata": {},
   "outputs": [
    {
     "data": {
      "image/png": "[encoded data removed]",
      "text/plain": [
       "<Figure size 432x288 with 1 Axes>"
      ]
     },
     "metadata": {
      "needs_background": "light"
     },
     "output_type": "display_data"
    },
    {
     "name": "stdout",
     "output_type": "stream",
     "text": [
      "Increase % in time: 14.369\n"
     ]
    },
    {
     "data": {
      "image/png": "[encoded data removed]",
      "text/plain": [
       "<Figure size 432x288 with 1 Axes>"
      ]
     },
     "metadata": {
      "needs_background": "light"
     },
     "output_type": "display_data"
    },
    {
     "name": "stdout",
     "output_type": "stream",
     "text": [
      "Increase % in time: 66.918\n"
     ]
    },
    {
     "data": {
      "image/png": "[encoded data removed]",
      "text/plain": [
       "<Figure size 432x288 with 1 Axes>"
      ]
     },
     "metadata": {
      "needs_background": "light"
     },
     "output_type": "display_data"
    },
    {
     "name": "stdout",
     "output_type": "stream",
     "text": [
      "Increase % in time: 45.947\n"
     ]
    }
   ],
   "source": [
    "plot_bar_chart_comparison(validation.normal_output, no_compl_no_conf_compl_stats,\n",
    "                          no_conf_ws_root_stats, 'time', ['standard', 'ws_root'], \"time seconds\", \"avg seconds pr log\")\n",
    "\n",
    "print_procentual('time','time',no_conf_ws_root_stats, no_compl_no_conf_compl_stats)\n",
    "\n",
    "plot_bar_chart_comparison(validation.normal_output, no_compl_no_conf_compl_stats,\n",
    "                          no_conf_ws_all_stats, 'time', ['standard', 'ws_all'], \"time seconds\", \"avg seconds pr log\")\n",
    "\n",
    "print_procentual('time','time',no_conf_ws_all_stats, no_compl_no_conf_compl_stats)\n",
    "\n",
    "plot_bar_chart_comparison(validation.normal_output, no_conf_ws_root_stats,\n",
    "                          no_conf_ws_all_stats, 'time', ['ws_root', 'ws_all'], \"time seconds\", \"avg seconds pr log\")\n",
    "\n",
    "print_procentual('time','time',no_conf_ws_all_stats, no_conf_ws_root_stats)"
   ]
  },
  {
   "cell_type": "markdown",
   "id": "49a8177c",
   "metadata": {},
   "source": [
    "### Confidence"
   ]
  },
  {
   "cell_type": "code",
   "execution_count": 23,
   "id": "62022679",
   "metadata": {},
   "outputs": [],
   "source": [
    "no_compl_no_conf_conf_stats = get_statistics(no_compl_no_conf_dict, validation.confidence_output)\n",
    "no_compl_avg_conf_stats = get_statistics(no_compl_avg_dict, validation.confidence_output)\n",
    "no_compl_min_conf_stats = get_statistics(no_compl_min_dict, validation.confidence_output)"
   ]
  },
  {
   "cell_type": "code",
   "execution_count": 24,
   "id": "f8b5a938",
   "metadata": {},
   "outputs": [
    {
     "data": {
      "image/png": "[encoded data removed]",
      "text/plain": [
       "<Figure size 432x288 with 1 Axes>"
      ]
     },
     "metadata": {
      "needs_background": "light"
     },
     "output_type": "display_data"
    },
    {
     "name": "stdout",
     "output_type": "stream",
     "text": [
      "no completeness avg conf stats:\n",
      "avg conf: mean mean all logs 16.476 - IWS: mean mean all logs 15.95\n",
      "avg conf: mean std all logs 9.995 - IWS: mean std all logs 9.788\n",
      "Increase % in conformance: 3.298\n"
     ]
    }
   ],
   "source": [
    "\"\"\"Grouped bar chart - confidence average\"\"\"\n",
    "\n",
    "plot_bar_chart_comparison(validation.confidence_output, no_compl_no_conf_conf_stats,\n",
    "                          no_compl_avg_conf_stats, 'mean', ['standard', 'avg'], \"alignment cost\", \"avg alignment cost pr log\")\n",
    "\n",
    "print(\"no completeness avg conf stats:\")\n",
    "print_stat('mean', no_compl_avg_conf_stats, no_compl_no_conf_conf_stats, \"avg conf\", \"IWS\")\n",
    "print_stat('std', no_compl_avg_conf_stats, no_compl_no_conf_conf_stats,  \"avg conf\", \"IWS\")\n",
    "print_procentual('mean','conformance',no_compl_avg_conf_stats, no_compl_no_conf_conf_stats)\n"
   ]
  },
  {
   "cell_type": "code",
   "execution_count": 25,
   "id": "0dba1e6b",
   "metadata": {},
   "outputs": [
    {
     "data": {
      "image/png": "[encoded data removed]",
      "text/plain": [
       "<Figure size 432x288 with 1 Axes>"
      ]
     },
     "metadata": {
      "needs_background": "light"
     },
     "output_type": "display_data"
    },
    {
     "name": "stdout",
     "output_type": "stream",
     "text": [
      "no completeness min conf stats:\n",
      "min conf: mean mean all logs 16.475 - IWS: mean mean all logs 15.95\n",
      "min conf: mean std all logs 9.995 - IWS: mean std all logs 9.788\n",
      "Increase % in conformance: 3.292\n"
     ]
    }
   ],
   "source": [
    "plot_bar_chart_comparison(validation.confidence_output, no_compl_no_conf_conf_stats,\n",
    "                          no_compl_min_conf_stats, 'mean', ['standard', 'min'], \"alignment cost\", \"avg alignment cost pr log\")\n",
    "\n",
    "print(\"no completeness min conf stats:\")\n",
    "print_stat('mean', no_compl_min_conf_stats, no_compl_no_conf_conf_stats, \"min conf\", \"IWS\")\n",
    "print_stat('std', no_compl_min_conf_stats, no_compl_no_conf_conf_stats,  \"min conf\", \"IWS\")\n",
    "print_procentual('mean','conformance',no_compl_min_conf_stats, no_compl_no_conf_conf_stats)"
   ]
  },
  {
   "cell_type": "markdown",
   "id": "2080547e",
   "metadata": {},
   "source": [
    "## Stress test\n",
    "\n",
    "- Operating system: Windows 11 Home 64-bit\n",
    "- Processor: AMD Ryzen 7 5800 8-Core Processor (16 CPUs) ~3.4 GHz\n",
    "- Memory: 16384MB RAM\n",
    "\n",
    "Stress test was carried out by running each algorithm on the datasets 5 times and averaging the execution times to level out system resource interference while running the experiments.\n"
   ]
  },
  {
   "cell_type": "markdown",
   "id": "e10d0660",
   "metadata": {},
   "source": [
    "### Average computation time per trace"
   ]
  },
  {
   "cell_type": "code",
   "execution_count": 26,
   "id": "cb37d56b",
   "metadata": {},
   "outputs": [],
   "source": [
    "C_3PO_test = C_3PO_df.copy()\n",
    "pref_w_1_test = pref_w_1_df.copy()\n",
    "pref_w_inf_test = pref_w_inf_df.copy()\n",
    "BP_test = BP_df.copy()\n",
    "\n",
    "to_use = [C_3PO_test, pref_w_1_test, pref_w_inf_test, BP_test]\n",
    "names_ = ['C_3PO_test', 'pref_w_1_test', 'pref_w_inf_test', 'BP_test']\n",
    "\n",
    "t_ = dict()\n",
    "for n_, df_ in list(zip(names_, to_use)):\n",
    "    t_[n_] = list()\n",
    "    for log_n in LOGS:\n",
    "        to_keep = hmmconf_df[hmmconf_df.model == log_n].TraceId.unique()\n",
    "        df__ = df_[df_['model'] == log_n]\n",
    "        df__ = df__[df__.TraceId.isin(to_keep)]\n",
    "        t_[n_].append(df__)\n",
    "\n",
    "C_3PO_test = pd.concat(t_['C_3PO_test'], ignore_index=True)\n",
    "pref_w_1_test = pd.concat(t_['pref_w_1_test'], ignore_index=True)\n",
    "pref_w_inf_test = pd.concat(t_['pref_w_inf_test'], ignore_index=True)\n",
    "BP_test = pd.concat(t_['BP_test'], ignore_index=True)"
   ]
  },
  {
   "cell_type": "code",
   "execution_count": 27,
   "id": "5f89de08",
   "metadata": {},
   "outputs": [
    {
     "name": "stdout",
     "output_type": "stream",
     "text": [
      "Validating preprocessing after filtering out traces not in hmmconf\n",
      "hmmconf: 2010\n",
      "BP_test: 2010\n",
      "C-3PO_test: 2010\n",
      "W-1: 2010\n",
      "W-inf: 2010\n"
     ]
    }
   ],
   "source": [
    "print(\"Validating preprocessing after filtering out traces not in hmmconf\")\n",
    "print(\"hmmconf: {}\".format(hmmconf_df.groupby(['model','log_type','TraceId']).agg({'ExecutionTime': np.sum}).shape[0]))\n",
    "print(\"BP_test: {}\".format(BP_test.groupby(['model','log_type','TraceId']).agg({'ExecutionTime': np.sum}).shape[0]))\n",
    "print(\"C-3PO_test: {}\".format(C_3PO_test.shape[0]))\n",
    "print(\"W-1: {}\".format(pref_w_1_test.shape[0]))\n",
    "print(\"W-inf: {}\".format(pref_w_inf_test.shape[0]))"
   ]
  },
  {
   "cell_type": "code",
   "execution_count": 28,
   "id": "6757c84e",
   "metadata": {},
   "outputs": [
    {
     "name": "stdout",
     "output_type": "stream",
     "text": [
      "green = minimum trace execution time in row \n",
      "yellow = 2nd smallest execution time in row \n",
      "red = 3rd smallest execution time in row\n"
     ]
    },
    {
     "data": {
      "text/html": [
       "<style type=\"text/css\">\n",
       "#T_076a5_row0_col0, #T_076a5_row1_col0, #T_076a5_row2_col0, #T_076a5_row3_col0, #T_076a5_row4_col0, #T_076a5_row5_col0, #T_076a5_row6_col3, #T_076a5_row7_col1, #T_076a5_row8_col3, #T_076a5_row9_col3, #T_076a5_row10_col1, #T_076a5_row11_col3, #T_076a5_row12_col0, #T_076a5_row13_col3, #T_076a5_row14_col0 {\n",
       "  color: red;\n",
       "}\n",
       "#T_076a5_row0_col3, #T_076a5_row1_col3, #T_076a5_row2_col3, #T_076a5_row3_col3, #T_076a5_row4_col3, #T_076a5_row5_col3, #T_076a5_row6_col0, #T_076a5_row7_col0, #T_076a5_row8_col0, #T_076a5_row9_col0, #T_076a5_row10_col0, #T_076a5_row11_col0, #T_076a5_row12_col3, #T_076a5_row13_col0, #T_076a5_row14_col3 {\n",
       "  color: yellow;\n",
       "}\n",
       "#T_076a5_row0_col4, #T_076a5_row1_col4, #T_076a5_row2_col4, #T_076a5_row3_col4, #T_076a5_row4_col4, #T_076a5_row5_col4, #T_076a5_row6_col4, #T_076a5_row7_col4, #T_076a5_row8_col4, #T_076a5_row9_col4, #T_076a5_row10_col4, #T_076a5_row11_col4, #T_076a5_row12_col4, #T_076a5_row13_col4, #T_076a5_row14_col4 {\n",
       "  color: green;\n",
       "}\n",
       "</style>\n",
       "<table id=\"T_076a5\">\n",
       "  <thead>\n",
       "    <tr>\n",
       "      <th class=\"blank level0\" >&nbsp;</th>\n",
       "      <th id=\"T_076a5_level0_col0\" class=\"col_heading level0 col0\" >C-3PO</th>\n",
       "      <th id=\"T_076a5_level0_col1\" class=\"col_heading level0 col1\" >W-1</th>\n",
       "      <th id=\"T_076a5_level0_col2\" class=\"col_heading level0 col2\" >W-inf</th>\n",
       "      <th id=\"T_076a5_level0_col3\" class=\"col_heading level0 col3\" >HMMCONF</th>\n",
       "      <th id=\"T_076a5_level0_col4\" class=\"col_heading level0 col4\" >BP</th>\n",
       "    </tr>\n",
       "  </thead>\n",
       "  <tbody>\n",
       "    <tr>\n",
       "      <th id=\"T_076a5_level0_row0\" class=\"row_heading level0 row0\" >BPI_2017_completenes20</th>\n",
       "      <td id=\"T_076a5_row0_col0\" class=\"data row0 col0\" >2.618280</td>\n",
       "      <td id=\"T_076a5_row0_col1\" class=\"data row0 col1\" >29.922581</td>\n",
       "      <td id=\"T_076a5_row0_col2\" class=\"data row0 col2\" >61.424731</td>\n",
       "      <td id=\"T_076a5_row0_col3\" class=\"data row0 col3\" >2.082543</td>\n",
       "      <td id=\"T_076a5_row0_col4\" class=\"data row0 col4\" >0.056666</td>\n",
       "    </tr>\n",
       "    <tr>\n",
       "      <th id=\"T_076a5_level0_row1\" class=\"row_heading level0 row1\" >BPI_2017_completeness50</th>\n",
       "      <td id=\"T_076a5_row1_col0\" class=\"data row1 col0\" >1.431183</td>\n",
       "      <td id=\"T_076a5_row1_col1\" class=\"data row1 col1\" >9.267742</td>\n",
       "      <td id=\"T_076a5_row1_col2\" class=\"data row1 col2\" >17.510753</td>\n",
       "      <td id=\"T_076a5_row1_col3\" class=\"data row1 col3\" >1.353417</td>\n",
       "      <td id=\"T_076a5_row1_col4\" class=\"data row1 col4\" >0.023702</td>\n",
       "    </tr>\n",
       "    <tr>\n",
       "      <th id=\"T_076a5_level0_row2\" class=\"row_heading level0 row2\" >BPI_2017_sim</th>\n",
       "      <td id=\"T_076a5_row2_col0\" class=\"data row2 col0\" >3.675269</td>\n",
       "      <td id=\"T_076a5_row2_col1\" class=\"data row2 col1\" >53.833333</td>\n",
       "      <td id=\"T_076a5_row2_col2\" class=\"data row2 col2\" >102.845161</td>\n",
       "      <td id=\"T_076a5_row2_col3\" class=\"data row2 col3\" >2.938818</td>\n",
       "      <td id=\"T_076a5_row2_col4\" class=\"data row2 col4\" >0.050682</td>\n",
       "    </tr>\n",
       "    <tr>\n",
       "      <th id=\"T_076a5_level0_row3\" class=\"row_heading level0 row3\" >BPI_2012_completenes20</th>\n",
       "      <td id=\"T_076a5_row3_col0\" class=\"data row3 col0\" >3.062366</td>\n",
       "      <td id=\"T_076a5_row3_col1\" class=\"data row3 col1\" >28.679570</td>\n",
       "      <td id=\"T_076a5_row3_col2\" class=\"data row3 col2\" >62.380645</td>\n",
       "      <td id=\"T_076a5_row3_col3\" class=\"data row3 col3\" >2.469355</td>\n",
       "      <td id=\"T_076a5_row3_col4\" class=\"data row3 col4\" >0.039050</td>\n",
       "    </tr>\n",
       "    <tr>\n",
       "      <th id=\"T_076a5_level0_row4\" class=\"row_heading level0 row4\" >BPI_2012_completeness50</th>\n",
       "      <td id=\"T_076a5_row4_col0\" class=\"data row4 col0\" >2.008602</td>\n",
       "      <td id=\"T_076a5_row4_col1\" class=\"data row4 col1\" >8.927957</td>\n",
       "      <td id=\"T_076a5_row4_col2\" class=\"data row4 col2\" >16.811828</td>\n",
       "      <td id=\"T_076a5_row4_col3\" class=\"data row4 col3\" >1.791023</td>\n",
       "      <td id=\"T_076a5_row4_col4\" class=\"data row4 col4\" >0.037632</td>\n",
       "    </tr>\n",
       "    <tr>\n",
       "      <th id=\"T_076a5_level0_row5\" class=\"row_heading level0 row5\" >BPI_2012_sim</th>\n",
       "      <td id=\"T_076a5_row5_col0\" class=\"data row5 col0\" >4.000000</td>\n",
       "      <td id=\"T_076a5_row5_col1\" class=\"data row5 col1\" >49.049462</td>\n",
       "      <td id=\"T_076a5_row5_col2\" class=\"data row5 col2\" >99.727957</td>\n",
       "      <td id=\"T_076a5_row5_col3\" class=\"data row5 col3\" >3.020398</td>\n",
       "      <td id=\"T_076a5_row5_col4\" class=\"data row5 col4\" >0.040614</td>\n",
       "    </tr>\n",
       "    <tr>\n",
       "      <th id=\"T_076a5_level0_row6\" class=\"row_heading level0 row6\" >M1_completenes20</th>\n",
       "      <td id=\"T_076a5_row6_col0\" class=\"data row6 col0\" >0.636364</td>\n",
       "      <td id=\"T_076a5_row6_col1\" class=\"data row6 col1\" >7.234343</td>\n",
       "      <td id=\"T_076a5_row6_col2\" class=\"data row6 col2\" >11.040404</td>\n",
       "      <td id=\"T_076a5_row6_col3\" class=\"data row6 col3\" >5.285702</td>\n",
       "      <td id=\"T_076a5_row6_col4\" class=\"data row6 col4\" >0.190279</td>\n",
       "    </tr>\n",
       "    <tr>\n",
       "      <th id=\"T_076a5_level0_row7\" class=\"row_heading level0 row7\" >M1_completeness50</th>\n",
       "      <td id=\"T_076a5_row7_col0\" class=\"data row7 col0\" >0.339394</td>\n",
       "      <td id=\"T_076a5_row7_col1\" class=\"data row7 col1\" >2.929293</td>\n",
       "      <td id=\"T_076a5_row7_col2\" class=\"data row7 col2\" >3.250505</td>\n",
       "      <td id=\"T_076a5_row7_col3\" class=\"data row7 col3\" >3.002359</td>\n",
       "      <td id=\"T_076a5_row7_col4\" class=\"data row7 col4\" >0.025632</td>\n",
       "    </tr>\n",
       "    <tr>\n",
       "      <th id=\"T_076a5_level0_row8\" class=\"row_heading level0 row8\" >M1_sim</th>\n",
       "      <td id=\"T_076a5_row8_col0\" class=\"data row8 col0\" >0.577778</td>\n",
       "      <td id=\"T_076a5_row8_col1\" class=\"data row8 col1\" >10.705051</td>\n",
       "      <td id=\"T_076a5_row8_col2\" class=\"data row8 col2\" >17.870707</td>\n",
       "      <td id=\"T_076a5_row8_col3\" class=\"data row8 col3\" >5.354034</td>\n",
       "      <td id=\"T_076a5_row8_col4\" class=\"data row8 col4\" >0.033672</td>\n",
       "    </tr>\n",
       "    <tr>\n",
       "      <th id=\"T_076a5_level0_row9\" class=\"row_heading level0 row9\" >M2_completenes20</th>\n",
       "      <td id=\"T_076a5_row9_col0\" class=\"data row9 col0\" >3.232381</td>\n",
       "      <td id=\"T_076a5_row9_col1\" class=\"data row9 col1\" >23.935238</td>\n",
       "      <td id=\"T_076a5_row9_col2\" class=\"data row9 col2\" >39.154286</td>\n",
       "      <td id=\"T_076a5_row9_col3\" class=\"data row9 col3\" >13.272802</td>\n",
       "      <td id=\"T_076a5_row9_col4\" class=\"data row9 col4\" >0.038397</td>\n",
       "    </tr>\n",
       "    <tr>\n",
       "      <th id=\"T_076a5_level0_row10\" class=\"row_heading level0 row10\" >M2_completeness50</th>\n",
       "      <td id=\"T_076a5_row10_col0\" class=\"data row10 col0\" >1.537143</td>\n",
       "      <td id=\"T_076a5_row10_col1\" class=\"data row10 col1\" >4.992381</td>\n",
       "      <td id=\"T_076a5_row10_col2\" class=\"data row10 col2\" >8.350476</td>\n",
       "      <td id=\"T_076a5_row10_col3\" class=\"data row10 col3\" >7.974843</td>\n",
       "      <td id=\"T_076a5_row10_col4\" class=\"data row10 col4\" >0.025154</td>\n",
       "    </tr>\n",
       "    <tr>\n",
       "      <th id=\"T_076a5_level0_row11\" class=\"row_heading level0 row11\" >M2_sim</th>\n",
       "      <td id=\"T_076a5_row11_col0\" class=\"data row11 col0\" >1.211429</td>\n",
       "      <td id=\"T_076a5_row11_col1\" class=\"data row11 col1\" >40.226667</td>\n",
       "      <td id=\"T_076a5_row11_col2\" class=\"data row11 col2\" >61.575238</td>\n",
       "      <td id=\"T_076a5_row11_col3\" class=\"data row11 col3\" >17.671789</td>\n",
       "      <td id=\"T_076a5_row11_col4\" class=\"data row11 col4\" >0.036592</td>\n",
       "    </tr>\n",
       "    <tr>\n",
       "      <th id=\"T_076a5_level0_row12\" class=\"row_heading level0 row12\" >M8_completenes20</th>\n",
       "      <td id=\"T_076a5_row12_col0\" class=\"data row12 col0\" >1.057447</td>\n",
       "      <td id=\"T_076a5_row12_col1\" class=\"data row12 col1\" >3.406383</td>\n",
       "      <td id=\"T_076a5_row12_col2\" class=\"data row12 col2\" >5.229787</td>\n",
       "      <td id=\"T_076a5_row12_col3\" class=\"data row12 col3\" >0.826770</td>\n",
       "      <td id=\"T_076a5_row12_col4\" class=\"data row12 col4\" >0.014633</td>\n",
       "    </tr>\n",
       "    <tr>\n",
       "      <th id=\"T_076a5_level0_row13\" class=\"row_heading level0 row13\" >M8_completeness50</th>\n",
       "      <td id=\"T_076a5_row13_col0\" class=\"data row13 col0\" >0.340426</td>\n",
       "      <td id=\"T_076a5_row13_col1\" class=\"data row13 col1\" >0.868085</td>\n",
       "      <td id=\"T_076a5_row13_col2\" class=\"data row13 col2\" >1.453191</td>\n",
       "      <td id=\"T_076a5_row13_col3\" class=\"data row13 col3\" >0.505437</td>\n",
       "      <td id=\"T_076a5_row13_col4\" class=\"data row13 col4\" >0.009098</td>\n",
       "    </tr>\n",
       "    <tr>\n",
       "      <th id=\"T_076a5_level0_row14\" class=\"row_heading level0 row14\" >M8_sim</th>\n",
       "      <td id=\"T_076a5_row14_col0\" class=\"data row14 col0\" >1.782979</td>\n",
       "      <td id=\"T_076a5_row14_col1\" class=\"data row14 col1\" >6.012766</td>\n",
       "      <td id=\"T_076a5_row14_col2\" class=\"data row14 col2\" >9.189362</td>\n",
       "      <td id=\"T_076a5_row14_col3\" class=\"data row14 col3\" >1.100224</td>\n",
       "      <td id=\"T_076a5_row14_col4\" class=\"data row14 col4\" >0.014248</td>\n",
       "    </tr>\n",
       "  </tbody>\n",
       "</table>\n"
      ],
      "text/plain": [
       "<pandas.io.formats.style.Styler at 0x218af5d8f40>"
      ]
     },
     "execution_count": 28,
     "metadata": {},
     "output_type": "execute_result"
    }
   ],
   "source": [
    "log_names = [list(zip(3*[log_n], LOG_TYPES)) for log_n in LOGS]\n",
    "indexes = [l_n+'_'+l_t for l in log_names for (l_n, l_t) in l]\n",
    "columns = ['C-3PO', 'W-1', 'W-inf', 'HMMCONF', 'BP']\n",
    "\n",
    "hmmconf_mean_exe = hmmconf_df.groupby(['model','log_type','TraceId']).agg({'ExecutionTime': np.sum}).groupby(['model','log_type']).agg({'ExecutionTime': np.mean}).reset_index()\n",
    "BP_mean_exe = BP_test.groupby(['model','log_type','TraceId']).agg({'ExecutionTime': np.sum}).groupby(['model','log_type']).agg({'ExecutionTime': np.mean}).reset_index()\n",
    "C_3PO_mean_exe = C_3PO_test.groupby(['model','log_type']).agg({'ExecutionTime': np.mean}).reset_index()\n",
    "pref_w_inf_mean_exe = pref_w_inf_test.groupby(['model','log_type']).agg({'ExecutionTime': np.mean}).reset_index()\n",
    "pref_w_1_mean_exe = pref_w_1_test.groupby(['model','log_type']).agg({'ExecutionTime': np.mean}).reset_index()\n",
    "\n",
    "data = np.asarray([C_3PO_mean_exe['ExecutionTime'].values, pref_w_1_mean_exe['ExecutionTime'].values, pref_w_inf_mean_exe['ExecutionTime'].values, hmmconf_mean_exe['ExecutionTime'].values, BP_mean_exe['ExecutionTime'].values])\n",
    "\n",
    "results = pd.DataFrame(index=indexes, data=data.T, columns=columns)\n",
    "\n",
    "def highlight_min(s):\n",
    "    is_max = s == s.min()\n",
    "    return ['color: green' if cell else '' for cell in is_max]\n",
    "\n",
    "def highlight_2ndmin(s):\n",
    "    is_max = s == s.nsmallest(2).iloc[-1]\n",
    "    return ['color: yellow' if cell else '' for cell in is_max]\n",
    "\n",
    "def highlight_3rdmin(s):\n",
    "    is_max = s == s.nsmallest(3).iloc[-1]\n",
    "    return ['color: red' if cell else '' for cell in is_max]\n",
    "\n",
    "\n",
    "msg = \"green = minimum trace execution time in row \\n\\\n",
    "yellow = 2nd smallest execution time in row \\n\\\n",
    "red = 3rd smallest execution time in row\"\n",
    "\n",
    "print(msg)\n",
    "\n",
    "results.style.apply(highlight_min, axis=1).apply(highlight_2ndmin, axis=1).apply(highlight_3rdmin, axis=1)"
   ]
  },
  {
   "cell_type": "markdown",
   "id": "195b53a4",
   "metadata": {},
   "source": [
    "### Average computation time per event"
   ]
  },
  {
   "cell_type": "code",
   "execution_count": 29,
   "id": "a07f1375",
   "metadata": {},
   "outputs": [
    {
     "data": {
      "text/html": [
       "<div>\n",
       "<style scoped>\n",
       "    .dataframe tbody tr th:only-of-type {\n",
       "        vertical-align: middle;\n",
       "    }\n",
       "\n",
       "    .dataframe tbody tr th {\n",
       "        vertical-align: top;\n",
       "    }\n",
       "\n",
       "    .dataframe thead th {\n",
       "        text-align: right;\n",
       "    }\n",
       "</style>\n",
       "<table border=\"1\" class=\"dataframe\">\n",
       "  <thead>\n",
       "    <tr style=\"text-align: right;\">\n",
       "      <th></th>\n",
       "      <th>TraceId</th>\n",
       "      <th>Activity</th>\n",
       "      <th>Conformance cost</th>\n",
       "      <th>Confidence cost</th>\n",
       "      <th>ExecutionTime</th>\n",
       "    </tr>\n",
       "  </thead>\n",
       "  <tbody>\n",
       "    <tr>\n",
       "      <th>0</th>\n",
       "      <td>case_42</td>\n",
       "      <td>Activity R</td>\n",
       "      <td>0</td>\n",
       "      <td>10.0</td>\n",
       "      <td>2.7835</td>\n",
       "    </tr>\n",
       "    <tr>\n",
       "      <th>1</th>\n",
       "      <td>case_35</td>\n",
       "      <td>Activity F</td>\n",
       "      <td>0</td>\n",
       "      <td>3.0</td>\n",
       "      <td>0.6162</td>\n",
       "    </tr>\n",
       "    <tr>\n",
       "      <th>2</th>\n",
       "      <td>case_46</td>\n",
       "      <td>Activity BA</td>\n",
       "      <td>1</td>\n",
       "      <td>0.0</td>\n",
       "      <td>0.1271</td>\n",
       "    </tr>\n",
       "    <tr>\n",
       "      <th>3</th>\n",
       "      <td>case_49</td>\n",
       "      <td>Activity F</td>\n",
       "      <td>0</td>\n",
       "      <td>3.0</td>\n",
       "      <td>0.2561</td>\n",
       "    </tr>\n",
       "    <tr>\n",
       "      <th>4</th>\n",
       "      <td>case_38</td>\n",
       "      <td>Activity B</td>\n",
       "      <td>0</td>\n",
       "      <td>5.0</td>\n",
       "      <td>0.2431</td>\n",
       "    </tr>\n",
       "  </tbody>\n",
       "</table>\n",
       "</div>"
      ],
      "text/plain": [
       "   TraceId     Activity  Conformance cost  Confidence cost  ExecutionTime\n",
       "0  case_42   Activity R                 0             10.0         2.7835\n",
       "1  case_35   Activity F                 0              3.0         0.6162\n",
       "2  case_46  Activity BA                 1              0.0         0.1271\n",
       "3  case_49   Activity F                 0              3.0         0.2561\n",
       "4  case_38   Activity B                 0              5.0         0.2431"
      ]
     },
     "execution_count": 29,
     "metadata": {},
     "output_type": "execute_result"
    }
   ],
   "source": [
    "stress_test_time = pd.read_csv(os.path.join('..', 'stress-test-data','results_time.csv'))\n",
    "stress_test_time.ExecutionTime = stress_test_time.ExecutionTime / 1000000\n",
    "stress_test_time.head()"
   ]
  },
  {
   "cell_type": "code",
   "execution_count": 30,
   "id": "62d9d062",
   "metadata": {},
   "outputs": [
    {
     "name": "stdout",
     "output_type": "stream",
     "text": [
      "Top 5 longest execution times pr event\n"
     ]
    },
    {
     "data": {
      "text/html": [
       "<div>\n",
       "<style scoped>\n",
       "    .dataframe tbody tr th:only-of-type {\n",
       "        vertical-align: middle;\n",
       "    }\n",
       "\n",
       "    .dataframe tbody tr th {\n",
       "        vertical-align: top;\n",
       "    }\n",
       "\n",
       "    .dataframe thead th {\n",
       "        text-align: right;\n",
       "    }\n",
       "</style>\n",
       "<table border=\"1\" class=\"dataframe\">\n",
       "  <thead>\n",
       "    <tr style=\"text-align: right;\">\n",
       "      <th></th>\n",
       "      <th>TraceId</th>\n",
       "      <th>Activity</th>\n",
       "      <th>Conformance cost</th>\n",
       "      <th>Confidence cost</th>\n",
       "      <th>ExecutionTime</th>\n",
       "    </tr>\n",
       "  </thead>\n",
       "  <tbody>\n",
       "    <tr>\n",
       "      <th>1929849</th>\n",
       "      <td>case_3720</td>\n",
       "      <td>e7jhsrh96068u</td>\n",
       "      <td>230</td>\n",
       "      <td>0.0</td>\n",
       "      <td>115.3540</td>\n",
       "    </tr>\n",
       "    <tr>\n",
       "      <th>1929787</th>\n",
       "      <td>case_3720</td>\n",
       "      <td>Activity BH</td>\n",
       "      <td>222</td>\n",
       "      <td>0.0</td>\n",
       "      <td>115.6937</td>\n",
       "    </tr>\n",
       "    <tr>\n",
       "      <th>1929814</th>\n",
       "      <td>case_3720</td>\n",
       "      <td>Activity BE</td>\n",
       "      <td>227</td>\n",
       "      <td>0.0</td>\n",
       "      <td>117.6898</td>\n",
       "    </tr>\n",
       "    <tr>\n",
       "      <th>1929834</th>\n",
       "      <td>case_3720</td>\n",
       "      <td>Activity BB</td>\n",
       "      <td>229</td>\n",
       "      <td>0.0</td>\n",
       "      <td>118.8569</td>\n",
       "    </tr>\n",
       "    <tr>\n",
       "      <th>1929864</th>\n",
       "      <td>case_3720</td>\n",
       "      <td>Activity B</td>\n",
       "      <td>231</td>\n",
       "      <td>0.0</td>\n",
       "      <td>130.3815</td>\n",
       "    </tr>\n",
       "  </tbody>\n",
       "</table>\n",
       "</div>"
      ],
      "text/plain": [
       "           TraceId       Activity  Conformance cost  Confidence cost  \\\n",
       "1929849  case_3720  e7jhsrh96068u               230              0.0   \n",
       "1929787  case_3720    Activity BH               222              0.0   \n",
       "1929814  case_3720    Activity BE               227              0.0   \n",
       "1929834  case_3720    Activity BB               229              0.0   \n",
       "1929864  case_3720     Activity B               231              0.0   \n",
       "\n",
       "         ExecutionTime  \n",
       "1929849       115.3540  \n",
       "1929787       115.6937  \n",
       "1929814       117.6898  \n",
       "1929834       118.8569  \n",
       "1929864       130.3815  "
      ]
     },
     "execution_count": 30,
     "metadata": {},
     "output_type": "execute_result"
    }
   ],
   "source": [
    "print(\"Top 5 longest execution times pr event\")\n",
    "stress_test_time.sort_values(by='ExecutionTime').tail()"
   ]
  },
  {
   "cell_type": "code",
   "execution_count": 31,
   "id": "43960494",
   "metadata": {},
   "outputs": [
    {
     "data": {
      "image/png": "[encoded data removed]",
      "text/plain": [
       "<Figure size 1440x720 with 1 Axes>"
      ]
     },
     "metadata": {
      "needs_background": "light"
     },
     "output_type": "display_data"
    }
   ],
   "source": [
    "plt.figure(figsize=(20,10));\n",
    "plt.plot(stress_test_time.ExecutionTime);\n",
    "plt.xlabel('Events')\n",
    "plt.ylabel('Execution time (m/s)')\n",
    "plt.show()"
   ]
  },
  {
   "cell_type": "markdown",
   "id": "f3f1f8ff",
   "metadata": {},
   "source": [
    "### Memory usage\n",
    "\n",
    "is missing"
   ]
  },
  {
   "cell_type": "markdown",
   "id": "166037bc",
   "metadata": {},
   "source": [
    "## Correlation test"
   ]
  },
  {
   "cell_type": "markdown",
   "id": "b59a0ef5",
   "metadata": {},
   "source": [
    "### Spearman correlation with non-conforming results\n",
    "\n"
   ]
  },
  {
   "cell_type": "markdown",
   "id": "b29b6d85",
   "metadata": {},
   "source": [
    "#### HMMCONF"
   ]
  },
  {
   "cell_type": "code",
   "execution_count": 32,
   "id": "c02266b1",
   "metadata": {},
   "outputs": [
    {
     "name": "stdout",
     "output_type": "stream",
     "text": [
      "Conformance cost - mean final conformance: spearman rho: -0.344, p-value: 0.0000000000 \n",
      "Conformance cost - injected distance: spearman rho: -0.194, p-value: 0.0000000000 \n",
      "Completeness cost - injected distance: spearman rho: 0.479, p-value: 0.0000000000 \n",
      "Completeness cost: spearman rho: -0.657, p-value: 0.0000000000\n"
     ]
    }
   ],
   "source": [
    "hmmconf_mean_conf_compl = hmmconf_df.groupby(['model','log_type','TraceId']).agg({'finalconf': np.mean, 'completeness': np.mean, 'injected_distance': np.mean}).reset_index()\n",
    "\n",
    "merged_df = pd.merge(hmmconf_mean_conf_compl, C_3PO_test, on=['model','log_type','TraceId'])\n",
    "\n",
    "pred1 = merged_df['Conformance cost'] > 0\n",
    "pred2 = merged_df['finalconf'] > 0\n",
    "\n",
    "filtered_df = merged_df.loc[pred1 & pred2, :]\n",
    "\n",
    "rho_conf_mean_finalconf = stats.spearmanr(filtered_df['Conformance cost'], filtered_df['finalconf'])\n",
    "rho_conf_compl = stats.spearmanr(filtered_df['Conformance cost'], filtered_df['injected_distance'])\n",
    "rho_compl_injected_distance = stats.spearmanr(filtered_df['Completeness cost'], filtered_df['injected_distance'])\n",
    "rho_completeness = stats.spearmanr(filtered_df['Completeness cost'], filtered_df['completeness'])\n",
    "\n",
    "print(\n",
    "    'Conformance cost - mean final conformance: spearman rho: {:.3f}, p-value: {:.10f}'.format(rho_conf_mean_finalconf[0], rho_conf_mean_finalconf[1]),\n",
    "    '\\nConformance cost - injected distance: spearman rho: {:.3f}, p-value: {:.10f}'.format(rho_conf_compl[0], rho_conf_compl[1]), \n",
    "    '\\nCompleteness cost - injected distance: spearman rho: {:.3f}, p-value: {:.10f}'.format(rho_compl_injected_distance[0], rho_compl_injected_distance[1]),\n",
    "    '\\nCompleteness cost: spearman rho: {:.3f}, p-value: {:.10f}'.format(rho_completeness[0], rho_completeness[1])\n",
    ")"
   ]
  },
  {
   "cell_type": "markdown",
   "id": "5d285ebe",
   "metadata": {},
   "source": [
    "##### Remarks\n",
    "\n",
    "Conformance cost - mean final conformance:\n",
    "- Conformance cost and mean conformance show an inversly proportional relationship which is expected as a conformance value closer to 1 signifies that the trace is conforming to the reference model\n",
    "\n",
    "Completeness cost - injected distance:\n",
    "- Slight positive correlation which is meaningful as completeness cost and injected distance can be induced from missing tail of trace\n",
    "\n",
    "Completeness cost:\n",
    "- Similar to conformance cost and mean conformance, completeness cost and completeness share an inversly proportional relationship - correlation greater than with injected distance\n",
    "\n"
   ]
  },
  {
   "cell_type": "markdown",
   "id": "ccc57248",
   "metadata": {},
   "source": [
    "#### W-1"
   ]
  },
  {
   "cell_type": "code",
   "execution_count": 33,
   "id": "e3a5768a",
   "metadata": {},
   "outputs": [
    {
     "name": "stdout",
     "output_type": "stream",
     "text": [
      "Conformance cost: spearman rho: 0.960, p-value: 0.0000000000 \n",
      "Completeness cost - conformance cost: spearman rho: -0.469, p-value: 0.0000000000\n"
     ]
    }
   ],
   "source": [
    "c_3po_ = C_3PO_df.copy()[['TraceId', 'Completeness cost', 'Conformance cost', 'Confidence cost', 'model', 'log_type']]\n",
    "pref_w_1_ = pref_w_1_df.copy()\n",
    "\n",
    "c_3po_ = c_3po_.rename(columns={'Conformance cost':'C_3PO_conf'})\n",
    "pref_w_1_ = pref_w_1_.rename(columns={'Conformance cost':'pref_w_1_conf'})\n",
    "\n",
    "merged_df = pd.merge(c_3po_, pref_w_1_, on=['model','log_type','TraceId'])\n",
    "\n",
    "pred1 = merged_df['C_3PO_conf'] > 0\n",
    "pred2 = merged_df['pref_w_1_conf'] > 0\n",
    "\n",
    "filtered_df = merged_df.loc[pred1 & pred2, :]\n",
    "\n",
    "rho_conf = stats.spearmanr(filtered_df['C_3PO_conf'], filtered_df['pref_w_1_conf'])\n",
    "rho_conf_compl = stats.spearmanr(filtered_df['Completeness cost'],filtered_df['pref_w_1_conf'])\n",
    "\n",
    "print(\n",
    "    'Conformance cost: spearman rho: {:.3f}, p-value: {:.10f}'.format(rho_conf[0], rho_conf[1]),\n",
    "    '\\nCompleteness cost - conformance cost: spearman rho: {:.3f}, p-value: {:.10f}'.format(rho_conf_compl[0], rho_conf_compl[1]), \n",
    ")"
   ]
  },
  {
   "cell_type": "markdown",
   "id": "e12faba8",
   "metadata": {},
   "source": [
    "##### Remarks\n",
    "\n",
    "Conformance cost:\n",
    "- Strong positive correlation between conformance cost in the two approaches over all traces in all logs.\n",
    "\n",
    "Completeness cost:\n",
    "- Expected positive correlation due to a higher completeness cost indicating that the trace was not observed from its begining. Thus should increase the alignment cost calculated with a conventional prefix-alignment algorithm, as it finds a path through the SPN from the starting marking. An explanation is that completeness indicates when the algorithm has to recalculated an suboptimal alignment by choosing another path in the trie. The resulting alignment costs less and taking into consideration with the strong correlation between the conformance cost of the two algorithms the corresponding alignment calculated by the SPN algorithm should be equally lower in cost."
   ]
  },
  {
   "cell_type": "markdown",
   "id": "6e7e8939",
   "metadata": {},
   "source": [
    "#### W-inf"
   ]
  },
  {
   "cell_type": "code",
   "execution_count": 34,
   "id": "088a7595",
   "metadata": {},
   "outputs": [
    {
     "name": "stdout",
     "output_type": "stream",
     "text": [
      "Conformance cost: spearman rho: 0.973, p-value: 0.0000000000 \n",
      "Completeness cost - conformance cost: spearman rho: -0.515, p-value: 0.0000000000\n"
     ]
    }
   ],
   "source": [
    "pref_w_inf_ = pref_w_inf_df.copy()\n",
    "pref_w_inf_ = pref_w_inf_.rename(columns={'Conformance cost':'pref_w_inf_conf'})\n",
    "\n",
    "merged_df = pd.merge(c_3po_, pref_w_inf_, on=['model','log_type','TraceId'])\n",
    "\n",
    "pred1 = merged_df['C_3PO_conf'] > 0\n",
    "pred2 = merged_df['pref_w_inf_conf'] > 0\n",
    "\n",
    "filtered_df = merged_df.loc[pred1 & pred2, :]\n",
    "\n",
    "rho_conf = stats.spearmanr(filtered_df['C_3PO_conf'], filtered_df['pref_w_inf_conf'])\n",
    "rho_conf_compl = stats.spearmanr(filtered_df['Completeness cost'],filtered_df['pref_w_inf_conf'])\n",
    "\n",
    "print(\n",
    "    'Conformance cost: spearman rho: {:.3f}, p-value: {:.10f}'.format(rho_conf[0], rho_conf[1]),\n",
    "    '\\nCompleteness cost - conformance cost: spearman rho: {:.3f}, p-value: {:.10f}'.format(rho_conf_compl[0], rho_conf_compl[1]), \n",
    ")"
   ]
  },
  {
   "cell_type": "code",
   "execution_count": 35,
   "id": "06f252cb",
   "metadata": {},
   "outputs": [
    {
     "name": "stdout",
     "output_type": "stream",
     "text": [
      "Completeness logs only:\n",
      "Conformance cost: spearman rho: 0.964, p-value: 0.0000000000 \n",
      "Completeness cost - conformance cost: spearman rho: -0.574, p-value: 0.0000000000\n"
     ]
    }
   ],
   "source": [
    "\"\"\" completeness only \"\"\"\n",
    "\n",
    "print(\"Completeness logs only:\")\n",
    "\n",
    "merged_df = pd.merge(c_3po_, pref_w_inf_, on=['model','log_type','TraceId'])\n",
    "\n",
    "pred1 = merged_df['C_3PO_conf'] > 0\n",
    "pred2 = merged_df['pref_w_inf_conf'] > 0\n",
    "pred3 = merged_df.log_type.isin(COMPLETENESS_LOGS)\n",
    "\n",
    "filtered_df = merged_df.loc[pred1 & pred2 & pred3, :]\n",
    "\n",
    "rho_conf = stats.spearmanr(filtered_df['C_3PO_conf'], filtered_df['pref_w_inf_conf'])\n",
    "rho_conf_compl = stats.spearmanr(filtered_df['Completeness cost'],filtered_df['pref_w_inf_conf'])\n",
    "\n",
    "print(\n",
    "    'Conformance cost: spearman rho: {:.3f}, p-value: {:.10f}'.format(rho_conf[0], rho_conf[1]),\n",
    "    '\\nCompleteness cost - conformance cost: spearman rho: {:.3f}, p-value: {:.10f}'.format(rho_conf_compl[0], rho_conf_compl[1]), \n",
    ")"
   ]
  },
  {
   "cell_type": "markdown",
   "id": "c21351cd",
   "metadata": {},
   "source": [
    "##### Remarks\n",
    "\n",
    "Conformance cost:\n",
    "- Stronger positive correlation between conformance cost than W-1.\n",
    "\n",
    "Completeness cost:\n",
    "- Slightly more correlation than with W-1. Can be intrepreted together with the also slightly higher correlation between conformance cost, that completeness represents a recovery from a bad prefix-alignment.\n"
   ]
  },
  {
   "cell_type": "markdown",
   "id": "a3acc9fe",
   "metadata": {},
   "source": [
    "#### BP"
   ]
  },
  {
   "cell_type": "code",
   "execution_count": 36,
   "id": "8001e41e",
   "metadata": {},
   "outputs": [
    {
     "name": "stdout",
     "output_type": "stream",
     "text": [
      "Conformance cost - mean conformance: spearman rho: -0.522, p-value: 0.0000000000 \n",
      "Conformance cost - completeness: spearman rho: 0.487, p-value: 0.0000000000 \n",
      "Confidence: spearman rho: -0.441, p-value: 0.0000000000 \n",
      "Completeness: spearman rho: -0.344, p-value: 0.0000000000\n"
     ]
    }
   ],
   "source": [
    "BP_mean = BP_df.groupby(['model','log_type','TraceId']).agg({'conformance': np.mean, 'completeness': np.mean, 'confidence': np.mean}).reset_index()\n",
    "\n",
    "merged_df = pd.merge(c_3po_, BP_mean, on=['model','log_type','TraceId'])\n",
    "\n",
    "pred1 = merged_df['C_3PO_conf'] > 0\n",
    "pred2 = merged_df['conformance'] > 0\n",
    "\n",
    "filtered_df = merged_df.loc[pred1 & pred2, :]\n",
    "\n",
    "rho_conformance = stats.spearmanr(filtered_df['C_3PO_conf'], filtered_df['conformance'])\n",
    "rho_conformance_completeness = stats.spearmanr(filtered_df['C_3PO_conf'], filtered_df['completeness'])\n",
    "rho_confidence = stats.spearmanr(filtered_df['Confidence cost'], filtered_df['confidence'])\n",
    "rho_completeness = stats.spearmanr(filtered_df['Completeness cost'], filtered_df['completeness'])\n",
    "\n",
    "print(\n",
    "    'Conformance cost - mean conformance: spearman rho: {:.3f}, p-value: {:.10f}'.format(rho_conformance[0], rho_conformance[1]),\n",
    "    '\\nConformance cost - completeness: spearman rho: {:.3f}, p-value: {:.10f}'.format(rho_conformance_completeness[0], rho_conformance_completeness[1]), \n",
    "    '\\nConfidence: spearman rho: {:.3f}, p-value: {:.10f}'.format(rho_confidence[0], rho_confidence[1]),\n",
    "    '\\nCompleteness: spearman rho: {:.3f}, p-value: {:.10f}'.format(rho_completeness[0], rho_completeness[1])\n",
    ")"
   ]
  },
  {
   "cell_type": "markdown",
   "id": "fc4748d7",
   "metadata": {},
   "source": [
    "#### Remarks\n",
    "\n",
    "Conformance cost - mean conformance:\n",
    "- Higher correlation between conformance cost and conformance than with hmmconf. Same inverse relationship between the two metrics.\n",
    "\n",
    "Conformance cost - completeness:\n",
    "- Meaningfull as complete traces are longer than incomplete an thus the conformance cost will be greater.\n",
    "\n",
    "Confidence:\n",
    "- Similar relationship as with conformance cost and mean conformance. Higher confidence signals the opposite of high confidence in BP.\n",
    "\n",
    "Completeness:\n",
    "- Lesser but still expected negative correlation between the two metrics for the same reasons as with the other."
   ]
  },
  {
   "cell_type": "markdown",
   "id": "b9e81981",
   "metadata": {},
   "source": [
    "### Spearman correlation with all results"
   ]
  },
  {
   "cell_type": "markdown",
   "id": "306999a6",
   "metadata": {},
   "source": [
    "#### HMMCONF"
   ]
  },
  {
   "cell_type": "code",
   "execution_count": 37,
   "id": "d9b55460",
   "metadata": {},
   "outputs": [
    {
     "name": "stdout",
     "output_type": "stream",
     "text": [
      "Conformance cost - mean final conformance: spearman rho: -0.383, p-value: 0.0000000000 \n",
      "Conformance cost - injected distance: spearman rho: -0.140, p-value: 0.0000000003 \n",
      "Completeness cost - injected distance: spearman rho: 0.448, p-value: 0.0000000000 \n",
      "Completeness cost: spearman rho: -0.659, p-value: 0.0000000000\n"
     ]
    }
   ],
   "source": [
    "merged_df = pd.merge(hmmconf_mean_conf_compl, C_3PO_test, on=['model','log_type','TraceId'])\n",
    "\n",
    "rho_conf_mean_finalconf = stats.spearmanr(merged_df['Conformance cost'], merged_df['finalconf'])\n",
    "rho_conf_compl = stats.spearmanr(merged_df['Conformance cost'], merged_df['injected_distance'])\n",
    "rho_compl_injected_distance = stats.spearmanr(merged_df['Completeness cost'], merged_df['injected_distance'])\n",
    "rho_completeness = stats.spearmanr(merged_df['Completeness cost'], merged_df['completeness'])\n",
    "\n",
    "print(\n",
    "    'Conformance cost - mean final conformance: spearman rho: {:.3f}, p-value: {:.10f}'.format(rho_conf_mean_finalconf[0], rho_conf_mean_finalconf[1]),\n",
    "    '\\nConformance cost - injected distance: spearman rho: {:.3f}, p-value: {:.10f}'.format(rho_conf_compl[0], rho_conf_compl[1]), \n",
    "    '\\nCompleteness cost - injected distance: spearman rho: {:.3f}, p-value: {:.10f}'.format(rho_compl_injected_distance[0], rho_compl_injected_distance[1]),\n",
    "    '\\nCompleteness cost: spearman rho: {:.3f}, p-value: {:.10f}'.format(rho_completeness[0], rho_completeness[1])\n",
    ")"
   ]
  },
  {
   "cell_type": "markdown",
   "id": "6da42cdf",
   "metadata": {},
   "source": [
    "#### W-1"
   ]
  },
  {
   "cell_type": "code",
   "execution_count": 38,
   "id": "29b5eb32",
   "metadata": {},
   "outputs": [
    {
     "name": "stdout",
     "output_type": "stream",
     "text": [
      "Conformance cost: spearman rho: 0.961, p-value: 0.0000000000 \n",
      "Completeness cost - conformance cost: spearman rho: -0.470, p-value: 0.0000000000\n"
     ]
    }
   ],
   "source": [
    "merged_df = pd.merge(c_3po_, pref_w_1_, on=['model','log_type','TraceId'])\n",
    "\n",
    "rho_conf = stats.spearmanr(merged_df['C_3PO_conf'], merged_df['pref_w_1_conf'])\n",
    "rho_conf_compl = stats.spearmanr(merged_df['Completeness cost'],merged_df['pref_w_1_conf'])\n",
    "\n",
    "print(\n",
    "    'Conformance cost: spearman rho: {:.3f}, p-value: {:.10f}'.format(rho_conf[0], rho_conf[1]),\n",
    "    '\\nCompleteness cost - conformance cost: spearman rho: {:.3f}, p-value: {:.10f}'.format(rho_conf_compl[0], rho_conf_compl[1]), \n",
    ")"
   ]
  },
  {
   "cell_type": "markdown",
   "id": "2f98339e",
   "metadata": {},
   "source": [
    "#### W-inf"
   ]
  },
  {
   "cell_type": "code",
   "execution_count": 39,
   "id": "23c0244e",
   "metadata": {},
   "outputs": [
    {
     "name": "stdout",
     "output_type": "stream",
     "text": [
      "Conformance cost: spearman rho: 0.975, p-value: 0.0000000000 \n",
      "Completeness cost - conformance cost: spearman rho: -0.515, p-value: 0.0000000000\n"
     ]
    }
   ],
   "source": [
    "merged_df = pd.merge(c_3po_, pref_w_inf_, on=['model','log_type','TraceId'])\n",
    "\n",
    "rho_conf = stats.spearmanr(merged_df['C_3PO_conf'], merged_df['pref_w_inf_conf'])\n",
    "rho_conf_compl = stats.spearmanr(merged_df['Completeness cost'],merged_df['pref_w_inf_conf'])\n",
    "\n",
    "print(\n",
    "    'Conformance cost: spearman rho: {:.3f}, p-value: {:.10f}'.format(rho_conf[0], rho_conf[1]),\n",
    "    '\\nCompleteness cost - conformance cost: spearman rho: {:.3f}, p-value: {:.10f}'.format(rho_conf_compl[0], rho_conf_compl[1]), \n",
    ")"
   ]
  },
  {
   "cell_type": "markdown",
   "id": "63b9f8ba",
   "metadata": {},
   "source": [
    "#### BP"
   ]
  },
  {
   "cell_type": "code",
   "execution_count": 40,
   "id": "5ad26ad8",
   "metadata": {},
   "outputs": [
    {
     "name": "stdout",
     "output_type": "stream",
     "text": [
      "Conformance cost - mean conformance: spearman rho: -0.534, p-value: 0.0000000000 \n",
      "Conformance cost - completeness: spearman rho: 0.484, p-value: 0.0000000000 \n",
      "Confidence: spearman rho: -0.412, p-value: 0.0000000000 \n",
      "Completeness: spearman rho: -0.360, p-value: 0.0000000000\n"
     ]
    }
   ],
   "source": [
    "merged_df = pd.merge(c_3po_, BP_mean, on=['model','log_type','TraceId'])\n",
    "\n",
    "rho_conformance = stats.spearmanr(merged_df['C_3PO_conf'], merged_df['conformance'])\n",
    "rho_conformance_completeness = stats.spearmanr(merged_df['C_3PO_conf'], merged_df['completeness'])\n",
    "rho_confidence = stats.spearmanr(merged_df['Confidence cost'], merged_df['confidence'])\n",
    "rho_completeness = stats.spearmanr(merged_df['Completeness cost'], merged_df['completeness'])\n",
    "\n",
    "print(\n",
    "    'Conformance cost - mean conformance: spearman rho: {:.3f}, p-value: {:.10f}'.format(rho_conformance[0], rho_conformance[1]),\n",
    "    '\\nConformance cost - completeness: spearman rho: {:.3f}, p-value: {:.10f}'.format(rho_conformance_completeness[0], rho_conformance_completeness[1]), \n",
    "    '\\nConfidence: spearman rho: {:.3f}, p-value: {:.10f}'.format(rho_confidence[0], rho_confidence[1]),\n",
    "    '\\nCompleteness: spearman rho: {:.3f}, p-value: {:.10f}'.format(rho_completeness[0], rho_completeness[1])\n",
    ")"
   ]
  },
  {
   "cell_type": "markdown",
   "id": "a1277b37",
   "metadata": {},
   "source": [
    "## Cumulitative plots"
   ]
  },
  {
   "cell_type": "markdown",
   "id": "8508d911",
   "metadata": {},
   "source": [
    "### W-1"
   ]
  },
  {
   "cell_type": "code",
   "execution_count": 41,
   "id": "a119744c",
   "metadata": {},
   "outputs": [
    {
     "data": {
      "image/png": "[encoded data removed]",
      "text/plain": [
       "<Figure size 432x288 with 1 Axes>"
      ]
     },
     "metadata": {
      "needs_background": "light"
     },
     "output_type": "display_data"
    }
   ],
   "source": [
    "pref_w_1_df['occ'] = len(pref_w_1_df) * ['W-1']\n",
    "C_3PO_df['occ'] = len(C_3PO_df) * ['C-3PO']\n",
    "\n",
    "cumu_df = pd.concat([pref_w_1_df, C_3PO_df])\n",
    "\n",
    "sns.histplot(x='Conformance cost', data=cumu_df, hue='occ', bins=len(cumu_df), stat=\"density\",\n",
    "             element=\"step\", fill=False, cumulative=True, common_norm=False);\n",
    "plt.title(\"Cumulative distribution function\");"
   ]
  },
  {
   "cell_type": "markdown",
   "id": "125a4b22",
   "metadata": {},
   "source": [
    "#### Intrepretation\n",
    "\n",
    "- lines are crossing at ~0.5 which means the median of the two distributions is the same.\n",
    "- both plots exhibit an almost identical curve"
   ]
  },
  {
   "cell_type": "markdown",
   "id": "35344851",
   "metadata": {},
   "source": [
    "### W-inf"
   ]
  },
  {
   "cell_type": "code",
   "execution_count": 42,
   "id": "3bc608a3",
   "metadata": {},
   "outputs": [
    {
     "data": {
      "image/png": "[encoded data removed]",
      "text/plain": [
       "<Figure size 432x288 with 1 Axes>"
      ]
     },
     "metadata": {
      "needs_background": "light"
     },
     "output_type": "display_data"
    }
   ],
   "source": [
    "pref_w_inf_df['occ'] = len(pref_w_inf_df) * ['W-inf']\n",
    "\n",
    "cumu_df = pd.concat([pref_w_inf_df, C_3PO_df])\n",
    "\n",
    "sns.histplot(x='Conformance cost', data=cumu_df, hue='occ', bins=len(cumu_df), stat=\"density\",\n",
    "             element=\"step\", fill=False, cumulative=True, common_norm=False);\n",
    "plt.title(\"Cumulative distribution function\");"
   ]
  },
  {
   "cell_type": "markdown",
   "id": "438b4698",
   "metadata": {},
   "source": [
    "#### Intrepretation\n",
    "\n",
    "- lines are not crossing at ~0.5 which means the median of the two distributions is not the same."
   ]
  },
  {
   "cell_type": "code",
   "execution_count": 43,
   "id": "8d5dde65",
   "metadata": {},
   "outputs": [
    {
     "data": {
      "image/png": "[encoded data removed]",
      "text/plain": [
       "<Figure size 432x288 with 1 Axes>"
      ]
     },
     "metadata": {
      "needs_background": "light"
     },
     "output_type": "display_data"
    }
   ],
   "source": [
    "\"\"\"completenes logs\"\"\"\n",
    "cumu_df = cumu_df[cumu_df.log_type.isin(COMPLETENESS_LOGS)]\n",
    "\n",
    "sns.histplot(x='Conformance cost', data=cumu_df, hue='occ', bins=len(cumu_df), stat=\"density\",\n",
    "             element=\"step\", fill=False, cumulative=True, common_norm=False);\n",
    "plt.title(\"Cumulative distribution function\");"
   ]
  },
  {
   "cell_type": "code",
   "execution_count": 44,
   "id": "84db0035",
   "metadata": {},
   "outputs": [],
   "source": [
    "# Example:\n",
    "\n",
    "# < H > is missing as a model move in the OCC\n",
    "\n",
    "# size = 8 \\\n",
    "# Trace: {C,E,G,D,B,F,A,H}\n",
    "\n",
    "# (>>,A):1.0  \\\n",
    "# (C,C):0.0 \\\n",
    "# (E,E):0.0 \\\n",
    "# (G,G):0.0 \\\n",
    "# (>>,H):1.0                  <--- \\\n",
    "# (>>,F):1.0 \\\n",
    "# (D,D):0.0 \\\n",
    "# (B,B):0.0 \\\n",
    "# (F,>>):1.0 \\\n",
    "# (A,>>):1.0 \\\n",
    "# (H,>>):1.0\n",
    "\n",
    "# Total cost = 6\n",
    " \n",
    "# [logMove:>>, modelMove:A, cost:1] \\\n",
    "# [logMove:C, modelMove:C, cost:0] \\\n",
    "# [logMove:E, modelMove:E, cost:0] \\\n",
    "# [logMove:G, modelMove:G, cost:0] \\\n",
    "# [logMove:D, modelMove:>>, cost:1] \\\n",
    "# [logMove:B, modelMove:>>, cost:1] \\\n",
    "# [logMove:F, modelMove:>>, cost:1] \\\n",
    "# [logMove:A, modelMove:>>, cost:1] \\\n",
    "# [logMove:H, modelMove:H, cost:0]\n",
    "\n",
    "# Total cost:5"
   ]
  },
  {
   "cell_type": "markdown",
   "id": "3c0c1c41",
   "metadata": {},
   "source": [
    "## Real life data set evaluation"
   ]
  },
  {
   "cell_type": "code",
   "execution_count": 45,
   "id": "401ede69",
   "metadata": {},
   "outputs": [
    {
     "data": {
      "application/vnd.jupyter.widget-view+json": {
       "model_id": "b5c34dcfea194d9481ec27b56ec19a96",
       "version_major": 2,
       "version_minor": 0
      },
      "text/plain": [
       "parsing log, completed traces ::   0%|          | 0/100000 [00:00<?, ?it/s]"
      ]
     },
     "metadata": {},
     "output_type": "display_data"
    }
   ],
   "source": [
    "import os\n",
    "import pm4py\n",
    "from pm4py.util import constants\n",
    "from pm4py.statistics.traces.generic.log import case_statistics\n",
    "from pm4py.visualization.graphs import visualizer as graphs_visualizer\n",
    "\n",
    "RL_DIR = os.path.join('..','real-life-dataset','Hospital Billing')\n",
    "\n",
    "log_path = os.path.join(RL_DIR,\"Hospital Billing - Event Log.xes\")\n",
    "log = pm4py.read_xes(log_path)"
   ]
  },
  {
   "cell_type": "code",
   "execution_count": 46,
   "id": "87e16410",
   "metadata": {},
   "outputs": [
    {
     "name": "stdout",
     "output_type": "stream",
     "text": [
      "P4PY inbuilt function to plot kernel density case duration\n"
     ]
    },
    {
     "data": {
      "image/png": "[encoded data removed]",
      "text/plain": [
       "<IPython.core.display.Image object>"
      ]
     },
     "metadata": {},
     "output_type": "display_data"
    }
   ],
   "source": [
    "\"\"\" case duration distribution \"\"\"\n",
    "x, y = case_statistics.get_kde_caseduration(log, parameters={constants.PARAMETER_CONSTANT_TIMESTAMP_KEY: \"time:timestamp\"})\n",
    "\n",
    "msg = \"P4PY inbuilt function to plot kernel density case duration\"\n",
    "print(msg)\n",
    "\n",
    "gviz = graphs_visualizer.apply_plot(x, y, variant=graphs_visualizer.Variants.CASES)\n",
    "graphs_visualizer.view(gviz)\n",
    "\n",
    "# gviz = graphs_visualizer.apply_semilogx(x, y, variant=graphs_visualizer.Variants.CASES)\n",
    "# graphs_visualizer.view(gviz)                 "
   ]
  },
  {
   "cell_type": "code",
   "execution_count": 47,
   "id": "6343761c",
   "metadata": {},
   "outputs": [],
   "source": [
    "result_path = os.path.join(RL_DIR, 'result.csv')\n",
    "result_df = pd.read_csv(result_path)\n",
    "result_df = result_df.rename(columns={\n",
    "    ' Activity':'Activity',\n",
    "    ' Conformance cost':'Conformance cost',\n",
    "    ' Completeness cost':'Completeness cost',\n",
    "    ' Confidence cost':'Confidence cost',\n",
    "    ' total cost':'total cost',\n",
    "    ' ExecutionTime_TRIE_STREAMING_C_3PO': 'ExecutionTime'\n",
    "})"
   ]
  },
  {
   "cell_type": "code",
   "execution_count": 48,
   "id": "f4e3ec55",
   "metadata": {},
   "outputs": [],
   "source": [
    "\"\"\" removing noise categorized by high number of consecutive repeating activities \"\"\"\n",
    "\n",
    "t_ = result_df.groupby('TraceId')['Activity'].value_counts().groupby(level=0).head(1)\n",
    "t_ = t_[t_ < 5]\n",
    "idxs = t_.index.to_flat_index()\n",
    "idxs = list(list(zip(*idxs))[0])\n",
    "result_df = result_df.loc[result_df.TraceId.isin(idxs)]\n",
    "\n",
    "\"\"\" removing short cases < 10 \"\"\"\n",
    "t_ = result_df.groupby('TraceId').agg(np.size)\n",
    "t_ = t_[t_ > 10].dropna()\n",
    "result_df = result_df.loc[result_df.TraceId.isin(t_.index.values)]"
   ]
  },
  {
   "cell_type": "code",
   "execution_count": 49,
   "id": "1ff249c8",
   "metadata": {},
   "outputs": [
    {
     "name": "stdout",
     "output_type": "stream",
     "text": [
      "removed noise categorized by high number of consecutive repeating activities with threshold 5\n",
      "removing short cases < 10\n",
      "__________________________________________________________________________________________\n",
      "<class 'pandas.core.frame.DataFrame'>\n",
      "Int64Index: 20560 entries, 413 to 445521\n",
      "Data columns (total 7 columns):\n",
      " #   Column             Non-Null Count  Dtype  \n",
      "---  ------             --------------  -----  \n",
      " 0   TraceId            20560 non-null  int64  \n",
      " 1   Activity           20560 non-null  object \n",
      " 2   Conformance cost   20560 non-null  int64  \n",
      " 3   Completeness cost  20560 non-null  int64  \n",
      " 4   Confidence cost    20560 non-null  float64\n",
      " 5   total cost         20560 non-null  float64\n",
      " 6   ExecutionTime      20560 non-null  int64  \n",
      "dtypes: float64(2), int64(4), object(1)\n",
      "memory usage: 1.3+ MB\n"
     ]
    }
   ],
   "source": [
    "msg = \"removed noise categorized by high number of consecutive repeating activities with threshold 5\\n\\\n",
    "removing short cases < 10\"\n",
    "\n",
    "print(msg)\n",
    "print(90*\"_\")\n",
    "result_df.info()"
   ]
  },
  {
   "cell_type": "code",
   "execution_count": 50,
   "id": "c338cded",
   "metadata": {},
   "outputs": [
    {
     "data": {
      "image/png": "[encoded data removed]",
      "text/plain": [
       "<Figure size 1080x720 with 1 Axes>"
      ]
     },
     "metadata": {
      "needs_background": "light"
     },
     "output_type": "display_data"
    }
   ],
   "source": [
    "\"\"\" non conforming cases \"\"\"\n",
    "\n",
    "result_ = result_df[result_df['Conformance cost'] > 0]\n",
    "\n",
    "plt.figure(figsize=(15,10))\n",
    "sns.boxplot(x='Activity', y='Conformance cost', data=result_.sort_values('Activity'));\n",
    "plt.xticks(rotation=90)\n",
    "plt.title(\"Boxplot: activities alignment cost distribution on non conforming cases\");"
   ]
  },
  {
   "cell_type": "code",
   "execution_count": 51,
   "id": "8d250275",
   "metadata": {},
   "outputs": [
    {
     "data": {
      "image/png": "[encoded data removed]",
      "text/plain": [
       "<Figure size 432x288 with 1 Axes>"
      ]
     },
     "metadata": {
      "needs_background": "light"
     },
     "output_type": "display_data"
    }
   ],
   "source": [
    "result__ = result_.groupby('TraceId')['Conformance cost'].agg({np.max})\n",
    "\n",
    "sns.kdeplot(x=[val for li in result__.values for val in li], data=result__.index, common_norm=False);\n",
    "plt.ylabel(\"Case density\")\n",
    "plt.xlabel(\"Conformance cost\")\n",
    "plt.title(\"Conformance cost distribution on cases\");"
   ]
  }
 ],
 "metadata": {
  "kernelspec": {
   "display_name": "Python 3 (ipykernel)",
   "language": "python",
   "name": "python3"
  },
  "language_info": {
   "codemirror_mode": {
    "name": "ipython",
    "version": 3
   },
   "file_extension": ".py",
   "mimetype": "text/x-python",
   "name": "python",
   "nbconvert_exporter": "python",
   "pygments_lexer": "ipython3",
   "version": "3.10.6"
  },
  "vscode": {
   "interpreter": {
    "hash": "25d6012917853ab56ac3c0c43a572b9f081fd0d0a57566470a8dce2a44076518"
   }
  }
 },
 "nbformat": 4,
 "nbformat_minor": 5
}

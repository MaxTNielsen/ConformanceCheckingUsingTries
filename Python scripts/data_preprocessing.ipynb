{
 "cells": [
  {
   "cell_type": "code",
   "execution_count": 11,
   "id": "8deffc8e",
   "metadata": {},
   "outputs": [
    {
     "data": {
      "image/png": "[encoded data removed]",
      "text/plain": [
       "<Figure size 360x360 with 1 Axes>"
      ]
     },
     "metadata": {
      "needs_background": "light"
     },
     "output_type": "display_data"
    }
   ],
   "source": [
    "import xml.etree.ElementTree as ET\n",
    "import pandas as pd\n",
    "import seaborn as sns\n",
    "import matplotlib.pyplot as plt\n",
    "\n",
    "FILE_NAME = \"logs/M1.xes\"\n",
    "tree = ET.parse(FILE_NAME)\n",
    "root = tree.getroot()\n",
    "\n",
    "def get_traces():\n",
    "    traces_dict = {}\n",
    "    \n",
    "    for trace in root.findall('trace'):\n",
    "        trace_id = trace.find(\"string\").attrib['value']\n",
    "        traces_dict[trace_id] = []\n",
    "        for attribute in trace.findall(\".//event/string[2]\"):\n",
    "            traces_dict[trace_id].append(attribute.attrib['value'])\n",
    "            \n",
    "        traces_dict[trace_id] = len(traces_dict[trace_id])\n",
    "    \n",
    "    return traces_dict\n",
    "\n",
    "s = pd.Series(get_traces())\n",
    "\n",
    "ax = sns.displot(s)"
   ]
  },
  {
   "cell_type": "code",
   "execution_count": 12,
   "id": "018ce560",
   "metadata": {},
   "outputs": [
    {
     "data": {
      "image/png": "[encoded data removed]",
      "text/plain": [
       "<Figure size 432x288 with 1 Axes>"
      ]
     },
     "metadata": {
      "needs_background": "light"
     },
     "output_type": "display_data"
    }
   ],
   "source": [
    "ax = s.plot.kde()"
   ]
  },
  {
   "cell_type": "code",
   "execution_count": 13,
   "id": "dff4c393",
   "metadata": {},
   "outputs": [
    {
     "data": {
      "text/plain": [
       "count    500.000000\n",
       "mean      13.110000\n",
       "std        4.948826\n",
       "min        8.000000\n",
       "25%        8.000000\n",
       "50%       13.000000\n",
       "75%       15.000000\n",
       "max       37.000000\n",
       "dtype: float64"
      ]
     },
     "execution_count": 13,
     "metadata": {},
     "output_type": "execute_result"
    }
   ],
   "source": [
    "s.describe()"
   ]
  },
  {
   "cell_type": "code",
   "execution_count": 14,
   "id": "9fd3ad72",
   "metadata": {},
   "outputs": [
    {
     "name": "stdout",
     "output_type": "stream",
     "text": [
      "min length trace: 8\n",
      "Count of traces of size 8: 129\n"
     ]
    }
   ],
   "source": [
    "min_length = s.iloc[s.argmin()]\n",
    "print(\"min length trace: {}\".format(min_length))\n",
    "\n",
    "min_length_traces = s[s < min_length+1]\n",
    "\n",
    "print(\"Count of traces of size {}: {}\".format(min_length,min_length_traces.count()))"
   ]
  },
  {
   "cell_type": "code",
   "execution_count": 15,
   "id": "0356161c",
   "metadata": {},
   "outputs": [
    {
     "name": "stdout",
     "output_type": "stream",
     "text": [
      "max length trace: 37\n",
      "Count of traces of size 37: 2\n"
     ]
    }
   ],
   "source": [
    "max_length = s.iloc[s.argmax()]\n",
    "print(\"max length trace: {}\".format(max_length))\n",
    "\n",
    "max_length_traces = s[s > max_length-1]\n",
    "\n",
    "print(\"Count of traces of size {}: {}\".format(max_length,max_length_traces.count()))"
   ]
  },
  {
   "cell_type": "code",
   "execution_count": 16,
   "id": "cb1cc96f",
   "metadata": {},
   "outputs": [
    {
     "name": "stdout",
     "output_type": "stream",
     "text": [
      "trace_id_min: instance_291 \n",
      "trace_id_max: instance_383\n"
     ]
    }
   ],
   "source": [
    "# Get trace id for trace of min and max length\n",
    "\n",
    "trace_id_min = min_length_traces.index[0]\n",
    "trace_id_max = max_length_traces.index[0]\n",
    "\n",
    "print(\"trace_id_min: {} \\ntrace_id_max: {}\".format(trace_id_min, trace_id_max))"
   ]
  },
  {
   "cell_type": "code",
   "execution_count": 8,
   "id": "c666fc32",
   "metadata": {},
   "outputs": [],
   "source": [
    "# make logs\n",
    "\n",
    "traces_dict = get_traces()\n",
    "trace_idx_last = len(list(traces_dict.keys()))\n",
    "\n",
    "def make_log(trace_id, file_name, title):\n",
    "    tree = ET.parse(FILE_NAME)\n",
    "    root = tree.getroot()\n",
    "    s = \".//*[@value='instance_{}']..\".format(trace_id)\n",
    "    trace_xml = root.findall(s)[0]\n",
    "\n",
    "    for i in range(0,round(trace_idx_last/4)):\n",
    "        xml_root = ET.Element(trace_xml.tag)\n",
    "        xml_string = ET.SubElement(xml_root, 'string', key='concept:name', value=\"instance_\"+str(trace_idx_last+i))\n",
    "        xml_string = ET.SubElement(xml_root, 'string', key='LogType', value='MXML.EnactmentLog')\n",
    "        xml_events = trace_xml.findall(\"./event\")\n",
    "        for event in xml_events:\n",
    "            xml_event = ET.SubElement(xml_root, 'event')\n",
    "            for val in event:\n",
    "                xml_attrib = ET.SubElement(xml_event, val.tag, key=val.attrib['key'], value=val.attrib['value'])\n",
    "        \n",
    "        root.append(xml_root)\n",
    "\n",
    "    root.findall(\"./*[@key='concept:name']\")[0].set('value', title)\n",
    "\n",
    "    tree.write('logs/'+file_name, encoding=\"UTF-8\")\n",
    "\n",
    "make_log(int(trace_id_min[9:]), 'M1_sim_short.xes', \"short trace log\")\n",
    "make_log(int(trace_id_max[9:]), 'M1_sim_long.xes', \"long trace log\")"
   ]
  }
 ],
 "metadata": {
  "kernelspec": {
   "display_name": "Python 3 (ipykernel)",
   "language": "python",
   "name": "python3"
  },
  "language_info": {
   "codemirror_mode": {
    "name": "ipython",
    "version": 3
   },
   "file_extension": ".py",
   "mimetype": "text/x-python",
   "name": "python",
   "nbconvert_exporter": "python",
   "pygments_lexer": "ipython3",
   "version": "3.10.6"
  }
 },
 "nbformat": 4,
 "nbformat_minor": 5
}
